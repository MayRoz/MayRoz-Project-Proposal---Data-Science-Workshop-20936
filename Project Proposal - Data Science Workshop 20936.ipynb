{
 "cells": [
  {
   "cell_type": "markdown",
   "id": "5f4bf5ee",
   "metadata": {},
   "source": [
    "## Olympic games  - Data exploration about  the participating countries, athletes, achievements and the relationship between them.\n",
    "\n",
    "Hello my name is May Rozental (id:307929430), young computer science student who passionate about data science.\n"
   ]
  },
  {
   "cell_type": "markdown",
   "id": "358c19b8",
   "metadata": {},
   "source": [
    "# Introduction\n",
    "\n",
    "The theme of the final project is to examine the causes of success / failure in the Olympic Games over the years. We will analyze the data set that contains information about the Olympic Games in comparison with the world population index and GDP.\n",
    "\n",
    "We will be asked guiding questions through which we will investigate in depth with the help of data analysis and data mining whether the connection between success / failure in the Olympic Games and the physical data of the contestants themselves or is related to the economic power of the country they come from.\n",
    "To this end, we will create and be loyal to a model that will learn to predict the percentage of success for a contestant in winning a medal before a sport.\n",
    "\n",
    "As is well known, the Olympic Games are the largest sporting event in the world since 1896, held every 4 years with the largest number of competitors in 26 different sports. Because of the size of the class and the scope of the competition, the Olympic medals are considered the most prestigious and the winners are considered the best in the world, and since the coverage around the Games is global, it is important that each country has adequate representation in the competition."
   ]
  },
  {
   "cell_type": "markdown",
   "id": "482ecff6",
   "metadata": {},
   "source": [
    "# Motivation and Purposes\n",
    "\n",
    "Analyzing the data of the Olympic Games can be a significant and strategic tool in understanding the chances of success of any team.\n",
    "Based on the long history of the Games, a model can be built for each sport in terms of age, height and weight of contestants with a greater chance of success and in addition measure the chance of success given the country's investment in the Olympic team (since we rely on GDP data richer countries More also in sports).\n",
    "\n",
    "For this purpose, there are quite a few difficulties, such as missing appropriate data for analysis and difficulties in switching between many different types of data.\n",
    "\n",
    "In order to overcome the obstacles I will try to explore additional options that may give help.\n"
   ]
  },
  {
   "cell_type": "markdown",
   "id": "2a5041c7",
   "metadata": {},
   "source": [
    "# Soruce of the data \n",
    "\n",
    "I use the olympics dataset from kaggle, and decided to merge it with gdp and population per capita that also from kaggle."
   ]
  },
  {
   "cell_type": "markdown",
   "id": "f4a97840",
   "metadata": {},
   "source": [
    "# Personal Code"
   ]
  },
  {
   "cell_type": "code",
   "execution_count": 1,
   "id": "f886d535",
   "metadata": {},
   "outputs": [],
   "source": [
    "import numpy as np\n",
    "import pandas as pd\n",
    "import seaborn as sns\n",
    "from matplotlib import pyplot as plt\n",
    "import sys\n",
    "import plotly.graph_objs as go\n",
    "from plotly.offline import download_plotlyjs,init_notebook_mode,plot,iplot\n",
    "import sklearn as skl\n",
    "from sklearn import linear_model,datasets\n",
    "from sklearn.linear_model import LinearRegression\n",
    "from sklearn.datasets._samples_generator import make_blobs\n",
    "from sklearn.metrics import pairwise_distances_argmin"
   ]
  },
  {
   "cell_type": "markdown",
   "id": "baadbd70",
   "metadata": {},
   "source": [
    "# EDA"
   ]
  },
  {
   "cell_type": "code",
   "execution_count": 2,
   "id": "2069425e",
   "metadata": {},
   "outputs": [
    {
     "name": "stdout",
     "output_type": "stream",
     "text": [
      "<class 'pandas.core.frame.DataFrame'>\n",
      "RangeIndex: 201 entries, 0 to 200\n",
      "Data columns (total 4 columns):\n",
      " #   Column          Non-Null Count  Dtype  \n",
      "---  ------          --------------  -----  \n",
      " 0   Country         201 non-null    object \n",
      " 1   Code            201 non-null    object \n",
      " 2   Population      196 non-null    float64\n",
      " 3   GDP per Capita  176 non-null    float64\n",
      "dtypes: float64(2), object(2)\n",
      "memory usage: 6.4+ KB\n"
     ]
    }
   ],
   "source": [
    "#Let's read the first dataSet of dictionary.csv\n",
    "gdp=pd.read_csv('/Users/mayrozental/Desktop/אוניברסיטה/מדמ״ח/סדנה במדעי הנתונים/DataSets/dictionary.csv')\n",
    "gdp.info()"
   ]
  },
  {
   "cell_type": "code",
   "execution_count": 3,
   "id": "fa3f8022",
   "metadata": {},
   "outputs": [
    {
     "data": {
      "text/html": [
       "<div>\n",
       "<style scoped>\n",
       "    .dataframe tbody tr th:only-of-type {\n",
       "        vertical-align: middle;\n",
       "    }\n",
       "\n",
       "    .dataframe tbody tr th {\n",
       "        vertical-align: top;\n",
       "    }\n",
       "\n",
       "    .dataframe thead th {\n",
       "        text-align: right;\n",
       "    }\n",
       "</style>\n",
       "<table border=\"1\" class=\"dataframe\">\n",
       "  <thead>\n",
       "    <tr style=\"text-align: right;\">\n",
       "      <th></th>\n",
       "      <th>Country</th>\n",
       "      <th>Code</th>\n",
       "      <th>Population</th>\n",
       "      <th>GDP</th>\n",
       "    </tr>\n",
       "  </thead>\n",
       "  <tbody>\n",
       "    <tr>\n",
       "      <th>0</th>\n",
       "      <td>Afghanistan</td>\n",
       "      <td>AFG</td>\n",
       "      <td>32526562.0</td>\n",
       "      <td>594.323081</td>\n",
       "    </tr>\n",
       "    <tr>\n",
       "      <th>1</th>\n",
       "      <td>Albania</td>\n",
       "      <td>ALB</td>\n",
       "      <td>2889167.0</td>\n",
       "      <td>3945.217582</td>\n",
       "    </tr>\n",
       "    <tr>\n",
       "      <th>2</th>\n",
       "      <td>Algeria</td>\n",
       "      <td>ALG</td>\n",
       "      <td>39666519.0</td>\n",
       "      <td>4206.031232</td>\n",
       "    </tr>\n",
       "    <tr>\n",
       "      <th>3</th>\n",
       "      <td>American Samoa*</td>\n",
       "      <td>ASA</td>\n",
       "      <td>55538.0</td>\n",
       "      <td>NaN</td>\n",
       "    </tr>\n",
       "    <tr>\n",
       "      <th>4</th>\n",
       "      <td>Andorra</td>\n",
       "      <td>AND</td>\n",
       "      <td>70473.0</td>\n",
       "      <td>NaN</td>\n",
       "    </tr>\n",
       "    <tr>\n",
       "      <th>5</th>\n",
       "      <td>Angola</td>\n",
       "      <td>ANG</td>\n",
       "      <td>25021974.0</td>\n",
       "      <td>4101.472152</td>\n",
       "    </tr>\n",
       "    <tr>\n",
       "      <th>6</th>\n",
       "      <td>Antigua and Barbuda</td>\n",
       "      <td>ANT</td>\n",
       "      <td>91818.0</td>\n",
       "      <td>13714.731962</td>\n",
       "    </tr>\n",
       "    <tr>\n",
       "      <th>7</th>\n",
       "      <td>Argentina</td>\n",
       "      <td>ARG</td>\n",
       "      <td>43416755.0</td>\n",
       "      <td>13431.878340</td>\n",
       "    </tr>\n",
       "    <tr>\n",
       "      <th>8</th>\n",
       "      <td>Armenia</td>\n",
       "      <td>ARM</td>\n",
       "      <td>3017712.0</td>\n",
       "      <td>3489.127690</td>\n",
       "    </tr>\n",
       "    <tr>\n",
       "      <th>9</th>\n",
       "      <td>Aruba*</td>\n",
       "      <td>ARU</td>\n",
       "      <td>103889.0</td>\n",
       "      <td>NaN</td>\n",
       "    </tr>\n",
       "  </tbody>\n",
       "</table>\n",
       "</div>"
      ],
      "text/plain": [
       "               Country Code  Population           GDP\n",
       "0          Afghanistan  AFG  32526562.0    594.323081\n",
       "1              Albania  ALB   2889167.0   3945.217582\n",
       "2              Algeria  ALG  39666519.0   4206.031232\n",
       "3      American Samoa*  ASA     55538.0           NaN\n",
       "4              Andorra  AND     70473.0           NaN\n",
       "5               Angola  ANG  25021974.0   4101.472152\n",
       "6  Antigua and Barbuda  ANT     91818.0  13714.731962\n",
       "7            Argentina  ARG  43416755.0  13431.878340\n",
       "8              Armenia  ARM   3017712.0   3489.127690\n",
       "9               Aruba*  ARU    103889.0           NaN"
      ]
     },
     "execution_count": 3,
     "metadata": {},
     "output_type": "execute_result"
    }
   ],
   "source": [
    "gdp.rename(columns={'GDP per Capita':'GDP'},inplace=True)\n",
    "gdp.head(10)"
   ]
  },
  {
   "cell_type": "code",
   "execution_count": 4,
   "id": "7494fb05",
   "metadata": {},
   "outputs": [
    {
     "data": {
      "text/html": [
       "<div>\n",
       "<style scoped>\n",
       "    .dataframe tbody tr th:only-of-type {\n",
       "        vertical-align: middle;\n",
       "    }\n",
       "\n",
       "    .dataframe tbody tr th {\n",
       "        vertical-align: top;\n",
       "    }\n",
       "\n",
       "    .dataframe thead th {\n",
       "        text-align: right;\n",
       "    }\n",
       "</style>\n",
       "<table border=\"1\" class=\"dataframe\">\n",
       "  <thead>\n",
       "    <tr style=\"text-align: right;\">\n",
       "      <th></th>\n",
       "      <th>Total</th>\n",
       "      <th>Percent</th>\n",
       "    </tr>\n",
       "  </thead>\n",
       "  <tbody>\n",
       "    <tr>\n",
       "      <th>GDP</th>\n",
       "      <td>25</td>\n",
       "      <td>12.437811</td>\n",
       "    </tr>\n",
       "    <tr>\n",
       "      <th>Population</th>\n",
       "      <td>5</td>\n",
       "      <td>2.487562</td>\n",
       "    </tr>\n",
       "    <tr>\n",
       "      <th>Country</th>\n",
       "      <td>0</td>\n",
       "      <td>0.000000</td>\n",
       "    </tr>\n",
       "    <tr>\n",
       "      <th>Code</th>\n",
       "      <td>0</td>\n",
       "      <td>0.000000</td>\n",
       "    </tr>\n",
       "  </tbody>\n",
       "</table>\n",
       "</div>"
      ],
      "text/plain": [
       "            Total    Percent\n",
       "GDP            25  12.437811\n",
       "Population      5   2.487562\n",
       "Country         0   0.000000\n",
       "Code            0   0.000000"
      ]
     },
     "execution_count": 4,
     "metadata": {},
     "output_type": "execute_result"
    }
   ],
   "source": [
    "total = gdp.isnull().sum().sort_values(ascending = False)\n",
    "percent = (gdp.isnull().sum()/gdp.isnull().count()*100).sort_values(ascending = False)\n",
    "pd.concat([total, percent], axis=1, keys=['Total', 'Percent'])"
   ]
  },
  {
   "cell_type": "markdown",
   "id": "2bf55fdb",
   "metadata": {},
   "source": [
    "Let's understand what we got.\n",
    "We have 201 rows (countries) and 4 columns. The variables include country, code, population, product per capita.\n",
    "In addition, it can be seen that out of the 201 countries - five countries lack population data and twenty-five of the countries lack GDP per capita data. Later we will understand whether these are overlapping countries and whether the lack of these countries can cause us any structural bias."
   ]
  },
  {
   "cell_type": "code",
   "execution_count": 5,
   "id": "84b1cb4c",
   "metadata": {},
   "outputs": [
    {
     "name": "stdout",
     "output_type": "stream",
     "text": [
      "<class 'pandas.core.frame.DataFrame'>\n",
      "RangeIndex: 271116 entries, 0 to 271115\n",
      "Data columns (total 15 columns):\n",
      " #   Column  Non-Null Count   Dtype  \n",
      "---  ------  --------------   -----  \n",
      " 0   ID      271116 non-null  int64  \n",
      " 1   Name    271116 non-null  object \n",
      " 2   Sex     271116 non-null  object \n",
      " 3   Age     261642 non-null  float64\n",
      " 4   Height  210945 non-null  float64\n",
      " 5   Weight  208241 non-null  float64\n",
      " 6   Team    271116 non-null  object \n",
      " 7   NOC     271116 non-null  object \n",
      " 8   Games   271116 non-null  object \n",
      " 9   Year    271116 non-null  int64  \n",
      " 10  Season  271116 non-null  object \n",
      " 11  City    271116 non-null  object \n",
      " 12  Sport   271116 non-null  object \n",
      " 13  Event   271116 non-null  object \n",
      " 14  Medal   39783 non-null   object \n",
      "dtypes: float64(3), int64(2), object(10)\n",
      "memory usage: 31.0+ MB\n"
     ]
    }
   ],
   "source": [
    "#Let's read the second dataSet of athlete_events.csv\n",
    "athlete=pd.read_csv('/Users/mayrozental/Desktop/אוניברסיטה/מדמ״ח/סדנה במדעי הנתונים/DataSets/athlete_events.csv')\n",
    "athlete.info()"
   ]
  },
  {
   "cell_type": "markdown",
   "id": "90978f72",
   "metadata": {},
   "source": [
    "We have 271,116 rows (All competitors who participated in the Games from 1896 to 2016) and 15 columns. The variables include ID ,Name ,Sex ,Age ,Height ,Weight ,Team ,Noc ,Games ,Year ,Season ,City ,Sport ,Event ,Medal. \n",
    "\n",
    "Let's check if there is missing data"
   ]
  },
  {
   "cell_type": "code",
   "execution_count": 6,
   "id": "a8520105",
   "metadata": {},
   "outputs": [
    {
     "data": {
      "text/html": [
       "<div>\n",
       "<style scoped>\n",
       "    .dataframe tbody tr th:only-of-type {\n",
       "        vertical-align: middle;\n",
       "    }\n",
       "\n",
       "    .dataframe tbody tr th {\n",
       "        vertical-align: top;\n",
       "    }\n",
       "\n",
       "    .dataframe thead th {\n",
       "        text-align: right;\n",
       "    }\n",
       "</style>\n",
       "<table border=\"1\" class=\"dataframe\">\n",
       "  <thead>\n",
       "    <tr style=\"text-align: right;\">\n",
       "      <th></th>\n",
       "      <th>Total</th>\n",
       "      <th>Percent</th>\n",
       "    </tr>\n",
       "  </thead>\n",
       "  <tbody>\n",
       "    <tr>\n",
       "      <th>Medal</th>\n",
       "      <td>231333</td>\n",
       "      <td>85.326207</td>\n",
       "    </tr>\n",
       "    <tr>\n",
       "      <th>Weight</th>\n",
       "      <td>62875</td>\n",
       "      <td>23.191180</td>\n",
       "    </tr>\n",
       "    <tr>\n",
       "      <th>Height</th>\n",
       "      <td>60171</td>\n",
       "      <td>22.193821</td>\n",
       "    </tr>\n",
       "    <tr>\n",
       "      <th>Age</th>\n",
       "      <td>9474</td>\n",
       "      <td>3.494445</td>\n",
       "    </tr>\n",
       "    <tr>\n",
       "      <th>ID</th>\n",
       "      <td>0</td>\n",
       "      <td>0.000000</td>\n",
       "    </tr>\n",
       "    <tr>\n",
       "      <th>Name</th>\n",
       "      <td>0</td>\n",
       "      <td>0.000000</td>\n",
       "    </tr>\n",
       "    <tr>\n",
       "      <th>Sex</th>\n",
       "      <td>0</td>\n",
       "      <td>0.000000</td>\n",
       "    </tr>\n",
       "    <tr>\n",
       "      <th>Team</th>\n",
       "      <td>0</td>\n",
       "      <td>0.000000</td>\n",
       "    </tr>\n",
       "    <tr>\n",
       "      <th>NOC</th>\n",
       "      <td>0</td>\n",
       "      <td>0.000000</td>\n",
       "    </tr>\n",
       "    <tr>\n",
       "      <th>Games</th>\n",
       "      <td>0</td>\n",
       "      <td>0.000000</td>\n",
       "    </tr>\n",
       "    <tr>\n",
       "      <th>Year</th>\n",
       "      <td>0</td>\n",
       "      <td>0.000000</td>\n",
       "    </tr>\n",
       "    <tr>\n",
       "      <th>Season</th>\n",
       "      <td>0</td>\n",
       "      <td>0.000000</td>\n",
       "    </tr>\n",
       "    <tr>\n",
       "      <th>City</th>\n",
       "      <td>0</td>\n",
       "      <td>0.000000</td>\n",
       "    </tr>\n",
       "    <tr>\n",
       "      <th>Sport</th>\n",
       "      <td>0</td>\n",
       "      <td>0.000000</td>\n",
       "    </tr>\n",
       "    <tr>\n",
       "      <th>Event</th>\n",
       "      <td>0</td>\n",
       "      <td>0.000000</td>\n",
       "    </tr>\n",
       "  </tbody>\n",
       "</table>\n",
       "</div>"
      ],
      "text/plain": [
       "         Total    Percent\n",
       "Medal   231333  85.326207\n",
       "Weight   62875  23.191180\n",
       "Height   60171  22.193821\n",
       "Age       9474   3.494445\n",
       "ID           0   0.000000\n",
       "Name         0   0.000000\n",
       "Sex          0   0.000000\n",
       "Team         0   0.000000\n",
       "NOC          0   0.000000\n",
       "Games        0   0.000000\n",
       "Year         0   0.000000\n",
       "Season       0   0.000000\n",
       "City         0   0.000000\n",
       "Sport        0   0.000000\n",
       "Event        0   0.000000"
      ]
     },
     "execution_count": 6,
     "metadata": {},
     "output_type": "execute_result"
    }
   ],
   "source": [
    "total = athlete.isnull().sum().sort_values(ascending = False)\n",
    "percent = (athlete.isnull().sum()/athlete.isnull().count()*100).sort_values(ascending = False)\n",
    "pd.concat([total, percent], axis=1, keys=['Total', 'Percent'])"
   ]
  },
  {
   "cell_type": "markdown",
   "id": "96f17417",
   "metadata": {},
   "source": [
    "Now we can see how much values are null. \n",
    "We find that height and weight having more then 20% of missing data and Age 3.5% of missing values.\n",
    "\n",
    "At this point we still do not know how this will affect the conclusions and prediction we want to reach.\n",
    "Since at this stage we can get an indication that the missing values in the category of medals reflect the amount of people who did not win the medal.\n",
    "For convenience we will replace these nulls with \"DNW\" meaning \"did not win\"."
   ]
  },
  {
   "cell_type": "code",
   "execution_count": 7,
   "id": "ec2d1fd1",
   "metadata": {},
   "outputs": [],
   "source": [
    "athlete['Medal'].fillna('DNW',inplace=True)\n",
    "# DNW = did not win"
   ]
  },
  {
   "cell_type": "markdown",
   "id": "02295f5e",
   "metadata": {},
   "source": [
    "After an overview of the two sets we have, we would like to make a merge.\n",
    "We have two columns with different names (Noc and Code) but basically both represent the same values so we will change the Code to noc for merging the sets."
   ]
  },
  {
   "cell_type": "code",
   "execution_count": 8,
   "id": "47f2dc6c",
   "metadata": {},
   "outputs": [
    {
     "name": "stdout",
     "output_type": "stream",
     "text": [
      "<class 'pandas.core.frame.DataFrame'>\n",
      "Int64Index: 271116 entries, 0 to 271115\n",
      "Data columns (total 15 columns):\n",
      " #   Column      Non-Null Count   Dtype  \n",
      "---  ------      --------------   -----  \n",
      " 0   ID          271116 non-null  int64  \n",
      " 1   Name        271116 non-null  object \n",
      " 2   Sex         271116 non-null  object \n",
      " 3   Age         261642 non-null  float64\n",
      " 4   Height      210945 non-null  float64\n",
      " 5   Weight      208241 non-null  float64\n",
      " 6   Country     271116 non-null  object \n",
      " 7   NOC         271116 non-null  object \n",
      " 8   Year        271116 non-null  int64  \n",
      " 9   City        271116 non-null  object \n",
      " 10  Sport       271116 non-null  object \n",
      " 11  Event       271116 non-null  object \n",
      " 12  Medal       271116 non-null  object \n",
      " 13  Population  243950 non-null  float64\n",
      " 14  GDP         235905 non-null  float64\n",
      "dtypes: float64(5), int64(2), object(8)\n",
      "memory usage: 33.1+ MB\n"
     ]
    },
    {
     "data": {
      "text/html": [
       "<div>\n",
       "<style scoped>\n",
       "    .dataframe tbody tr th:only-of-type {\n",
       "        vertical-align: middle;\n",
       "    }\n",
       "\n",
       "    .dataframe tbody tr th {\n",
       "        vertical-align: top;\n",
       "    }\n",
       "\n",
       "    .dataframe thead th {\n",
       "        text-align: right;\n",
       "    }\n",
       "</style>\n",
       "<table border=\"1\" class=\"dataframe\">\n",
       "  <thead>\n",
       "    <tr style=\"text-align: right;\">\n",
       "      <th></th>\n",
       "      <th>ID</th>\n",
       "      <th>Name</th>\n",
       "      <th>Sex</th>\n",
       "      <th>Age</th>\n",
       "      <th>Height</th>\n",
       "      <th>Weight</th>\n",
       "      <th>Country</th>\n",
       "      <th>NOC</th>\n",
       "      <th>Year</th>\n",
       "      <th>City</th>\n",
       "      <th>Sport</th>\n",
       "      <th>Event</th>\n",
       "      <th>Medal</th>\n",
       "      <th>Population</th>\n",
       "      <th>GDP</th>\n",
       "    </tr>\n",
       "  </thead>\n",
       "  <tbody>\n",
       "    <tr>\n",
       "      <th>0</th>\n",
       "      <td>1</td>\n",
       "      <td>A Dijiang</td>\n",
       "      <td>M</td>\n",
       "      <td>24.0</td>\n",
       "      <td>180.0</td>\n",
       "      <td>80.0</td>\n",
       "      <td>China</td>\n",
       "      <td>CHN</td>\n",
       "      <td>1992</td>\n",
       "      <td>Barcelona</td>\n",
       "      <td>Basketball</td>\n",
       "      <td>Basketball Men's Basketball</td>\n",
       "      <td>DNW</td>\n",
       "      <td>1.371220e+09</td>\n",
       "      <td>8027.683810</td>\n",
       "    </tr>\n",
       "    <tr>\n",
       "      <th>1</th>\n",
       "      <td>2</td>\n",
       "      <td>A Lamusi</td>\n",
       "      <td>M</td>\n",
       "      <td>23.0</td>\n",
       "      <td>170.0</td>\n",
       "      <td>60.0</td>\n",
       "      <td>China</td>\n",
       "      <td>CHN</td>\n",
       "      <td>2012</td>\n",
       "      <td>London</td>\n",
       "      <td>Judo</td>\n",
       "      <td>Judo Men's Extra-Lightweight</td>\n",
       "      <td>DNW</td>\n",
       "      <td>1.371220e+09</td>\n",
       "      <td>8027.683810</td>\n",
       "    </tr>\n",
       "    <tr>\n",
       "      <th>2</th>\n",
       "      <td>3</td>\n",
       "      <td>Gunnar Nielsen Aaby</td>\n",
       "      <td>M</td>\n",
       "      <td>24.0</td>\n",
       "      <td>NaN</td>\n",
       "      <td>NaN</td>\n",
       "      <td>Denmark</td>\n",
       "      <td>DEN</td>\n",
       "      <td>1920</td>\n",
       "      <td>Antwerpen</td>\n",
       "      <td>Football</td>\n",
       "      <td>Football Men's Football</td>\n",
       "      <td>DNW</td>\n",
       "      <td>5.676002e+06</td>\n",
       "      <td>51989.293471</td>\n",
       "    </tr>\n",
       "    <tr>\n",
       "      <th>3</th>\n",
       "      <td>4</td>\n",
       "      <td>Edgar Lindenau Aabye</td>\n",
       "      <td>M</td>\n",
       "      <td>34.0</td>\n",
       "      <td>NaN</td>\n",
       "      <td>NaN</td>\n",
       "      <td>Denmark/Sweden</td>\n",
       "      <td>DEN</td>\n",
       "      <td>1900</td>\n",
       "      <td>Paris</td>\n",
       "      <td>Tug-Of-War</td>\n",
       "      <td>Tug-Of-War Men's Tug-Of-War</td>\n",
       "      <td>Gold</td>\n",
       "      <td>5.676002e+06</td>\n",
       "      <td>51989.293471</td>\n",
       "    </tr>\n",
       "    <tr>\n",
       "      <th>4</th>\n",
       "      <td>5</td>\n",
       "      <td>Christine Jacoba Aaftink</td>\n",
       "      <td>F</td>\n",
       "      <td>21.0</td>\n",
       "      <td>185.0</td>\n",
       "      <td>82.0</td>\n",
       "      <td>Netherlands</td>\n",
       "      <td>NED</td>\n",
       "      <td>1988</td>\n",
       "      <td>Calgary</td>\n",
       "      <td>Speed Skating</td>\n",
       "      <td>Speed Skating Women's 500 metres</td>\n",
       "      <td>DNW</td>\n",
       "      <td>1.693652e+07</td>\n",
       "      <td>44299.768085</td>\n",
       "    </tr>\n",
       "  </tbody>\n",
       "</table>\n",
       "</div>"
      ],
      "text/plain": [
       "   ID                      Name Sex   Age  Height  Weight         Country  \\\n",
       "0   1                 A Dijiang   M  24.0   180.0    80.0           China   \n",
       "1   2                  A Lamusi   M  23.0   170.0    60.0           China   \n",
       "2   3       Gunnar Nielsen Aaby   M  24.0     NaN     NaN         Denmark   \n",
       "3   4      Edgar Lindenau Aabye   M  34.0     NaN     NaN  Denmark/Sweden   \n",
       "4   5  Christine Jacoba Aaftink   F  21.0   185.0    82.0     Netherlands   \n",
       "\n",
       "   NOC  Year       City          Sport                             Event  \\\n",
       "0  CHN  1992  Barcelona     Basketball       Basketball Men's Basketball   \n",
       "1  CHN  2012     London           Judo      Judo Men's Extra-Lightweight   \n",
       "2  DEN  1920  Antwerpen       Football           Football Men's Football   \n",
       "3  DEN  1900      Paris     Tug-Of-War       Tug-Of-War Men's Tug-Of-War   \n",
       "4  NED  1988    Calgary  Speed Skating  Speed Skating Women's 500 metres   \n",
       "\n",
       "  Medal    Population           GDP  \n",
       "0   DNW  1.371220e+09   8027.683810  \n",
       "1   DNW  1.371220e+09   8027.683810  \n",
       "2   DNW  5.676002e+06  51989.293471  \n",
       "3  Gold  5.676002e+06  51989.293471  \n",
       "4   DNW  1.693652e+07  44299.768085  "
      ]
     },
     "execution_count": 8,
     "metadata": {},
     "output_type": "execute_result"
    }
   ],
   "source": [
    "gdp.rename(columns={'Code':'NOC'},inplace=True)\n",
    "merged=pd.merge(athlete,gdp,on='NOC',how='left')\n",
    "# becuse the columns of Team and Country are the same ,we will drop from merged the column of country\n",
    "# and change the name of team to country becasue in team you have more values.\n",
    "merged=merged.drop(columns=['Country'])\n",
    "merged.rename(columns={'Team':'Country'},inplace=True)\n",
    "merged.drop(columns=['Games','Season'],inplace=True)\n",
    "merged.info()\n",
    "merged.head()"
   ]
  },
  {
   "cell_type": "markdown",
   "id": "eec4799a",
   "metadata": {},
   "source": [
    "Let's learn about the int values in our dataset"
   ]
  },
  {
   "cell_type": "code",
   "execution_count": 9,
   "id": "a5dad7fa",
   "metadata": {},
   "outputs": [
    {
     "data": {
      "text/html": [
       "<div>\n",
       "<style scoped>\n",
       "    .dataframe tbody tr th:only-of-type {\n",
       "        vertical-align: middle;\n",
       "    }\n",
       "\n",
       "    .dataframe tbody tr th {\n",
       "        vertical-align: top;\n",
       "    }\n",
       "\n",
       "    .dataframe thead th {\n",
       "        text-align: right;\n",
       "    }\n",
       "</style>\n",
       "<table border=\"1\" class=\"dataframe\">\n",
       "  <thead>\n",
       "    <tr style=\"text-align: right;\">\n",
       "      <th></th>\n",
       "      <th>Age</th>\n",
       "      <th>Height</th>\n",
       "      <th>Weight</th>\n",
       "      <th>Year</th>\n",
       "      <th>Population</th>\n",
       "      <th>GDP</th>\n",
       "    </tr>\n",
       "  </thead>\n",
       "  <tbody>\n",
       "    <tr>\n",
       "      <th>count</th>\n",
       "      <td>261642.000000</td>\n",
       "      <td>210945.000000</td>\n",
       "      <td>208241.000000</td>\n",
       "      <td>271116.000000</td>\n",
       "      <td>2.439500e+05</td>\n",
       "      <td>235905.000000</td>\n",
       "    </tr>\n",
       "    <tr>\n",
       "      <th>mean</th>\n",
       "      <td>25.556898</td>\n",
       "      <td>175.338970</td>\n",
       "      <td>70.702393</td>\n",
       "      <td>1978.378480</td>\n",
       "      <td>1.008445e+08</td>\n",
       "      <td>32533.404069</td>\n",
       "    </tr>\n",
       "    <tr>\n",
       "      <th>std</th>\n",
       "      <td>6.393561</td>\n",
       "      <td>10.518462</td>\n",
       "      <td>14.348020</td>\n",
       "      <td>29.877632</td>\n",
       "      <td>2.257177e+08</td>\n",
       "      <td>20985.375946</td>\n",
       "    </tr>\n",
       "    <tr>\n",
       "      <th>min</th>\n",
       "      <td>10.000000</td>\n",
       "      <td>127.000000</td>\n",
       "      <td>25.000000</td>\n",
       "      <td>1896.000000</td>\n",
       "      <td>1.022200e+04</td>\n",
       "      <td>277.068309</td>\n",
       "    </tr>\n",
       "    <tr>\n",
       "      <th>25%</th>\n",
       "      <td>21.000000</td>\n",
       "      <td>168.000000</td>\n",
       "      <td>60.000000</td>\n",
       "      <td>1960.000000</td>\n",
       "      <td>9.798871e+06</td>\n",
       "      <td>12363.543460</td>\n",
       "    </tr>\n",
       "    <tr>\n",
       "      <th>50%</th>\n",
       "      <td>24.000000</td>\n",
       "      <td>175.000000</td>\n",
       "      <td>70.000000</td>\n",
       "      <td>1988.000000</td>\n",
       "      <td>3.799949e+07</td>\n",
       "      <td>36205.568102</td>\n",
       "    </tr>\n",
       "    <tr>\n",
       "      <th>75%</th>\n",
       "      <td>28.000000</td>\n",
       "      <td>183.000000</td>\n",
       "      <td>79.000000</td>\n",
       "      <td>2002.000000</td>\n",
       "      <td>7.910927e+07</td>\n",
       "      <td>43875.969614</td>\n",
       "    </tr>\n",
       "    <tr>\n",
       "      <th>max</th>\n",
       "      <td>97.000000</td>\n",
       "      <td>226.000000</td>\n",
       "      <td>214.000000</td>\n",
       "      <td>2016.000000</td>\n",
       "      <td>1.371220e+09</td>\n",
       "      <td>101449.968168</td>\n",
       "    </tr>\n",
       "  </tbody>\n",
       "</table>\n",
       "</div>"
      ],
      "text/plain": [
       "                 Age         Height         Weight           Year  \\\n",
       "count  261642.000000  210945.000000  208241.000000  271116.000000   \n",
       "mean       25.556898     175.338970      70.702393    1978.378480   \n",
       "std         6.393561      10.518462      14.348020      29.877632   \n",
       "min        10.000000     127.000000      25.000000    1896.000000   \n",
       "25%        21.000000     168.000000      60.000000    1960.000000   \n",
       "50%        24.000000     175.000000      70.000000    1988.000000   \n",
       "75%        28.000000     183.000000      79.000000    2002.000000   \n",
       "max        97.000000     226.000000     214.000000    2016.000000   \n",
       "\n",
       "         Population            GDP  \n",
       "count  2.439500e+05  235905.000000  \n",
       "mean   1.008445e+08   32533.404069  \n",
       "std    2.257177e+08   20985.375946  \n",
       "min    1.022200e+04     277.068309  \n",
       "25%    9.798871e+06   12363.543460  \n",
       "50%    3.799949e+07   36205.568102  \n",
       "75%    7.910927e+07   43875.969614  \n",
       "max    1.371220e+09  101449.968168  "
      ]
     },
     "execution_count": 9,
     "metadata": {},
     "output_type": "execute_result"
    }
   ],
   "source": [
    "merged.describe()\n",
    "#we don't need istaticsal summary for ID feature\n",
    "merged.iloc[:,1:].describe()"
   ]
  },
  {
   "cell_type": "markdown",
   "id": "b93b80ee",
   "metadata": {},
   "source": [
    "The description of the data on the merged table gives several directions to check. Among other things, we will try to understand who the winners of the medals are and whether their dry data such as age, height and weight correspond to the average age of the participants.\n",
    "We'll get back to that later."
   ]
  },
  {
   "cell_type": "markdown",
   "id": "54114c8c",
   "metadata": {},
   "source": [
    "The example here shows for example how can we visual some of this categories by year"
   ]
  },
  {
   "cell_type": "code",
   "execution_count": 10,
   "id": "ac25d28f",
   "metadata": {},
   "outputs": [
    {
     "data": {
      "text/html": [
       "<div>\n",
       "<style scoped>\n",
       "    .dataframe tbody tr th:only-of-type {\n",
       "        vertical-align: middle;\n",
       "    }\n",
       "\n",
       "    .dataframe tbody tr th {\n",
       "        vertical-align: top;\n",
       "    }\n",
       "\n",
       "    .dataframe thead th {\n",
       "        text-align: right;\n",
       "    }\n",
       "</style>\n",
       "<table border=\"1\" class=\"dataframe\">\n",
       "  <thead>\n",
       "    <tr style=\"text-align: right;\">\n",
       "      <th></th>\n",
       "      <th>ID</th>\n",
       "      <th>Name</th>\n",
       "      <th>Sex</th>\n",
       "      <th>Age</th>\n",
       "      <th>Height</th>\n",
       "      <th>Weight</th>\n",
       "      <th>Country</th>\n",
       "      <th>NOC</th>\n",
       "      <th>Year</th>\n",
       "      <th>City</th>\n",
       "      <th>Sport</th>\n",
       "      <th>Event</th>\n",
       "      <th>Medal</th>\n",
       "      <th>Population</th>\n",
       "      <th>GDP</th>\n",
       "    </tr>\n",
       "  </thead>\n",
       "  <tbody>\n",
       "    <tr>\n",
       "      <th>3</th>\n",
       "      <td>4</td>\n",
       "      <td>Edgar Lindenau Aabye</td>\n",
       "      <td>M</td>\n",
       "      <td>34.0</td>\n",
       "      <td>NaN</td>\n",
       "      <td>NaN</td>\n",
       "      <td>Denmark/Sweden</td>\n",
       "      <td>DEN</td>\n",
       "      <td>1900</td>\n",
       "      <td>Paris</td>\n",
       "      <td>Tug-Of-War</td>\n",
       "      <td>Tug-Of-War Men's Tug-Of-War</td>\n",
       "      <td>Gold</td>\n",
       "      <td>5676002.0</td>\n",
       "      <td>51989.293471</td>\n",
       "    </tr>\n",
       "    <tr>\n",
       "      <th>37</th>\n",
       "      <td>15</td>\n",
       "      <td>Arvo Ossian Aaltonen</td>\n",
       "      <td>M</td>\n",
       "      <td>30.0</td>\n",
       "      <td>NaN</td>\n",
       "      <td>NaN</td>\n",
       "      <td>Finland</td>\n",
       "      <td>FIN</td>\n",
       "      <td>1920</td>\n",
       "      <td>Antwerpen</td>\n",
       "      <td>Swimming</td>\n",
       "      <td>Swimming Men's 200 metres Breaststroke</td>\n",
       "      <td>Bronze</td>\n",
       "      <td>5482013.0</td>\n",
       "      <td>42311.036231</td>\n",
       "    </tr>\n",
       "    <tr>\n",
       "      <th>38</th>\n",
       "      <td>15</td>\n",
       "      <td>Arvo Ossian Aaltonen</td>\n",
       "      <td>M</td>\n",
       "      <td>30.0</td>\n",
       "      <td>NaN</td>\n",
       "      <td>NaN</td>\n",
       "      <td>Finland</td>\n",
       "      <td>FIN</td>\n",
       "      <td>1920</td>\n",
       "      <td>Antwerpen</td>\n",
       "      <td>Swimming</td>\n",
       "      <td>Swimming Men's 400 metres Breaststroke</td>\n",
       "      <td>Bronze</td>\n",
       "      <td>5482013.0</td>\n",
       "      <td>42311.036231</td>\n",
       "    </tr>\n",
       "    <tr>\n",
       "      <th>40</th>\n",
       "      <td>16</td>\n",
       "      <td>Juhamatti Tapio Aaltonen</td>\n",
       "      <td>M</td>\n",
       "      <td>28.0</td>\n",
       "      <td>184.0</td>\n",
       "      <td>85.0</td>\n",
       "      <td>Finland</td>\n",
       "      <td>FIN</td>\n",
       "      <td>2014</td>\n",
       "      <td>Sochi</td>\n",
       "      <td>Ice Hockey</td>\n",
       "      <td>Ice Hockey Men's Ice Hockey</td>\n",
       "      <td>Bronze</td>\n",
       "      <td>5482013.0</td>\n",
       "      <td>42311.036231</td>\n",
       "    </tr>\n",
       "    <tr>\n",
       "      <th>41</th>\n",
       "      <td>17</td>\n",
       "      <td>Paavo Johannes Aaltonen</td>\n",
       "      <td>M</td>\n",
       "      <td>28.0</td>\n",
       "      <td>175.0</td>\n",
       "      <td>64.0</td>\n",
       "      <td>Finland</td>\n",
       "      <td>FIN</td>\n",
       "      <td>1948</td>\n",
       "      <td>London</td>\n",
       "      <td>Gymnastics</td>\n",
       "      <td>Gymnastics Men's Individual All-Around</td>\n",
       "      <td>Bronze</td>\n",
       "      <td>5482013.0</td>\n",
       "      <td>42311.036231</td>\n",
       "    </tr>\n",
       "  </tbody>\n",
       "</table>\n",
       "</div>"
      ],
      "text/plain": [
       "    ID                      Name Sex   Age  Height  Weight         Country  \\\n",
       "3    4      Edgar Lindenau Aabye   M  34.0     NaN     NaN  Denmark/Sweden   \n",
       "37  15      Arvo Ossian Aaltonen   M  30.0     NaN     NaN         Finland   \n",
       "38  15      Arvo Ossian Aaltonen   M  30.0     NaN     NaN         Finland   \n",
       "40  16  Juhamatti Tapio Aaltonen   M  28.0   184.0    85.0         Finland   \n",
       "41  17   Paavo Johannes Aaltonen   M  28.0   175.0    64.0         Finland   \n",
       "\n",
       "    NOC  Year       City       Sport                                   Event  \\\n",
       "3   DEN  1900      Paris  Tug-Of-War             Tug-Of-War Men's Tug-Of-War   \n",
       "37  FIN  1920  Antwerpen    Swimming  Swimming Men's 200 metres Breaststroke   \n",
       "38  FIN  1920  Antwerpen    Swimming  Swimming Men's 400 metres Breaststroke   \n",
       "40  FIN  2014      Sochi  Ice Hockey             Ice Hockey Men's Ice Hockey   \n",
       "41  FIN  1948     London  Gymnastics  Gymnastics Men's Individual All-Around   \n",
       "\n",
       "     Medal  Population           GDP  \n",
       "3     Gold   5676002.0  51989.293471  \n",
       "37  Bronze   5482013.0  42311.036231  \n",
       "38  Bronze   5482013.0  42311.036231  \n",
       "40  Bronze   5482013.0  42311.036231  \n",
       "41  Bronze   5482013.0  42311.036231  "
      ]
     },
     "execution_count": 10,
     "metadata": {},
     "output_type": "execute_result"
    }
   ],
   "source": [
    "Countries_medals=merged[merged.Medal!='DNW']\n",
    "Countries_medals.head()"
   ]
  },
  {
   "cell_type": "code",
   "execution_count": 11,
   "id": "0079dd37",
   "metadata": {},
   "outputs": [
    {
     "name": "stderr",
     "output_type": "stream",
     "text": [
      "/opt/anaconda3/lib/python3.8/site-packages/seaborn/_decorators.py:36: FutureWarning:\n",
      "\n",
      "Pass the following variables as keyword args: x, y. From version 0.12, the only valid positional argument will be `data`, and passing other arguments without an explicit keyword will result in an error or misinterpretation.\n",
      "\n"
     ]
    },
    {
     "data": {
      "text/plain": [
       "Text(0.5, 1.0, 'Variation of Age for Male Athletes over time')"
      ]
     },
     "execution_count": 11,
     "metadata": {},
     "output_type": "execute_result"
    },
    {
     "data": {
      "image/png": "[encoded data removed]",
      "text/plain": [
       "<Figure size 1440x720 with 1 Axes>"
      ]
     },
     "metadata": {
      "needs_background": "light"
     },
     "output_type": "display_data"
    }
   ],
   "source": [
    "MenOverTime=(Countries_medals.Sex == 'M')\n",
    "plt.figure(figsize=(20,10))\n",
    "sns.boxplot(Countries_medals['Year'],Countries_medals['Age'], data=MenOverTime)\n",
    "\n",
    "plt.title('Variation of Age for Male Athletes over time')"
   ]
  },
  {
   "cell_type": "code",
   "execution_count": 12,
   "id": "0a5fd40c",
   "metadata": {},
   "outputs": [
    {
     "name": "stderr",
     "output_type": "stream",
     "text": [
      "/opt/anaconda3/lib/python3.8/site-packages/seaborn/_decorators.py:36: FutureWarning:\n",
      "\n",
      "Pass the following variables as keyword args: x, y. From version 0.12, the only valid positional argument will be `data`, and passing other arguments without an explicit keyword will result in an error or misinterpretation.\n",
      "\n"
     ]
    },
    {
     "data": {
      "text/plain": [
       "Text(0.5, 1.0, 'Variation of Height for Male Athletes over time')"
      ]
     },
     "execution_count": 12,
     "metadata": {},
     "output_type": "execute_result"
    },
    {
     "data": {
      "image/png": "[encoded data removed]",
      "text/plain": [
       "<Figure size 1440x720 with 1 Axes>"
      ]
     },
     "metadata": {
      "needs_background": "light"
     },
     "output_type": "display_data"
    }
   ],
   "source": [
    "MenOverTime=(Countries_medals.Sex == 'M')\n",
    "plt.figure(figsize=(20, 10))\n",
    "sns.pointplot(Countries_medals['Year'], Countries_medals['Height'], data= MenOverTime, palette='Set2')\n",
    "plt.title('Variation of Height for Male Athletes over time')"
   ]
  },
  {
   "cell_type": "code",
   "execution_count": 13,
   "id": "cca63f1e",
   "metadata": {},
   "outputs": [
    {
     "data": {
      "text/plain": [
       "Text(0.5, 1.0, 'Height vs Weight of Olympic Medalists')"
      ]
     },
     "execution_count": 13,
     "metadata": {},
     "output_type": "execute_result"
    },
    {
     "data": {
      "image/png": "[encoded data removed]",
      "text/plain": [
       "<Figure size 1440x720 with 1 Axes>"
      ]
     },
     "metadata": {
      "needs_background": "light"
     },
     "output_type": "display_data"
    }
   ],
   "source": [
    "NOTNullMedals = Countries_medals[(Countries_medals['Height'].notnull()) & (Countries_medals['Weight'].notnull())]\n",
    "plt.figure(figsize=(20, 10))\n",
    "ax = sns.scatterplot(x=\"Height\", y=\"Weight\", data=NOTNullMedals)\n",
    "plt.title('Height vs Weight of Olympic Medalists')"
   ]
  },
  {
   "cell_type": "markdown",
   "id": "beab8dc5",
   "metadata": {},
   "source": [
    "# We will examine different contexts in the context of medals"
   ]
  },
  {
   "cell_type": "markdown",
   "id": "ee82a4a9",
   "metadata": {},
   "source": [
    "We will focus on the winners only and examine their status"
   ]
  },
  {
   "cell_type": "code",
   "execution_count": 14,
   "id": "6c2eca32",
   "metadata": {},
   "outputs": [
    {
     "data": {
      "text/html": [
       "<div>\n",
       "<style scoped>\n",
       "    .dataframe tbody tr th:only-of-type {\n",
       "        vertical-align: middle;\n",
       "    }\n",
       "\n",
       "    .dataframe tbody tr th {\n",
       "        vertical-align: top;\n",
       "    }\n",
       "\n",
       "    .dataframe thead th {\n",
       "        text-align: right;\n",
       "    }\n",
       "</style>\n",
       "<table border=\"1\" class=\"dataframe\">\n",
       "  <thead>\n",
       "    <tr style=\"text-align: right;\">\n",
       "      <th></th>\n",
       "      <th>index</th>\n",
       "      <th>Count</th>\n",
       "    </tr>\n",
       "  </thead>\n",
       "  <tbody>\n",
       "    <tr>\n",
       "      <th>0</th>\n",
       "      <td>United States</td>\n",
       "      <td>5219</td>\n",
       "    </tr>\n",
       "    <tr>\n",
       "      <th>1</th>\n",
       "      <td>Soviet Union</td>\n",
       "      <td>2451</td>\n",
       "    </tr>\n",
       "    <tr>\n",
       "      <th>2</th>\n",
       "      <td>Germany</td>\n",
       "      <td>1984</td>\n",
       "    </tr>\n",
       "    <tr>\n",
       "      <th>3</th>\n",
       "      <td>Great Britain</td>\n",
       "      <td>1673</td>\n",
       "    </tr>\n",
       "    <tr>\n",
       "      <th>4</th>\n",
       "      <td>France</td>\n",
       "      <td>1550</td>\n",
       "    </tr>\n",
       "    <tr>\n",
       "      <th>...</th>\n",
       "      <td>...</td>\n",
       "      <td>...</td>\n",
       "    </tr>\n",
       "    <tr>\n",
       "      <th>493</th>\n",
       "      <td>Camille</td>\n",
       "      <td>1</td>\n",
       "    </tr>\n",
       "    <tr>\n",
       "      <th>494</th>\n",
       "      <td>Iraq</td>\n",
       "      <td>1</td>\n",
       "    </tr>\n",
       "    <tr>\n",
       "      <th>495</th>\n",
       "      <td>Potsdam</td>\n",
       "      <td>1</td>\n",
       "    </tr>\n",
       "    <tr>\n",
       "      <th>496</th>\n",
       "      <td>Rostock</td>\n",
       "      <td>1</td>\n",
       "    </tr>\n",
       "    <tr>\n",
       "      <th>497</th>\n",
       "      <td>Femur-1</td>\n",
       "      <td>1</td>\n",
       "    </tr>\n",
       "  </tbody>\n",
       "</table>\n",
       "<p>498 rows × 2 columns</p>\n",
       "</div>"
      ],
      "text/plain": [
       "             index  Count\n",
       "0    United States   5219\n",
       "1     Soviet Union   2451\n",
       "2          Germany   1984\n",
       "3    Great Britain   1673\n",
       "4           France   1550\n",
       "..             ...    ...\n",
       "493        Camille      1\n",
       "494           Iraq      1\n",
       "495        Potsdam      1\n",
       "496        Rostock      1\n",
       "497        Femur-1      1\n",
       "\n",
       "[498 rows x 2 columns]"
      ]
     },
     "execution_count": 14,
     "metadata": {},
     "output_type": "execute_result"
    }
   ],
   "source": [
    "Countries_medals.Country.value_counts().reset_index(name='Count')"
   ]
  },
  {
   "cell_type": "code",
   "execution_count": 15,
   "id": "b8e3c066",
   "metadata": {},
   "outputs": [
    {
     "data": {
      "text/plain": [
       "Text(0.5, 1.0, 'Medals per Country')"
      ]
     },
     "execution_count": 15,
     "metadata": {},
     "output_type": "execute_result"
    },
    {
     "data": {
      "image/png": "[encoded data removed]",
      "text/plain": [
       "<Figure size 432x432 with 1 Axes>"
      ]
     },
     "metadata": {
      "needs_background": "light"
     },
     "output_type": "display_data"
    }
   ],
   "source": [
    "totalMedals = Countries_medals.Country.value_counts().reset_index(name='Medal').head()\n",
    "g = sns.catplot(x=\"index\", y=\"Medal\", data=totalMedals,height=6, kind=\"bar\", palette=\"muted\")\n",
    "g.despine(left=True)\n",
    "g.set_xlabels(\"Top 5 countries\")\n",
    "g.set_ylabels(\"Number of Medals\")\n",
    "plt.title('Medals per Country')"
   ]
  },
  {
   "cell_type": "code",
   "execution_count": 43,
   "id": "511427be",
   "metadata": {},
   "outputs": [],
   "source": [
    "tmp=Countries_medals.groupby(['Country', 'Medal'])['ID'].count().dropna()\n",
    "df=pd.DataFrame(tmp).reset_index()\n",
    "\n",
    "dfG = df[df['Medal']=='Gold']\n",
    "dfS = df[df['Medal']=='Silver']\n",
    "dfB = df[df['Medal']=='Bronze']\n",
    "\n",
    "def draw_map(dataset, title, colorscale,reversescale=False):\n",
    "    trace = go.Choropleth(\n",
    "                locations = dataset['Country'],\n",
    "                locationmode='country names',\n",
    "                z = dataset['ID'],\n",
    "                text = dataset['Country'],\n",
    "                autocolorscale =False,\n",
    "                reversescale = reversescale,\n",
    "                colorscale = colorscale,\n",
    "                marker = dict(\n",
    "                    line = dict(\n",
    "                        color = 'rgb(0,0,0)',\n",
    "                        width = 0.5)\n",
    "                ),\n",
    "                colorbar = dict(\n",
    "                    title = 'Medals',\n",
    "                    tickprefix = '')\n",
    "            )\n",
    "    data = [trace]\n",
    "    layout = go.Layout(\n",
    "        title = title,\n",
    "        geo = dict(\n",
    "            showframe = True,\n",
    "            showlakes = False,\n",
    "            showcoastlines = True,\n",
    "            projection = dict(\n",
    "                type = 'natural earth'\n",
    "            )\n",
    "        )\n",
    "    )\n",
    "    fig = dict( data=data, layout=layout )\n",
    "    iplot(fig)\n"
   ]
  },
  {
   "cell_type": "code",
   "execution_count": 44,
   "id": "3ef013b3",
   "metadata": {
    "scrolled": true
   },
   "outputs": [
    {
     "data": {
      "application/vnd.plotly.v1+json": {
       "config": {
        "linkText": "Export to plot.ly",
        "plotlyServerURL": "https://plot.ly",
        "showLink": false
       },
       "data": [
        {
         "autocolorscale": false,
         "colorbar": {
          "tickprefix": "",
          "title": {
           "text": "Medals"
          }
         },
         "colorscale": [
          [
           0,
           "rgb(247,252,245)"
          ],
          [
           0.125,
           "rgb(229,245,224)"
          ],
          [
           0.25,
           "rgb(199,233,192)"
          ],
          [
           0.375,
           "rgb(161,217,155)"
          ],
          [
           0.5,
           "rgb(116,196,118)"
          ],
          [
           0.625,
           "rgb(65,171,93)"
          ],
          [
           0.75,
           "rgb(35,139,69)"
          ],
          [
           0.875,
           "rgb(0,109,44)"
          ],
          [
           1,
           "rgb(0,68,27)"
          ]
         ],
         "locationmode": "country names",
         "locations": [
          "Algeria",
          "Amateur Athletic Association",
          "Ancora",
          "Angelita",
          "Argentina",
          "Armenia",
          "Aschenbrodel",
          "Atalanta Boat Club-1",
          "Atlanta",
          "Australasia",
          "Australia",
          "Australia-1",
          "Austria",
          "Austria-1",
          "Azerbaijan",
          "Baby-1",
          "Bahamas",
          "Bahrain",
          "Barrenjoey",
          "Beatrijs III-1",
          "Belarus",
          "Belgium",
          "Belgium-1",
          "Bera",
          "Bissbi",
          "Bona Fide",
          "Bonaparte",
          "Brazil",
          "Brazil-1",
          "Bucintoro Venezia",
          "Bucintoro Venezia-1",
          "Bulgaria",
          "Burundi",
          "Cameroon",
          "Camille",
          "Canada",
          "Canada-1",
          "Carabinier-15",
          "Century Boat Club-1",
          "Cercle de l'Aviron Roubaix-4",
          "Chile",
          "China",
          "China-1",
          "China-2",
          "Chinese Taipei",
          "Cicely-1",
          "Cincinnati Archers",
          "Cobweb-1",
          "Colombia",
          "Complex II",
          "Costa Rica",
          "Cote d'Ivoire",
          "Croatia",
          "Cuba",
          "Czech Republic",
          "Czechoslovakia",
          "Denmark",
          "Denmark/Sweden",
          "Deutscher Schwimm Verband Berlin",
          "Devon and Somerset Wanderers",
          "Dominican Republic",
          "Dormy-1",
          "East Germany",
          "East Germany-1",
          "East Germany-2",
          "Ecuador",
          "Edelweiss II-1",
          "Egypt",
          "Eleda",
          "Elisabeth V",
          "Elvis Va",
          "England-1",
          "Esterel-1",
          "Estonia",
          "Ethiopia",
          "Fantlet-7",
          "Femur-1",
          "Fiji",
          "Finland",
          "Foxhunters Hurlingham",
          "France",
          "France-1",
          "France-3",
          "Galt Football Club",
          "Gem",
          "Georgia",
          "Germania Ruder Club, Hamburg-2",
          "Germany",
          "Germany-1",
          "Germany-2",
          "Great Britain",
          "Great Britain-1",
          "Great Britain-2",
          "Great Britain/Germany",
          "Greece",
          "Grenada",
          "Gyrinus-1",
          "Heira II",
          "Hera-1",
          "Heroine",
          "Hilarius",
          "Hong Kong",
          "Hungary",
          "India",
          "Individual Olympic Athletes",
          "Indonesia",
          "Indonesia-1",
          "Iran",
          "Ireland",
          "Irene",
          "Israel",
          "Italia",
          "Italy",
          "Italy-1",
          "Jamaica",
          "Japan",
          "Jest",
          "Jo",
          "Jordan",
          "Jupiter",
          "Kathleen",
          "Kazakhstan",
          "Kenya",
          "Kitty-1",
          "Kosovo",
          "Kullan",
          "L'Aile VI",
          "Lalage",
          "Large boat, Central Naval Prep School \"Poros\"-1",
          "Latvia",
          "Leander Club #1-1",
          "Leander Club-1",
          "Lerina",
          "Liechtenstein",
          "Lithuania",
          "Llanoria",
          "London City Police-1",
          "Ludwigshafener Ruderverein",
          "Luxembourg",
          "Mac Miche",
          "Magda IX",
          "Magdalen College Boat Club-1",
          "Marinai della nave da guerra \"Varese\"",
          "Merope",
          "Mexico",
          "Milwaukee Athletic Club-1",
          "Minerva Amsterdam",
          "Minotaur",
          "Mongolia",
          "Morocco",
          "Mosk II",
          "Mozambique",
          "Nepal",
          "Netherlands",
          "New York Athletic Club",
          "New York Athletic Club #1-1",
          "New York Athletic Club-1",
          "New Zealand",
          "Nigeria",
          "Nirefs",
          "Norna",
          "North Korea",
          "Norway",
          "Nrnberg",
          "Nykjbings paa Falster",
          "Olle",
          "Oranje",
          "Osborne Swimming Club, Manchester",
          "Pakistan",
          "Pan",
          "Panama",
          "Pandora",
          "Peru",
          "Philadelphia Turngemeinde, Philadelphia",
          "Poland",
          "Portugal",
          "Potomac Archers",
          "Puerto Rico",
          "Roehampton-1",
          "Romania",
          "Rush V",
          "Russia",
          "Russia-1",
          "Russia-2",
          "Satchmo",
          "Scotia",
          "Seawanhaka Boat Club-1",
          "Serbia",
          "Serbia and Montenegro",
          "Sif",
          "Sildra-1",
          "Singapore",
          "Sirene",
          "Slaghoken II",
          "Slovakia",
          "Slovenia",
          "South Africa",
          "South Korea",
          "South Korea-1",
          "South Korea-2",
          "Soviet Union",
          "Soviet Union-1",
          "Spain",
          "Spain-2",
          "Suriname",
          "Sweden",
          "Swift",
          "Switzerland",
          "Switzerland-1",
          "Switzerland-2",
          "Syria",
          "Taifun",
          "Tajikistan",
          "Thailand",
          "Tornado",
          "Trinidad and Tobago",
          "Tunisia",
          "Turkey",
          "Uganda",
          "Ukraine",
          "Unified Team",
          "Unified Team-1",
          "Union des Socits Franais de Sports Athletiques",
          "United Arab Emirates",
          "United States",
          "United States-1",
          "United States-2",
          "Upton Park FC",
          "Uruguay",
          "Uzbekistan",
          "Venezuela",
          "Vesper Boat Club",
          "Vietnam",
          "Wannsee",
          "West Germany",
          "West Germany-1",
          "West Germany-2",
          "Western Golf Association-1",
          "White Lady",
          "Winnipeg Shamrocks-1",
          "Yugoslavia",
          "Zimbabwe"
         ],
         "marker": {
          "line": {
           "color": "rgb(0,0,0)",
           "width": 0.5
          }
         },
         "reversescale": false,
         "text": [
          "Algeria",
          "Amateur Athletic Association",
          "Ancora",
          "Angelita",
          "Argentina",
          "Armenia",
          "Aschenbrodel",
          "Atalanta Boat Club-1",
          "Atlanta",
          "Australasia",
          "Australia",
          "Australia-1",
          "Austria",
          "Austria-1",
          "Azerbaijan",
          "Baby-1",
          "Bahamas",
          "Bahrain",
          "Barrenjoey",
          "Beatrijs III-1",
          "Belarus",
          "Belgium",
          "Belgium-1",
          "Bera",
          "Bissbi",
          "Bona Fide",
          "Bonaparte",
          "Brazil",
          "Brazil-1",
          "Bucintoro Venezia",
          "Bucintoro Venezia-1",
          "Bulgaria",
          "Burundi",
          "Cameroon",
          "Camille",
          "Canada",
          "Canada-1",
          "Carabinier-15",
          "Century Boat Club-1",
          "Cercle de l'Aviron Roubaix-4",
          "Chile",
          "China",
          "China-1",
          "China-2",
          "Chinese Taipei",
          "Cicely-1",
          "Cincinnati Archers",
          "Cobweb-1",
          "Colombia",
          "Complex II",
          "Costa Rica",
          "Cote d'Ivoire",
          "Croatia",
          "Cuba",
          "Czech Republic",
          "Czechoslovakia",
          "Denmark",
          "Denmark/Sweden",
          "Deutscher Schwimm Verband Berlin",
          "Devon and Somerset Wanderers",
          "Dominican Republic",
          "Dormy-1",
          "East Germany",
          "East Germany-1",
          "East Germany-2",
          "Ecuador",
          "Edelweiss II-1",
          "Egypt",
          "Eleda",
          "Elisabeth V",
          "Elvis Va",
          "England-1",
          "Esterel-1",
          "Estonia",
          "Ethiopia",
          "Fantlet-7",
          "Femur-1",
          "Fiji",
          "Finland",
          "Foxhunters Hurlingham",
          "France",
          "France-1",
          "France-3",
          "Galt Football Club",
          "Gem",
          "Georgia",
          "Germania Ruder Club, Hamburg-2",
          "Germany",
          "Germany-1",
          "Germany-2",
          "Great Britain",
          "Great Britain-1",
          "Great Britain-2",
          "Great Britain/Germany",
          "Greece",
          "Grenada",
          "Gyrinus-1",
          "Heira II",
          "Hera-1",
          "Heroine",
          "Hilarius",
          "Hong Kong",
          "Hungary",
          "India",
          "Individual Olympic Athletes",
          "Indonesia",
          "Indonesia-1",
          "Iran",
          "Ireland",
          "Irene",
          "Israel",
          "Italia",
          "Italy",
          "Italy-1",
          "Jamaica",
          "Japan",
          "Jest",
          "Jo",
          "Jordan",
          "Jupiter",
          "Kathleen",
          "Kazakhstan",
          "Kenya",
          "Kitty-1",
          "Kosovo",
          "Kullan",
          "L'Aile VI",
          "Lalage",
          "Large boat, Central Naval Prep School \"Poros\"-1",
          "Latvia",
          "Leander Club #1-1",
          "Leander Club-1",
          "Lerina",
          "Liechtenstein",
          "Lithuania",
          "Llanoria",
          "London City Police-1",
          "Ludwigshafener Ruderverein",
          "Luxembourg",
          "Mac Miche",
          "Magda IX",
          "Magdalen College Boat Club-1",
          "Marinai della nave da guerra \"Varese\"",
          "Merope",
          "Mexico",
          "Milwaukee Athletic Club-1",
          "Minerva Amsterdam",
          "Minotaur",
          "Mongolia",
          "Morocco",
          "Mosk II",
          "Mozambique",
          "Nepal",
          "Netherlands",
          "New York Athletic Club",
          "New York Athletic Club #1-1",
          "New York Athletic Club-1",
          "New Zealand",
          "Nigeria",
          "Nirefs",
          "Norna",
          "North Korea",
          "Norway",
          "Nrnberg",
          "Nykjbings paa Falster",
          "Olle",
          "Oranje",
          "Osborne Swimming Club, Manchester",
          "Pakistan",
          "Pan",
          "Panama",
          "Pandora",
          "Peru",
          "Philadelphia Turngemeinde, Philadelphia",
          "Poland",
          "Portugal",
          "Potomac Archers",
          "Puerto Rico",
          "Roehampton-1",
          "Romania",
          "Rush V",
          "Russia",
          "Russia-1",
          "Russia-2",
          "Satchmo",
          "Scotia",
          "Seawanhaka Boat Club-1",
          "Serbia",
          "Serbia and Montenegro",
          "Sif",
          "Sildra-1",
          "Singapore",
          "Sirene",
          "Slaghoken II",
          "Slovakia",
          "Slovenia",
          "South Africa",
          "South Korea",
          "South Korea-1",
          "South Korea-2",
          "Soviet Union",
          "Soviet Union-1",
          "Spain",
          "Spain-2",
          "Suriname",
          "Sweden",
          "Swift",
          "Switzerland",
          "Switzerland-1",
          "Switzerland-2",
          "Syria",
          "Taifun",
          "Tajikistan",
          "Thailand",
          "Tornado",
          "Trinidad and Tobago",
          "Tunisia",
          "Turkey",
          "Uganda",
          "Ukraine",
          "Unified Team",
          "Unified Team-1",
          "Union des Socits Franais de Sports Athletiques",
          "United Arab Emirates",
          "United States",
          "United States-1",
          "United States-2",
          "Upton Park FC",
          "Uruguay",
          "Uzbekistan",
          "Venezuela",
          "Vesper Boat Club",
          "Vietnam",
          "Wannsee",
          "West Germany",
          "West Germany-1",
          "West Germany-2",
          "Western Golf Association-1",
          "White Lady",
          "Winnipeg Shamrocks-1",
          "Yugoslavia",
          "Zimbabwe"
         ],
         "type": "choropleth",
         "z": [
          5,
          5,
          4,
          12,
          91,
          2,
          4,
          2,
          9,
          20,
          342,
          2,
          95,
          12,
          7,
          1,
          12,
          1,
          3,
          3,
          24,
          94,
          1,
          5,
          4,
          3,
          1,
          103,
          6,
          8,
          3,
          54,
          1,
          20,
          1,
          422,
          16,
          1,
          4,
          5,
          3,
          308,
          28,
          14,
          3,
          1,
          4,
          5,
          5,
          4,
          1,
          1,
          58,
          164,
          42,
          81,
          168,
          6,
          4,
          12,
          3,
          3,
          369,
          24,
          4,
          1,
          3,
          7,
          7,
          3,
          1,
          11,
          2,
          13,
          22,
          1,
          1,
          13,
          198,
          5,
          455,
          4,
          2,
          13,
          2,
          8,
          5,
          679,
          28,
          14,
          519,
          20,
          4,
          2,
          42,
          1,
          6,
          9,
          10,
          4,
          2,
          1,
          432,
          138,
          1,
          7,
          4,
          18,
          9,
          5,
          1,
          6,
          535,
          14,
          38,
          247,
          2,
          3,
          1,
          2,
          2,
          20,
          34,
          8,
          1,
          3,
          6,
          5,
          17,
          3,
          2,
          18,
          3,
          2,
          6,
          11,
          8,
          5,
          4,
          3,
          10,
          4,
          7,
          2,
          30,
          5,
          3,
          3,
          2,
          6,
          7,
          1,
          1,
          277,
          5,
          4,
          7,
          85,
          23,
          3,
          4,
          16,
          299,
          1,
          5,
          6,
          3,
          7,
          42,
          6,
          1,
          2,
          1,
          6,
          117,
          4,
          4,
          1,
          4,
          161,
          3,
          366,
          22,
          2,
          1,
          6,
          2,
          15,
          12,
          4,
          4,
          1,
          2,
          3,
          15,
          8,
          32,
          211,
          6,
          4,
          1058,
          22,
          108,
          2,
          1,
          451,
          2,
          144,
          20,
          8,
          1,
          5,
          1,
          9,
          2,
          7,
          3,
          40,
          2,
          47,
          123,
          4,
          17,
          1,
          2474,
          38,
          17,
          11,
          31,
          10,
          2,
          18,
          1,
          2,
          155,
          2,
          2,
          10,
          3,
          12,
          130,
          17
         ]
        }
       ],
       "layout": {
        "geo": {
         "projection": {
          "type": "natural earth"
         },
         "showcoastlines": true,
         "showframe": true,
         "showlakes": false
        },
        "template": {
         "data": {
          "bar": [
           {
            "error_x": {
             "color": "#2a3f5f"
            },
            "error_y": {
             "color": "#2a3f5f"
            },
            "marker": {
             "line": {
              "color": "#E5ECF6",
              "width": 0.5
             },
             "pattern": {
              "fillmode": "overlay",
              "size": 10,
              "solidity": 0.2
             }
            },
            "type": "bar"
           }
          ],
          "barpolar": [
           {
            "marker": {
             "line": {
              "color": "#E5ECF6",
              "width": 0.5
             },
             "pattern": {
              "fillmode": "overlay",
              "size": 10,
              "solidity": 0.2
             }
            },
            "type": "barpolar"
           }
          ],
          "carpet": [
           {
            "aaxis": {
             "endlinecolor": "#2a3f5f",
             "gridcolor": "white",
             "linecolor": "white",
             "minorgridcolor": "white",
             "startlinecolor": "#2a3f5f"
            },
            "baxis": {
             "endlinecolor": "#2a3f5f",
             "gridcolor": "white",
             "linecolor": "white",
             "minorgridcolor": "white",
             "startlinecolor": "#2a3f5f"
            },
            "type": "carpet"
           }
          ],
          "choropleth": [
           {
            "colorbar": {
             "outlinewidth": 0,
             "ticks": ""
            },
            "type": "choropleth"
           }
          ],
          "contour": [
           {
            "colorbar": {
             "outlinewidth": 0,
             "ticks": ""
            },
            "colorscale": [
             [
              0,
              "#0d0887"
             ],
             [
              0.1111111111111111,
              "#46039f"
             ],
             [
              0.2222222222222222,
              "#7201a8"
             ],
             [
              0.3333333333333333,
              "#9c179e"
             ],
             [
              0.4444444444444444,
              "#bd3786"
             ],
             [
              0.5555555555555556,
              "#d8576b"
             ],
             [
              0.6666666666666666,
              "#ed7953"
             ],
             [
              0.7777777777777778,
              "#fb9f3a"
             ],
             [
              0.8888888888888888,
              "#fdca26"
             ],
             [
              1,
              "#f0f921"
             ]
            ],
            "type": "contour"
           }
          ],
          "contourcarpet": [
           {
            "colorbar": {
             "outlinewidth": 0,
             "ticks": ""
            },
            "type": "contourcarpet"
           }
          ],
          "heatmap": [
           {
            "colorbar": {
             "outlinewidth": 0,
             "ticks": ""
            },
            "colorscale": [
             [
              0,
              "#0d0887"
             ],
             [
              0.1111111111111111,
              "#46039f"
             ],
             [
              0.2222222222222222,
              "#7201a8"
             ],
             [
              0.3333333333333333,
              "#9c179e"
             ],
             [
              0.4444444444444444,
              "#bd3786"
             ],
             [
              0.5555555555555556,
              "#d8576b"
             ],
             [
              0.6666666666666666,
              "#ed7953"
             ],
             [
              0.7777777777777778,
              "#fb9f3a"
             ],
             [
              0.8888888888888888,
              "#fdca26"
             ],
             [
              1,
              "#f0f921"
             ]
            ],
            "type": "heatmap"
           }
          ],
          "heatmapgl": [
           {
            "colorbar": {
             "outlinewidth": 0,
             "ticks": ""
            },
            "colorscale": [
             [
              0,
              "#0d0887"
             ],
             [
              0.1111111111111111,
              "#46039f"
             ],
             [
              0.2222222222222222,
              "#7201a8"
             ],
             [
              0.3333333333333333,
              "#9c179e"
             ],
             [
              0.4444444444444444,
              "#bd3786"
             ],
             [
              0.5555555555555556,
              "#d8576b"
             ],
             [
              0.6666666666666666,
              "#ed7953"
             ],
             [
              0.7777777777777778,
              "#fb9f3a"
             ],
             [
              0.8888888888888888,
              "#fdca26"
             ],
             [
              1,
              "#f0f921"
             ]
            ],
            "type": "heatmapgl"
           }
          ],
          "histogram": [
           {
            "marker": {
             "pattern": {
              "fillmode": "overlay",
              "size": 10,
              "solidity": 0.2
             }
            },
            "type": "histogram"
           }
          ],
          "histogram2d": [
           {
            "colorbar": {
             "outlinewidth": 0,
             "ticks": ""
            },
            "colorscale": [
             [
              0,
              "#0d0887"
             ],
             [
              0.1111111111111111,
              "#46039f"
             ],
             [
              0.2222222222222222,
              "#7201a8"
             ],
             [
              0.3333333333333333,
              "#9c179e"
             ],
             [
              0.4444444444444444,
              "#bd3786"
             ],
             [
              0.5555555555555556,
              "#d8576b"
             ],
             [
              0.6666666666666666,
              "#ed7953"
             ],
             [
              0.7777777777777778,
              "#fb9f3a"
             ],
             [
              0.8888888888888888,
              "#fdca26"
             ],
             [
              1,
              "#f0f921"
             ]
            ],
            "type": "histogram2d"
           }
          ],
          "histogram2dcontour": [
           {
            "colorbar": {
             "outlinewidth": 0,
             "ticks": ""
            },
            "colorscale": [
             [
              0,
              "#0d0887"
             ],
             [
              0.1111111111111111,
              "#46039f"
             ],
             [
              0.2222222222222222,
              "#7201a8"
             ],
             [
              0.3333333333333333,
              "#9c179e"
             ],
             [
              0.4444444444444444,
              "#bd3786"
             ],
             [
              0.5555555555555556,
              "#d8576b"
             ],
             [
              0.6666666666666666,
              "#ed7953"
             ],
             [
              0.7777777777777778,
              "#fb9f3a"
             ],
             [
              0.8888888888888888,
              "#fdca26"
             ],
             [
              1,
              "#f0f921"
             ]
            ],
            "type": "histogram2dcontour"
           }
          ],
          "mesh3d": [
           {
            "colorbar": {
             "outlinewidth": 0,
             "ticks": ""
            },
            "type": "mesh3d"
           }
          ],
          "parcoords": [
           {
            "line": {
             "colorbar": {
              "outlinewidth": 0,
              "ticks": ""
             }
            },
            "type": "parcoords"
           }
          ],
          "pie": [
           {
            "automargin": true,
            "type": "pie"
           }
          ],
          "scatter": [
           {
            "marker": {
             "colorbar": {
              "outlinewidth": 0,
              "ticks": ""
             }
            },
            "type": "scatter"
           }
          ],
          "scatter3d": [
           {
            "line": {
             "colorbar": {
              "outlinewidth": 0,
              "ticks": ""
             }
            },
            "marker": {
             "colorbar": {
              "outlinewidth": 0,
              "ticks": ""
             }
            },
            "type": "scatter3d"
           }
          ],
          "scattercarpet": [
           {
            "marker": {
             "colorbar": {
              "outlinewidth": 0,
              "ticks": ""
             }
            },
            "type": "scattercarpet"
           }
          ],
          "scattergeo": [
           {
            "marker": {
             "colorbar": {
              "outlinewidth": 0,
              "ticks": ""
             }
            },
            "type": "scattergeo"
           }
          ],
          "scattergl": [
           {
            "marker": {
             "colorbar": {
              "outlinewidth": 0,
              "ticks": ""
             }
            },
            "type": "scattergl"
           }
          ],
          "scattermapbox": [
           {
            "marker": {
             "colorbar": {
              "outlinewidth": 0,
              "ticks": ""
             }
            },
            "type": "scattermapbox"
           }
          ],
          "scatterpolar": [
           {
            "marker": {
             "colorbar": {
              "outlinewidth": 0,
              "ticks": ""
             }
            },
            "type": "scatterpolar"
           }
          ],
          "scatterpolargl": [
           {
            "marker": {
             "colorbar": {
              "outlinewidth": 0,
              "ticks": ""
             }
            },
            "type": "scatterpolargl"
           }
          ],
          "scatterternary": [
           {
            "marker": {
             "colorbar": {
              "outlinewidth": 0,
              "ticks": ""
             }
            },
            "type": "scatterternary"
           }
          ],
          "surface": [
           {
            "colorbar": {
             "outlinewidth": 0,
             "ticks": ""
            },
            "colorscale": [
             [
              0,
              "#0d0887"
             ],
             [
              0.1111111111111111,
              "#46039f"
             ],
             [
              0.2222222222222222,
              "#7201a8"
             ],
             [
              0.3333333333333333,
              "#9c179e"
             ],
             [
              0.4444444444444444,
              "#bd3786"
             ],
             [
              0.5555555555555556,
              "#d8576b"
             ],
             [
              0.6666666666666666,
              "#ed7953"
             ],
             [
              0.7777777777777778,
              "#fb9f3a"
             ],
             [
              0.8888888888888888,
              "#fdca26"
             ],
             [
              1,
              "#f0f921"
             ]
            ],
            "type": "surface"
           }
          ],
          "table": [
           {
            "cells": {
             "fill": {
              "color": "#EBF0F8"
             },
             "line": {
              "color": "white"
             }
            },
            "header": {
             "fill": {
              "color": "#C8D4E3"
             },
             "line": {
              "color": "white"
             }
            },
            "type": "table"
           }
          ]
         },
         "layout": {
          "annotationdefaults": {
           "arrowcolor": "#2a3f5f",
           "arrowhead": 0,
           "arrowwidth": 1
          },
          "autotypenumbers": "strict",
          "coloraxis": {
           "colorbar": {
            "outlinewidth": 0,
            "ticks": ""
           }
          },
          "colorscale": {
           "diverging": [
            [
             0,
             "#8e0152"
            ],
            [
             0.1,
             "#c51b7d"
            ],
            [
             0.2,
             "#de77ae"
            ],
            [
             0.3,
             "#f1b6da"
            ],
            [
             0.4,
             "#fde0ef"
            ],
            [
             0.5,
             "#f7f7f7"
            ],
            [
             0.6,
             "#e6f5d0"
            ],
            [
             0.7,
             "#b8e186"
            ],
            [
             0.8,
             "#7fbc41"
            ],
            [
             0.9,
             "#4d9221"
            ],
            [
             1,
             "#276419"
            ]
           ],
           "sequential": [
            [
             0,
             "#0d0887"
            ],
            [
             0.1111111111111111,
             "#46039f"
            ],
            [
             0.2222222222222222,
             "#7201a8"
            ],
            [
             0.3333333333333333,
             "#9c179e"
            ],
            [
             0.4444444444444444,
             "#bd3786"
            ],
            [
             0.5555555555555556,
             "#d8576b"
            ],
            [
             0.6666666666666666,
             "#ed7953"
            ],
            [
             0.7777777777777778,
             "#fb9f3a"
            ],
            [
             0.8888888888888888,
             "#fdca26"
            ],
            [
             1,
             "#f0f921"
            ]
           ],
           "sequentialminus": [
            [
             0,
             "#0d0887"
            ],
            [
             0.1111111111111111,
             "#46039f"
            ],
            [
             0.2222222222222222,
             "#7201a8"
            ],
            [
             0.3333333333333333,
             "#9c179e"
            ],
            [
             0.4444444444444444,
             "#bd3786"
            ],
            [
             0.5555555555555556,
             "#d8576b"
            ],
            [
             0.6666666666666666,
             "#ed7953"
            ],
            [
             0.7777777777777778,
             "#fb9f3a"
            ],
            [
             0.8888888888888888,
             "#fdca26"
            ],
            [
             1,
             "#f0f921"
            ]
           ]
          },
          "colorway": [
           "#636efa",
           "#EF553B",
           "#00cc96",
           "#ab63fa",
           "#FFA15A",
           "#19d3f3",
           "#FF6692",
           "#B6E880",
           "#FF97FF",
           "#FECB52"
          ],
          "font": {
           "color": "#2a3f5f"
          },
          "geo": {
           "bgcolor": "white",
           "lakecolor": "white",
           "landcolor": "#E5ECF6",
           "showlakes": true,
           "showland": true,
           "subunitcolor": "white"
          },
          "hoverlabel": {
           "align": "left"
          },
          "hovermode": "closest",
          "mapbox": {
           "style": "light"
          },
          "paper_bgcolor": "white",
          "plot_bgcolor": "#E5ECF6",
          "polar": {
           "angularaxis": {
            "gridcolor": "white",
            "linecolor": "white",
            "ticks": ""
           },
           "bgcolor": "#E5ECF6",
           "radialaxis": {
            "gridcolor": "white",
            "linecolor": "white",
            "ticks": ""
           }
          },
          "scene": {
           "xaxis": {
            "backgroundcolor": "#E5ECF6",
            "gridcolor": "white",
            "gridwidth": 2,
            "linecolor": "white",
            "showbackground": true,
            "ticks": "",
            "zerolinecolor": "white"
           },
           "yaxis": {
            "backgroundcolor": "#E5ECF6",
            "gridcolor": "white",
            "gridwidth": 2,
            "linecolor": "white",
            "showbackground": true,
            "ticks": "",
            "zerolinecolor": "white"
           },
           "zaxis": {
            "backgroundcolor": "#E5ECF6",
            "gridcolor": "white",
            "gridwidth": 2,
            "linecolor": "white",
            "showbackground": true,
            "ticks": "",
            "zerolinecolor": "white"
           }
          },
          "shapedefaults": {
           "line": {
            "color": "#2a3f5f"
           }
          },
          "ternary": {
           "aaxis": {
            "gridcolor": "white",
            "linecolor": "white",
            "ticks": ""
           },
           "baxis": {
            "gridcolor": "white",
            "linecolor": "white",
            "ticks": ""
           },
           "bgcolor": "#E5ECF6",
           "caxis": {
            "gridcolor": "white",
            "linecolor": "white",
            "ticks": ""
           }
          },
          "title": {
           "x": 0.05
          },
          "xaxis": {
           "automargin": true,
           "gridcolor": "white",
           "linecolor": "white",
           "ticks": "",
           "title": {
            "standoff": 15
           },
           "zerolinecolor": "white",
           "zerolinewidth": 2
          },
          "yaxis": {
           "automargin": true,
           "gridcolor": "white",
           "linecolor": "white",
           "ticks": "",
           "title": {
            "standoff": 15
           },
           "zerolinecolor": "white",
           "zerolinewidth": 2
          }
         }
        },
        "title": {
         "text": "Countries with Gold Medals"
        }
       }
      },
      "text/html": [
       "<div>                            <div id=\"6736755d-ef69-4272-bf32-2bc4fd096ba8\" class=\"plotly-graph-div\" style=\"height:525px; width:100%;\"></div>            <script type=\"text/javascript\">                require([\"plotly\"], function(Plotly) {                    window.PLOTLYENV=window.PLOTLYENV || {};                                    if (document.getElementById(\"6736755d-ef69-4272-bf32-2bc4fd096ba8\")) {                    Plotly.newPlot(                        \"6736755d-ef69-4272-bf32-2bc4fd096ba8\",                        [{\"autocolorscale\":false,\"colorbar\":{\"tickprefix\":\"\",\"title\":{\"text\":\"Medals\"}},\"colorscale\":[[0.0,\"rgb(247,252,245)\"],[0.125,\"rgb(229,245,224)\"],[0.25,\"rgb(199,233,192)\"],[0.375,\"rgb(161,217,155)\"],[0.5,\"rgb(116,196,118)\"],[0.625,\"rgb(65,171,93)\"],[0.75,\"rgb(35,139,69)\"],[0.875,\"rgb(0,109,44)\"],[1.0,\"rgb(0,68,27)\"]],\"locationmode\":\"country names\",\"locations\":[\"Algeria\",\"Amateur Athletic Association\",\"Ancora\",\"Angelita\",\"Argentina\",\"Armenia\",\"Aschenbrodel\",\"Atalanta Boat Club-1\",\"Atlanta\",\"Australasia\",\"Australia\",\"Australia-1\",\"Austria\",\"Austria-1\",\"Azerbaijan\",\"Baby-1\",\"Bahamas\",\"Bahrain\",\"Barrenjoey\",\"Beatrijs III-1\",\"Belarus\",\"Belgium\",\"Belgium-1\",\"Bera\",\"Bissbi\",\"Bona Fide\",\"Bonaparte\",\"Brazil\",\"Brazil-1\",\"Bucintoro Venezia\",\"Bucintoro Venezia-1\",\"Bulgaria\",\"Burundi\",\"Cameroon\",\"Camille\",\"Canada\",\"Canada-1\",\"Carabinier-15\",\"Century Boat Club-1\",\"Cercle de l'Aviron Roubaix-4\",\"Chile\",\"China\",\"China-1\",\"China-2\",\"Chinese Taipei\",\"Cicely-1\",\"Cincinnati Archers\",\"Cobweb-1\",\"Colombia\",\"Complex II\",\"Costa Rica\",\"Cote d'Ivoire\",\"Croatia\",\"Cuba\",\"Czech Republic\",\"Czechoslovakia\",\"Denmark\",\"Denmark/Sweden\",\"Deutscher Schwimm Verband Berlin\",\"Devon and Somerset Wanderers\",\"Dominican Republic\",\"Dormy-1\",\"East Germany\",\"East Germany-1\",\"East Germany-2\",\"Ecuador\",\"Edelweiss II-1\",\"Egypt\",\"Eleda\",\"Elisabeth V\",\"Elvis Va\",\"England-1\",\"Esterel-1\",\"Estonia\",\"Ethiopia\",\"Fantlet-7\",\"Femur-1\",\"Fiji\",\"Finland\",\"Foxhunters Hurlingham\",\"France\",\"France-1\",\"France-3\",\"Galt Football Club\",\"Gem\",\"Georgia\",\"Germania Ruder Club, Hamburg-2\",\"Germany\",\"Germany-1\",\"Germany-2\",\"Great Britain\",\"Great Britain-1\",\"Great Britain-2\",\"Great Britain/Germany\",\"Greece\",\"Grenada\",\"Gyrinus-1\",\"Heira II\",\"Hera-1\",\"Heroine\",\"Hilarius\",\"Hong Kong\",\"Hungary\",\"India\",\"Individual Olympic Athletes\",\"Indonesia\",\"Indonesia-1\",\"Iran\",\"Ireland\",\"Irene\",\"Israel\",\"Italia\",\"Italy\",\"Italy-1\",\"Jamaica\",\"Japan\",\"Jest\",\"Jo\",\"Jordan\",\"Jupiter\",\"Kathleen\",\"Kazakhstan\",\"Kenya\",\"Kitty-1\",\"Kosovo\",\"Kullan\",\"L'Aile VI\",\"Lalage\",\"Large boat, Central Naval Prep School \\\"Poros\\\"-1\",\"Latvia\",\"Leander Club #1-1\",\"Leander Club-1\",\"Lerina\",\"Liechtenstein\",\"Lithuania\",\"Llanoria\",\"London City Police-1\",\"Ludwigshafener Ruderverein\",\"Luxembourg\",\"Mac Miche\",\"Magda IX\",\"Magdalen College Boat Club-1\",\"Marinai della nave da guerra \\\"Varese\\\"\",\"Merope\",\"Mexico\",\"Milwaukee Athletic Club-1\",\"Minerva Amsterdam\",\"Minotaur\",\"Mongolia\",\"Morocco\",\"Mosk II\",\"Mozambique\",\"Nepal\",\"Netherlands\",\"New York Athletic Club\",\"New York Athletic Club #1-1\",\"New York Athletic Club-1\",\"New Zealand\",\"Nigeria\",\"Nirefs\",\"Norna\",\"North Korea\",\"Norway\",\"Nrnberg\",\"Nykjbings paa Falster\",\"Olle\",\"Oranje\",\"Osborne Swimming Club, Manchester\",\"Pakistan\",\"Pan\",\"Panama\",\"Pandora\",\"Peru\",\"Philadelphia Turngemeinde, Philadelphia\",\"Poland\",\"Portugal\",\"Potomac Archers\",\"Puerto Rico\",\"Roehampton-1\",\"Romania\",\"Rush V\",\"Russia\",\"Russia-1\",\"Russia-2\",\"Satchmo\",\"Scotia\",\"Seawanhaka Boat Club-1\",\"Serbia\",\"Serbia and Montenegro\",\"Sif\",\"Sildra-1\",\"Singapore\",\"Sirene\",\"Slaghoken II\",\"Slovakia\",\"Slovenia\",\"South Africa\",\"South Korea\",\"South Korea-1\",\"South Korea-2\",\"Soviet Union\",\"Soviet Union-1\",\"Spain\",\"Spain-2\",\"Suriname\",\"Sweden\",\"Swift\",\"Switzerland\",\"Switzerland-1\",\"Switzerland-2\",\"Syria\",\"Taifun\",\"Tajikistan\",\"Thailand\",\"Tornado\",\"Trinidad and Tobago\",\"Tunisia\",\"Turkey\",\"Uganda\",\"Ukraine\",\"Unified Team\",\"Unified Team-1\",\"Union des Socits Franais de Sports Athletiques\",\"United Arab Emirates\",\"United States\",\"United States-1\",\"United States-2\",\"Upton Park FC\",\"Uruguay\",\"Uzbekistan\",\"Venezuela\",\"Vesper Boat Club\",\"Vietnam\",\"Wannsee\",\"West Germany\",\"West Germany-1\",\"West Germany-2\",\"Western Golf Association-1\",\"White Lady\",\"Winnipeg Shamrocks-1\",\"Yugoslavia\",\"Zimbabwe\"],\"marker\":{\"line\":{\"color\":\"rgb(0,0,0)\",\"width\":0.5}},\"reversescale\":false,\"text\":[\"Algeria\",\"Amateur Athletic Association\",\"Ancora\",\"Angelita\",\"Argentina\",\"Armenia\",\"Aschenbrodel\",\"Atalanta Boat Club-1\",\"Atlanta\",\"Australasia\",\"Australia\",\"Australia-1\",\"Austria\",\"Austria-1\",\"Azerbaijan\",\"Baby-1\",\"Bahamas\",\"Bahrain\",\"Barrenjoey\",\"Beatrijs III-1\",\"Belarus\",\"Belgium\",\"Belgium-1\",\"Bera\",\"Bissbi\",\"Bona Fide\",\"Bonaparte\",\"Brazil\",\"Brazil-1\",\"Bucintoro Venezia\",\"Bucintoro Venezia-1\",\"Bulgaria\",\"Burundi\",\"Cameroon\",\"Camille\",\"Canada\",\"Canada-1\",\"Carabinier-15\",\"Century Boat Club-1\",\"Cercle de l'Aviron Roubaix-4\",\"Chile\",\"China\",\"China-1\",\"China-2\",\"Chinese Taipei\",\"Cicely-1\",\"Cincinnati Archers\",\"Cobweb-1\",\"Colombia\",\"Complex II\",\"Costa Rica\",\"Cote d'Ivoire\",\"Croatia\",\"Cuba\",\"Czech Republic\",\"Czechoslovakia\",\"Denmark\",\"Denmark/Sweden\",\"Deutscher Schwimm Verband Berlin\",\"Devon and Somerset Wanderers\",\"Dominican Republic\",\"Dormy-1\",\"East Germany\",\"East Germany-1\",\"East Germany-2\",\"Ecuador\",\"Edelweiss II-1\",\"Egypt\",\"Eleda\",\"Elisabeth V\",\"Elvis Va\",\"England-1\",\"Esterel-1\",\"Estonia\",\"Ethiopia\",\"Fantlet-7\",\"Femur-1\",\"Fiji\",\"Finland\",\"Foxhunters Hurlingham\",\"France\",\"France-1\",\"France-3\",\"Galt Football Club\",\"Gem\",\"Georgia\",\"Germania Ruder Club, Hamburg-2\",\"Germany\",\"Germany-1\",\"Germany-2\",\"Great Britain\",\"Great Britain-1\",\"Great Britain-2\",\"Great Britain/Germany\",\"Greece\",\"Grenada\",\"Gyrinus-1\",\"Heira II\",\"Hera-1\",\"Heroine\",\"Hilarius\",\"Hong Kong\",\"Hungary\",\"India\",\"Individual Olympic Athletes\",\"Indonesia\",\"Indonesia-1\",\"Iran\",\"Ireland\",\"Irene\",\"Israel\",\"Italia\",\"Italy\",\"Italy-1\",\"Jamaica\",\"Japan\",\"Jest\",\"Jo\",\"Jordan\",\"Jupiter\",\"Kathleen\",\"Kazakhstan\",\"Kenya\",\"Kitty-1\",\"Kosovo\",\"Kullan\",\"L'Aile VI\",\"Lalage\",\"Large boat, Central Naval Prep School \\\"Poros\\\"-1\",\"Latvia\",\"Leander Club #1-1\",\"Leander Club-1\",\"Lerina\",\"Liechtenstein\",\"Lithuania\",\"Llanoria\",\"London City Police-1\",\"Ludwigshafener Ruderverein\",\"Luxembourg\",\"Mac Miche\",\"Magda IX\",\"Magdalen College Boat Club-1\",\"Marinai della nave da guerra \\\"Varese\\\"\",\"Merope\",\"Mexico\",\"Milwaukee Athletic Club-1\",\"Minerva Amsterdam\",\"Minotaur\",\"Mongolia\",\"Morocco\",\"Mosk II\",\"Mozambique\",\"Nepal\",\"Netherlands\",\"New York Athletic Club\",\"New York Athletic Club #1-1\",\"New York Athletic Club-1\",\"New Zealand\",\"Nigeria\",\"Nirefs\",\"Norna\",\"North Korea\",\"Norway\",\"Nrnberg\",\"Nykjbings paa Falster\",\"Olle\",\"Oranje\",\"Osborne Swimming Club, Manchester\",\"Pakistan\",\"Pan\",\"Panama\",\"Pandora\",\"Peru\",\"Philadelphia Turngemeinde, Philadelphia\",\"Poland\",\"Portugal\",\"Potomac Archers\",\"Puerto Rico\",\"Roehampton-1\",\"Romania\",\"Rush V\",\"Russia\",\"Russia-1\",\"Russia-2\",\"Satchmo\",\"Scotia\",\"Seawanhaka Boat Club-1\",\"Serbia\",\"Serbia and Montenegro\",\"Sif\",\"Sildra-1\",\"Singapore\",\"Sirene\",\"Slaghoken II\",\"Slovakia\",\"Slovenia\",\"South Africa\",\"South Korea\",\"South Korea-1\",\"South Korea-2\",\"Soviet Union\",\"Soviet Union-1\",\"Spain\",\"Spain-2\",\"Suriname\",\"Sweden\",\"Swift\",\"Switzerland\",\"Switzerland-1\",\"Switzerland-2\",\"Syria\",\"Taifun\",\"Tajikistan\",\"Thailand\",\"Tornado\",\"Trinidad and Tobago\",\"Tunisia\",\"Turkey\",\"Uganda\",\"Ukraine\",\"Unified Team\",\"Unified Team-1\",\"Union des Socits Franais de Sports Athletiques\",\"United Arab Emirates\",\"United States\",\"United States-1\",\"United States-2\",\"Upton Park FC\",\"Uruguay\",\"Uzbekistan\",\"Venezuela\",\"Vesper Boat Club\",\"Vietnam\",\"Wannsee\",\"West Germany\",\"West Germany-1\",\"West Germany-2\",\"Western Golf Association-1\",\"White Lady\",\"Winnipeg Shamrocks-1\",\"Yugoslavia\",\"Zimbabwe\"],\"type\":\"choropleth\",\"z\":[5,5,4,12,91,2,4,2,9,20,342,2,95,12,7,1,12,1,3,3,24,94,1,5,4,3,1,103,6,8,3,54,1,20,1,422,16,1,4,5,3,308,28,14,3,1,4,5,5,4,1,1,58,164,42,81,168,6,4,12,3,3,369,24,4,1,3,7,7,3,1,11,2,13,22,1,1,13,198,5,455,4,2,13,2,8,5,679,28,14,519,20,4,2,42,1,6,9,10,4,2,1,432,138,1,7,4,18,9,5,1,6,535,14,38,247,2,3,1,2,2,20,34,8,1,3,6,5,17,3,2,18,3,2,6,11,8,5,4,3,10,4,7,2,30,5,3,3,2,6,7,1,1,277,5,4,7,85,23,3,4,16,299,1,5,6,3,7,42,6,1,2,1,6,117,4,4,1,4,161,3,366,22,2,1,6,2,15,12,4,4,1,2,3,15,8,32,211,6,4,1058,22,108,2,1,451,2,144,20,8,1,5,1,9,2,7,3,40,2,47,123,4,17,1,2474,38,17,11,31,10,2,18,1,2,155,2,2,10,3,12,130,17]}],                        {\"geo\":{\"projection\":{\"type\":\"natural earth\"},\"showcoastlines\":true,\"showframe\":true,\"showlakes\":false},\"template\":{\"data\":{\"bar\":[{\"error_x\":{\"color\":\"#2a3f5f\"},\"error_y\":{\"color\":\"#2a3f5f\"},\"marker\":{\"line\":{\"color\":\"#E5ECF6\",\"width\":0.5},\"pattern\":{\"fillmode\":\"overlay\",\"size\":10,\"solidity\":0.2}},\"type\":\"bar\"}],\"barpolar\":[{\"marker\":{\"line\":{\"color\":\"#E5ECF6\",\"width\":0.5},\"pattern\":{\"fillmode\":\"overlay\",\"size\":10,\"solidity\":0.2}},\"type\":\"barpolar\"}],\"carpet\":[{\"aaxis\":{\"endlinecolor\":\"#2a3f5f\",\"gridcolor\":\"white\",\"linecolor\":\"white\",\"minorgridcolor\":\"white\",\"startlinecolor\":\"#2a3f5f\"},\"baxis\":{\"endlinecolor\":\"#2a3f5f\",\"gridcolor\":\"white\",\"linecolor\":\"white\",\"minorgridcolor\":\"white\",\"startlinecolor\":\"#2a3f5f\"},\"type\":\"carpet\"}],\"choropleth\":[{\"colorbar\":{\"outlinewidth\":0,\"ticks\":\"\"},\"type\":\"choropleth\"}],\"contour\":[{\"colorbar\":{\"outlinewidth\":0,\"ticks\":\"\"},\"colorscale\":[[0.0,\"#0d0887\"],[0.1111111111111111,\"#46039f\"],[0.2222222222222222,\"#7201a8\"],[0.3333333333333333,\"#9c179e\"],[0.4444444444444444,\"#bd3786\"],[0.5555555555555556,\"#d8576b\"],[0.6666666666666666,\"#ed7953\"],[0.7777777777777778,\"#fb9f3a\"],[0.8888888888888888,\"#fdca26\"],[1.0,\"#f0f921\"]],\"type\":\"contour\"}],\"contourcarpet\":[{\"colorbar\":{\"outlinewidth\":0,\"ticks\":\"\"},\"type\":\"contourcarpet\"}],\"heatmap\":[{\"colorbar\":{\"outlinewidth\":0,\"ticks\":\"\"},\"colorscale\":[[0.0,\"#0d0887\"],[0.1111111111111111,\"#46039f\"],[0.2222222222222222,\"#7201a8\"],[0.3333333333333333,\"#9c179e\"],[0.4444444444444444,\"#bd3786\"],[0.5555555555555556,\"#d8576b\"],[0.6666666666666666,\"#ed7953\"],[0.7777777777777778,\"#fb9f3a\"],[0.8888888888888888,\"#fdca26\"],[1.0,\"#f0f921\"]],\"type\":\"heatmap\"}],\"heatmapgl\":[{\"colorbar\":{\"outlinewidth\":0,\"ticks\":\"\"},\"colorscale\":[[0.0,\"#0d0887\"],[0.1111111111111111,\"#46039f\"],[0.2222222222222222,\"#7201a8\"],[0.3333333333333333,\"#9c179e\"],[0.4444444444444444,\"#bd3786\"],[0.5555555555555556,\"#d8576b\"],[0.6666666666666666,\"#ed7953\"],[0.7777777777777778,\"#fb9f3a\"],[0.8888888888888888,\"#fdca26\"],[1.0,\"#f0f921\"]],\"type\":\"heatmapgl\"}],\"histogram\":[{\"marker\":{\"pattern\":{\"fillmode\":\"overlay\",\"size\":10,\"solidity\":0.2}},\"type\":\"histogram\"}],\"histogram2d\":[{\"colorbar\":{\"outlinewidth\":0,\"ticks\":\"\"},\"colorscale\":[[0.0,\"#0d0887\"],[0.1111111111111111,\"#46039f\"],[0.2222222222222222,\"#7201a8\"],[0.3333333333333333,\"#9c179e\"],[0.4444444444444444,\"#bd3786\"],[0.5555555555555556,\"#d8576b\"],[0.6666666666666666,\"#ed7953\"],[0.7777777777777778,\"#fb9f3a\"],[0.8888888888888888,\"#fdca26\"],[1.0,\"#f0f921\"]],\"type\":\"histogram2d\"}],\"histogram2dcontour\":[{\"colorbar\":{\"outlinewidth\":0,\"ticks\":\"\"},\"colorscale\":[[0.0,\"#0d0887\"],[0.1111111111111111,\"#46039f\"],[0.2222222222222222,\"#7201a8\"],[0.3333333333333333,\"#9c179e\"],[0.4444444444444444,\"#bd3786\"],[0.5555555555555556,\"#d8576b\"],[0.6666666666666666,\"#ed7953\"],[0.7777777777777778,\"#fb9f3a\"],[0.8888888888888888,\"#fdca26\"],[1.0,\"#f0f921\"]],\"type\":\"histogram2dcontour\"}],\"mesh3d\":[{\"colorbar\":{\"outlinewidth\":0,\"ticks\":\"\"},\"type\":\"mesh3d\"}],\"parcoords\":[{\"line\":{\"colorbar\":{\"outlinewidth\":0,\"ticks\":\"\"}},\"type\":\"parcoords\"}],\"pie\":[{\"automargin\":true,\"type\":\"pie\"}],\"scatter\":[{\"marker\":{\"colorbar\":{\"outlinewidth\":0,\"ticks\":\"\"}},\"type\":\"scatter\"}],\"scatter3d\":[{\"line\":{\"colorbar\":{\"outlinewidth\":0,\"ticks\":\"\"}},\"marker\":{\"colorbar\":{\"outlinewidth\":0,\"ticks\":\"\"}},\"type\":\"scatter3d\"}],\"scattercarpet\":[{\"marker\":{\"colorbar\":{\"outlinewidth\":0,\"ticks\":\"\"}},\"type\":\"scattercarpet\"}],\"scattergeo\":[{\"marker\":{\"colorbar\":{\"outlinewidth\":0,\"ticks\":\"\"}},\"type\":\"scattergeo\"}],\"scattergl\":[{\"marker\":{\"colorbar\":{\"outlinewidth\":0,\"ticks\":\"\"}},\"type\":\"scattergl\"}],\"scattermapbox\":[{\"marker\":{\"colorbar\":{\"outlinewidth\":0,\"ticks\":\"\"}},\"type\":\"scattermapbox\"}],\"scatterpolar\":[{\"marker\":{\"colorbar\":{\"outlinewidth\":0,\"ticks\":\"\"}},\"type\":\"scatterpolar\"}],\"scatterpolargl\":[{\"marker\":{\"colorbar\":{\"outlinewidth\":0,\"ticks\":\"\"}},\"type\":\"scatterpolargl\"}],\"scatterternary\":[{\"marker\":{\"colorbar\":{\"outlinewidth\":0,\"ticks\":\"\"}},\"type\":\"scatterternary\"}],\"surface\":[{\"colorbar\":{\"outlinewidth\":0,\"ticks\":\"\"},\"colorscale\":[[0.0,\"#0d0887\"],[0.1111111111111111,\"#46039f\"],[0.2222222222222222,\"#7201a8\"],[0.3333333333333333,\"#9c179e\"],[0.4444444444444444,\"#bd3786\"],[0.5555555555555556,\"#d8576b\"],[0.6666666666666666,\"#ed7953\"],[0.7777777777777778,\"#fb9f3a\"],[0.8888888888888888,\"#fdca26\"],[1.0,\"#f0f921\"]],\"type\":\"surface\"}],\"table\":[{\"cells\":{\"fill\":{\"color\":\"#EBF0F8\"},\"line\":{\"color\":\"white\"}},\"header\":{\"fill\":{\"color\":\"#C8D4E3\"},\"line\":{\"color\":\"white\"}},\"type\":\"table\"}]},\"layout\":{\"annotationdefaults\":{\"arrowcolor\":\"#2a3f5f\",\"arrowhead\":0,\"arrowwidth\":1},\"autotypenumbers\":\"strict\",\"coloraxis\":{\"colorbar\":{\"outlinewidth\":0,\"ticks\":\"\"}},\"colorscale\":{\"diverging\":[[0,\"#8e0152\"],[0.1,\"#c51b7d\"],[0.2,\"#de77ae\"],[0.3,\"#f1b6da\"],[0.4,\"#fde0ef\"],[0.5,\"#f7f7f7\"],[0.6,\"#e6f5d0\"],[0.7,\"#b8e186\"],[0.8,\"#7fbc41\"],[0.9,\"#4d9221\"],[1,\"#276419\"]],\"sequential\":[[0.0,\"#0d0887\"],[0.1111111111111111,\"#46039f\"],[0.2222222222222222,\"#7201a8\"],[0.3333333333333333,\"#9c179e\"],[0.4444444444444444,\"#bd3786\"],[0.5555555555555556,\"#d8576b\"],[0.6666666666666666,\"#ed7953\"],[0.7777777777777778,\"#fb9f3a\"],[0.8888888888888888,\"#fdca26\"],[1.0,\"#f0f921\"]],\"sequentialminus\":[[0.0,\"#0d0887\"],[0.1111111111111111,\"#46039f\"],[0.2222222222222222,\"#7201a8\"],[0.3333333333333333,\"#9c179e\"],[0.4444444444444444,\"#bd3786\"],[0.5555555555555556,\"#d8576b\"],[0.6666666666666666,\"#ed7953\"],[0.7777777777777778,\"#fb9f3a\"],[0.8888888888888888,\"#fdca26\"],[1.0,\"#f0f921\"]]},\"colorway\":[\"#636efa\",\"#EF553B\",\"#00cc96\",\"#ab63fa\",\"#FFA15A\",\"#19d3f3\",\"#FF6692\",\"#B6E880\",\"#FF97FF\",\"#FECB52\"],\"font\":{\"color\":\"#2a3f5f\"},\"geo\":{\"bgcolor\":\"white\",\"lakecolor\":\"white\",\"landcolor\":\"#E5ECF6\",\"showlakes\":true,\"showland\":true,\"subunitcolor\":\"white\"},\"hoverlabel\":{\"align\":\"left\"},\"hovermode\":\"closest\",\"mapbox\":{\"style\":\"light\"},\"paper_bgcolor\":\"white\",\"plot_bgcolor\":\"#E5ECF6\",\"polar\":{\"angularaxis\":{\"gridcolor\":\"white\",\"linecolor\":\"white\",\"ticks\":\"\"},\"bgcolor\":\"#E5ECF6\",\"radialaxis\":{\"gridcolor\":\"white\",\"linecolor\":\"white\",\"ticks\":\"\"}},\"scene\":{\"xaxis\":{\"backgroundcolor\":\"#E5ECF6\",\"gridcolor\":\"white\",\"gridwidth\":2,\"linecolor\":\"white\",\"showbackground\":true,\"ticks\":\"\",\"zerolinecolor\":\"white\"},\"yaxis\":{\"backgroundcolor\":\"#E5ECF6\",\"gridcolor\":\"white\",\"gridwidth\":2,\"linecolor\":\"white\",\"showbackground\":true,\"ticks\":\"\",\"zerolinecolor\":\"white\"},\"zaxis\":{\"backgroundcolor\":\"#E5ECF6\",\"gridcolor\":\"white\",\"gridwidth\":2,\"linecolor\":\"white\",\"showbackground\":true,\"ticks\":\"\",\"zerolinecolor\":\"white\"}},\"shapedefaults\":{\"line\":{\"color\":\"#2a3f5f\"}},\"ternary\":{\"aaxis\":{\"gridcolor\":\"white\",\"linecolor\":\"white\",\"ticks\":\"\"},\"baxis\":{\"gridcolor\":\"white\",\"linecolor\":\"white\",\"ticks\":\"\"},\"bgcolor\":\"#E5ECF6\",\"caxis\":{\"gridcolor\":\"white\",\"linecolor\":\"white\",\"ticks\":\"\"}},\"title\":{\"x\":0.05},\"xaxis\":{\"automargin\":true,\"gridcolor\":\"white\",\"linecolor\":\"white\",\"ticks\":\"\",\"title\":{\"standoff\":15},\"zerolinecolor\":\"white\",\"zerolinewidth\":2},\"yaxis\":{\"automargin\":true,\"gridcolor\":\"white\",\"linecolor\":\"white\",\"ticks\":\"\",\"title\":{\"standoff\":15},\"zerolinecolor\":\"white\",\"zerolinewidth\":2}}},\"title\":{\"text\":\"Countries with Gold Medals\"}},                        {\"responsive\": true}                    ).then(function(){\n",
       "                            \n",
       "var gd = document.getElementById('6736755d-ef69-4272-bf32-2bc4fd096ba8');\n",
       "var x = new MutationObserver(function (mutations, observer) {{\n",
       "        var display = window.getComputedStyle(gd).display;\n",
       "        if (!display || display === 'none') {{\n",
       "            console.log([gd, 'removed!']);\n",
       "            Plotly.purge(gd);\n",
       "            observer.disconnect();\n",
       "        }}\n",
       "}});\n",
       "\n",
       "// Listen for the removal of the full notebook cells\n",
       "var notebookContainer = gd.closest('#notebook-container');\n",
       "if (notebookContainer) {{\n",
       "    x.observe(notebookContainer, {childList: true});\n",
       "}}\n",
       "\n",
       "// Listen for the clearing of the current output cell\n",
       "var outputEl = gd.closest('.output');\n",
       "if (outputEl) {{\n",
       "    x.observe(outputEl, {childList: true});\n",
       "}}\n",
       "\n",
       "                        })                };                });            </script>        </div>"
      ]
     },
     "metadata": {},
     "output_type": "display_data"
    }
   ],
   "source": [
    "draw_map(dfG, \"Countries with Gold Medals\",'Greens')"
   ]
  },
  {
   "cell_type": "code",
   "execution_count": 45,
   "id": "1c4a1558",
   "metadata": {},
   "outputs": [
    {
     "data": {
      "application/vnd.plotly.v1+json": {
       "config": {
        "linkText": "Export to plot.ly",
        "plotlyServerURL": "https://plot.ly",
        "showLink": false
       },
       "data": [
        {
         "autocolorscale": false,
         "colorbar": {
          "tickprefix": "",
          "title": {
           "text": "Medals"
          }
         },
         "colorscale": [
          [
           0,
           "rgb(255,255,255)"
          ],
          [
           0.125,
           "rgb(240,240,240)"
          ],
          [
           0.25,
           "rgb(217,217,217)"
          ],
          [
           0.375,
           "rgb(189,189,189)"
          ],
          [
           0.5,
           "rgb(150,150,150)"
          ],
          [
           0.625,
           "rgb(115,115,115)"
          ],
          [
           0.75,
           "rgb(82,82,82)"
          ],
          [
           0.875,
           "rgb(37,37,37)"
          ],
          [
           1,
           "rgb(0,0,0)"
          ]
         ],
         "locationmode": "country names",
         "locations": [
          "Algeria",
          "Argentina",
          "Armenia",
          "Aschenbrodel",
          "Atalanta Boat Club-2",
          "Australasia",
          "Australia",
          "Austria",
          "Austria-1",
          "Austria-2",
          "Azerbaijan",
          "BLO Polo Club, Rugby",
          "Bahamas",
          "Bahrain",
          "Barion/Bari-2",
          "Belarus",
          "Belgium",
          "Bohemia",
          "Bonzo",
          "Boreas-2",
          "Botswana",
          "Brazil",
          "Brazil-1",
          "Brazil-2",
          "Brussels Swimming and Water Polo Club",
          "Brynhild-2",
          "Bulgaria",
          "Burundi",
          "Cameroon",
          "Canada",
          "Canada-1",
          "Canada-2",
          "Chicago Athletic Association",
          "Chicago Athletic Association-2",
          "Chile",
          "China",
          "China-1",
          "China-2",
          "Chinese Taipei",
          "Christian Brothers' College-1",
          "Cincinnati Archers",
          "Club Nautique de Lyon-2",
          "Colombia",
          "Comanche",
          "Cornwall",
          "Costa Rica",
          "Cote d'Ivoire",
          "Crabe II-1",
          "Croatia",
          "Cuba",
          "Cyprus",
          "Czech Republic",
          "Czech Republic-1",
          "Czechoslovakia",
          "Czechoslovakia-1",
          "Denmark",
          "Djinn",
          "Dominican Republic",
          "East Germany",
          "East Germany-1",
          "East Germany-2",
          "Ecuador",
          "Egypt",
          "Elisabeth X",
          "Elsie",
          "Emily",
          "Encore",
          "England",
          "England-1",
          "Erna Signe",
          "Estonia",
          "Ethiopia",
          "Falcon IV",
          "Favorite-1",
          "Finland",
          "Fornebo",
          "France",
          "France-1",
          "France/Great Britain",
          "Frankfurt Club",
          "Gabon",
          "Gallant",
          "Georgia",
          "Germany",
          "Germany-1",
          "Germany-2",
          "Ghana",
          "Gitana-2",
          "Glider",
          "Great Britain",
          "Great Britain-1",
          "Great Britain-2",
          "Great Britain-3",
          "Greece",
          "Greece-1",
          "Grenada",
          "Guatemala",
          "Haiti",
          "Hi-Hi",
          "Hollandia",
          "Hong Kong-2",
          "Hungary",
          "Hungary-1",
          "Hurlingham-2",
          "Iceland",
          "India",
          "Individual Olympic Athletes",
          "Indonesia",
          "Indonesia-1",
          "Iran",
          "Ireland",
          "Ireland-2",
          "Ireland-3",
          "Israel",
          "Italy",
          "Italy-1",
          "Italy-2",
          "Jamaica",
          "Japan",
          "Japan-1",
          "Joy",
          "Kazakhstan",
          "Kenya",
          "Kurush II",
          "Kyrgyzstan",
          "Lady C",
          "Latvia",
          "Latvia-1",
          "Leander Club #2-2",
          "Leander Club-2",
          "Lebanon",
          "Lerina",
          "Liechtenstein",
          "Life boat naval ship \"Spetsai\"-1",
          "Lithuania",
          "Liverpool Police Team-2",
          "Lully II",
          "Luxembourg",
          "Lyn-2",
          "Ma'Lindo",
          "Malaysia",
          "Malaysia-1",
          "Marmi II-1",
          "Martha-1",
          "Mascotte",
          "Merope III",
          "Mexico",
          "Minerva Amsterdam",
          "Moldova",
          "Mongolia",
          "Montenegro",
          "Morocco",
          "Moseley Wanderers",
          "Mouchette-2",
          "Mound City Rowing Club-2",
          "Mutafo",
          "Nadine",
          "Namibia",
          "Netherlands",
          "Netherlands Antilles",
          "New College, Oxford-2",
          "New York Turnverein, New York",
          "New Zealand",
          "Niger",
          "Nigeria",
          "Nina",
          "North Korea",
          "Norway",
          "Nurdug II",
          "Omas Helliniki P. S.",
          "Pakistan",
          "Paraguay",
          "Peru",
          "Phalainis ton Thorichtou \"Hydra\"-2",
          "Philippines",
          "Poland",
          "Poland-1",
          "Portugal",
          "Puerto Rico",
          "Qatar",
          "Quand-Mme-2",
          "Racing Club de France",
          "Ravenswood Boat Club-2",
          "Roddklubben af 1912-1",
          "Romania",
          "Rose Pompon",
          "Rostock",
          "Royal Club Nautique de Gand",
          "Rush VII",
          "Russia",
          "Russia-1",
          "Russia-2",
          "Salinero",
          "Sans Atout-1",
          "Santa Maria",
          "Saudi Arabia",
          "Scamasaxe-3",
          "Senegal",
          "Serbia",
          "Serbia and Montenegro",
          "Silja",
          "Singapore",
          "Skum",
          "Slaghoken",
          "Slovakia",
          "Slovenia",
          "Smyrna",
          "Societ Nautique de la Marne-1",
          "Socit Nautique de la Basse Seine-1",
          "South Africa",
          "South Korea",
          "South Korea-1",
          "South Korea-2",
          "Soviet Union",
          "Soviet Union-1",
          "Soviet Union-2",
          "Spain",
          "Spain-1",
          "Spain-2",
          "Sri Lanka",
          "St. Louis Amateur Athletic Association",
          "St. Louis Southwest Turnverein #1-2",
          "Sudan",
          "Sunrise",
          "Sunshine",
          "Sweden",
          "Sweden-1",
          "Sweden-2",
          "Switzerland",
          "Switzerland-1",
          "Switzerland-2",
          "Symphony",
          "Syria",
          "Tajikistan",
          "Tan-Fe-Pah",
          "Tango",
          "Tanzania",
          "Thailand",
          "Thames Rowing Club",
          "Tip",
          "Tonga",
          "Tornado",
          "Toronto Argonauts",
          "Trans-Mississippi Golf Association-2",
          "Trinidad and Tobago",
          "Tritons Lillois-2",
          "Tunisia",
          "Turkey",
          "USFSA",
          "Uganda",
          "Ukraine",
          "Unified Team",
          "Unified Team-2",
          "Union des Socits Franais de Sports Athletiques",
          "United Arab Republic",
          "United States",
          "United States Virgin Islands",
          "United States-1",
          "United States-2",
          "United States/France",
          "Uruguay",
          "Uzbekistan",
          "Venezuela",
          "Vietnam",
          "Vinga-1",
          "Vision",
          "Web II",
          "West Germany",
          "West Germany-1",
          "Yugoslavia",
          "Zambia",
          "Zimbabwe",
          "Zut"
         ],
         "marker": {
          "line": {
           "color": "rgb(0,0,0)",
           "width": 0.5
          }
         },
         "reversescale": false,
         "text": [
          "Algeria",
          "Argentina",
          "Armenia",
          "Aschenbrodel",
          "Atalanta Boat Club-2",
          "Australasia",
          "Australia",
          "Austria",
          "Austria-1",
          "Austria-2",
          "Azerbaijan",
          "BLO Polo Club, Rugby",
          "Bahamas",
          "Bahrain",
          "Barion/Bari-2",
          "Belarus",
          "Belgium",
          "Bohemia",
          "Bonzo",
          "Boreas-2",
          "Botswana",
          "Brazil",
          "Brazil-1",
          "Brazil-2",
          "Brussels Swimming and Water Polo Club",
          "Brynhild-2",
          "Bulgaria",
          "Burundi",
          "Cameroon",
          "Canada",
          "Canada-1",
          "Canada-2",
          "Chicago Athletic Association",
          "Chicago Athletic Association-2",
          "Chile",
          "China",
          "China-1",
          "China-2",
          "Chinese Taipei",
          "Christian Brothers' College-1",
          "Cincinnati Archers",
          "Club Nautique de Lyon-2",
          "Colombia",
          "Comanche",
          "Cornwall",
          "Costa Rica",
          "Cote d'Ivoire",
          "Crabe II-1",
          "Croatia",
          "Cuba",
          "Cyprus",
          "Czech Republic",
          "Czech Republic-1",
          "Czechoslovakia",
          "Czechoslovakia-1",
          "Denmark",
          "Djinn",
          "Dominican Republic",
          "East Germany",
          "East Germany-1",
          "East Germany-2",
          "Ecuador",
          "Egypt",
          "Elisabeth X",
          "Elsie",
          "Emily",
          "Encore",
          "England",
          "England-1",
          "Erna Signe",
          "Estonia",
          "Ethiopia",
          "Falcon IV",
          "Favorite-1",
          "Finland",
          "Fornebo",
          "France",
          "France-1",
          "France/Great Britain",
          "Frankfurt Club",
          "Gabon",
          "Gallant",
          "Georgia",
          "Germany",
          "Germany-1",
          "Germany-2",
          "Ghana",
          "Gitana-2",
          "Glider",
          "Great Britain",
          "Great Britain-1",
          "Great Britain-2",
          "Great Britain-3",
          "Greece",
          "Greece-1",
          "Grenada",
          "Guatemala",
          "Haiti",
          "Hi-Hi",
          "Hollandia",
          "Hong Kong-2",
          "Hungary",
          "Hungary-1",
          "Hurlingham-2",
          "Iceland",
          "India",
          "Individual Olympic Athletes",
          "Indonesia",
          "Indonesia-1",
          "Iran",
          "Ireland",
          "Ireland-2",
          "Ireland-3",
          "Israel",
          "Italy",
          "Italy-1",
          "Italy-2",
          "Jamaica",
          "Japan",
          "Japan-1",
          "Joy",
          "Kazakhstan",
          "Kenya",
          "Kurush II",
          "Kyrgyzstan",
          "Lady C",
          "Latvia",
          "Latvia-1",
          "Leander Club #2-2",
          "Leander Club-2",
          "Lebanon",
          "Lerina",
          "Liechtenstein",
          "Life boat naval ship \"Spetsai\"-1",
          "Lithuania",
          "Liverpool Police Team-2",
          "Lully II",
          "Luxembourg",
          "Lyn-2",
          "Ma'Lindo",
          "Malaysia",
          "Malaysia-1",
          "Marmi II-1",
          "Martha-1",
          "Mascotte",
          "Merope III",
          "Mexico",
          "Minerva Amsterdam",
          "Moldova",
          "Mongolia",
          "Montenegro",
          "Morocco",
          "Moseley Wanderers",
          "Mouchette-2",
          "Mound City Rowing Club-2",
          "Mutafo",
          "Nadine",
          "Namibia",
          "Netherlands",
          "Netherlands Antilles",
          "New College, Oxford-2",
          "New York Turnverein, New York",
          "New Zealand",
          "Niger",
          "Nigeria",
          "Nina",
          "North Korea",
          "Norway",
          "Nurdug II",
          "Omas Helliniki P. S.",
          "Pakistan",
          "Paraguay",
          "Peru",
          "Phalainis ton Thorichtou \"Hydra\"-2",
          "Philippines",
          "Poland",
          "Poland-1",
          "Portugal",
          "Puerto Rico",
          "Qatar",
          "Quand-Mme-2",
          "Racing Club de France",
          "Ravenswood Boat Club-2",
          "Roddklubben af 1912-1",
          "Romania",
          "Rose Pompon",
          "Rostock",
          "Royal Club Nautique de Gand",
          "Rush VII",
          "Russia",
          "Russia-1",
          "Russia-2",
          "Salinero",
          "Sans Atout-1",
          "Santa Maria",
          "Saudi Arabia",
          "Scamasaxe-3",
          "Senegal",
          "Serbia",
          "Serbia and Montenegro",
          "Silja",
          "Singapore",
          "Skum",
          "Slaghoken",
          "Slovakia",
          "Slovenia",
          "Smyrna",
          "Societ Nautique de la Marne-1",
          "Socit Nautique de la Basse Seine-1",
          "South Africa",
          "South Korea",
          "South Korea-1",
          "South Korea-2",
          "Soviet Union",
          "Soviet Union-1",
          "Soviet Union-2",
          "Spain",
          "Spain-1",
          "Spain-2",
          "Sri Lanka",
          "St. Louis Amateur Athletic Association",
          "St. Louis Southwest Turnverein #1-2",
          "Sudan",
          "Sunrise",
          "Sunshine",
          "Sweden",
          "Sweden-1",
          "Sweden-2",
          "Switzerland",
          "Switzerland-1",
          "Switzerland-2",
          "Symphony",
          "Syria",
          "Tajikistan",
          "Tan-Fe-Pah",
          "Tango",
          "Tanzania",
          "Thailand",
          "Thames Rowing Club",
          "Tip",
          "Tonga",
          "Tornado",
          "Toronto Argonauts",
          "Trans-Mississippi Golf Association-2",
          "Trinidad and Tobago",
          "Tritons Lillois-2",
          "Tunisia",
          "Turkey",
          "USFSA",
          "Uganda",
          "Ukraine",
          "Unified Team",
          "Unified Team-2",
          "Union des Socits Franais de Sports Athletiques",
          "United Arab Republic",
          "United States",
          "United States Virgin Islands",
          "United States-1",
          "United States-2",
          "United States/France",
          "Uruguay",
          "Uzbekistan",
          "Venezuela",
          "Vietnam",
          "Vinga-1",
          "Vision",
          "Web II",
          "West Germany",
          "West Germany-1",
          "Yugoslavia",
          "Zambia",
          "Zimbabwe",
          "Zut"
         ],
         "type": "choropleth",
         "z": [
          4,
          84,
          5,
          4,
          2,
          4,
          453,
          168,
          16,
          2,
          12,
          4,
          11,
          1,
          3,
          44,
          161,
          1,
          3,
          2,
          1,
          161,
          12,
          2,
          10,
          1,
          144,
          1,
          1,
          413,
          8,
          2,
          5,
          11,
          9,
          325,
          14,
          8,
          28,
          11,
          4,
          4,
          8,
          2,
          15,
          1,
          1,
          5,
          54,
          127,
          1,
          32,
          4,
          223,
          2,
          223,
          5,
          2,
          309,
          10,
          8,
          1,
          8,
          5,
          4,
          5,
          3,
          1,
          12,
          10,
          12,
          9,
          2,
          8,
          263,
          4,
          518,
          7,
          2,
          15,
          1,
          5,
          6,
          627,
          20,
          4,
          1,
          5,
          2,
          582,
          10,
          10,
          2,
          70,
          6,
          1,
          1,
          1,
          4,
          6,
          2,
          330,
          2,
          4,
          15,
          19,
          1,
          11,
          6,
          21,
          13,
          12,
          4,
          1,
          508,
          8,
          10,
          75,
          307,
          2,
          2,
          25,
          41,
          2,
          1,
          2,
          13,
          6,
          2,
          4,
          2,
          3,
          2,
          7,
          7,
          8,
          5,
          4,
          5,
          2,
          9,
          2,
          3,
          4,
          3,
          2,
          26,
          5,
          3,
          10,
          14,
          5,
          15,
          10,
          4,
          3,
          1,
          4,
          321,
          1,
          9,
          6,
          56,
          1,
          30,
          7,
          16,
          330,
          3,
          8,
          45,
          17,
          14,
          17,
          3,
          193,
          2,
          7,
          2,
          1,
          9,
          11,
          2,
          5,
          200,
          3,
          1,
          21,
          3,
          351,
          6,
          10,
          1,
          5,
          6,
          1,
          2,
          1,
          29,
          26,
          6,
          4,
          2,
          3,
          19,
          13,
          11,
          2,
          5,
          47,
          222,
          6,
          4,
          716,
          4,
          12,
          239,
          2,
          2,
          2,
          12,
          5,
          1,
          1,
          2,
          476,
          2,
          4,
          213,
          22,
          10,
          2,
          1,
          1,
          3,
          3,
          2,
          8,
          5,
          3,
          1,
          3,
          9,
          10,
          8,
          5,
          3,
          27,
          13,
          3,
          52,
          69,
          2,
          12,
          1,
          1512,
          1,
          33,
          14,
          2,
          2,
          7,
          3,
          3,
          5,
          4,
          3,
          184,
          10,
          167,
          1,
          4,
          3
         ]
        }
       ],
       "layout": {
        "geo": {
         "projection": {
          "type": "natural earth"
         },
         "showcoastlines": true,
         "showframe": true,
         "showlakes": false
        },
        "template": {
         "data": {
          "bar": [
           {
            "error_x": {
             "color": "#2a3f5f"
            },
            "error_y": {
             "color": "#2a3f5f"
            },
            "marker": {
             "line": {
              "color": "#E5ECF6",
              "width": 0.5
             },
             "pattern": {
              "fillmode": "overlay",
              "size": 10,
              "solidity": 0.2
             }
            },
            "type": "bar"
           }
          ],
          "barpolar": [
           {
            "marker": {
             "line": {
              "color": "#E5ECF6",
              "width": 0.5
             },
             "pattern": {
              "fillmode": "overlay",
              "size": 10,
              "solidity": 0.2
             }
            },
            "type": "barpolar"
           }
          ],
          "carpet": [
           {
            "aaxis": {
             "endlinecolor": "#2a3f5f",
             "gridcolor": "white",
             "linecolor": "white",
             "minorgridcolor": "white",
             "startlinecolor": "#2a3f5f"
            },
            "baxis": {
             "endlinecolor": "#2a3f5f",
             "gridcolor": "white",
             "linecolor": "white",
             "minorgridcolor": "white",
             "startlinecolor": "#2a3f5f"
            },
            "type": "carpet"
           }
          ],
          "choropleth": [
           {
            "colorbar": {
             "outlinewidth": 0,
             "ticks": ""
            },
            "type": "choropleth"
           }
          ],
          "contour": [
           {
            "colorbar": {
             "outlinewidth": 0,
             "ticks": ""
            },
            "colorscale": [
             [
              0,
              "#0d0887"
             ],
             [
              0.1111111111111111,
              "#46039f"
             ],
             [
              0.2222222222222222,
              "#7201a8"
             ],
             [
              0.3333333333333333,
              "#9c179e"
             ],
             [
              0.4444444444444444,
              "#bd3786"
             ],
             [
              0.5555555555555556,
              "#d8576b"
             ],
             [
              0.6666666666666666,
              "#ed7953"
             ],
             [
              0.7777777777777778,
              "#fb9f3a"
             ],
             [
              0.8888888888888888,
              "#fdca26"
             ],
             [
              1,
              "#f0f921"
             ]
            ],
            "type": "contour"
           }
          ],
          "contourcarpet": [
           {
            "colorbar": {
             "outlinewidth": 0,
             "ticks": ""
            },
            "type": "contourcarpet"
           }
          ],
          "heatmap": [
           {
            "colorbar": {
             "outlinewidth": 0,
             "ticks": ""
            },
            "colorscale": [
             [
              0,
              "#0d0887"
             ],
             [
              0.1111111111111111,
              "#46039f"
             ],
             [
              0.2222222222222222,
              "#7201a8"
             ],
             [
              0.3333333333333333,
              "#9c179e"
             ],
             [
              0.4444444444444444,
              "#bd3786"
             ],
             [
              0.5555555555555556,
              "#d8576b"
             ],
             [
              0.6666666666666666,
              "#ed7953"
             ],
             [
              0.7777777777777778,
              "#fb9f3a"
             ],
             [
              0.8888888888888888,
              "#fdca26"
             ],
             [
              1,
              "#f0f921"
             ]
            ],
            "type": "heatmap"
           }
          ],
          "heatmapgl": [
           {
            "colorbar": {
             "outlinewidth": 0,
             "ticks": ""
            },
            "colorscale": [
             [
              0,
              "#0d0887"
             ],
             [
              0.1111111111111111,
              "#46039f"
             ],
             [
              0.2222222222222222,
              "#7201a8"
             ],
             [
              0.3333333333333333,
              "#9c179e"
             ],
             [
              0.4444444444444444,
              "#bd3786"
             ],
             [
              0.5555555555555556,
              "#d8576b"
             ],
             [
              0.6666666666666666,
              "#ed7953"
             ],
             [
              0.7777777777777778,
              "#fb9f3a"
             ],
             [
              0.8888888888888888,
              "#fdca26"
             ],
             [
              1,
              "#f0f921"
             ]
            ],
            "type": "heatmapgl"
           }
          ],
          "histogram": [
           {
            "marker": {
             "pattern": {
              "fillmode": "overlay",
              "size": 10,
              "solidity": 0.2
             }
            },
            "type": "histogram"
           }
          ],
          "histogram2d": [
           {
            "colorbar": {
             "outlinewidth": 0,
             "ticks": ""
            },
            "colorscale": [
             [
              0,
              "#0d0887"
             ],
             [
              0.1111111111111111,
              "#46039f"
             ],
             [
              0.2222222222222222,
              "#7201a8"
             ],
             [
              0.3333333333333333,
              "#9c179e"
             ],
             [
              0.4444444444444444,
              "#bd3786"
             ],
             [
              0.5555555555555556,
              "#d8576b"
             ],
             [
              0.6666666666666666,
              "#ed7953"
             ],
             [
              0.7777777777777778,
              "#fb9f3a"
             ],
             [
              0.8888888888888888,
              "#fdca26"
             ],
             [
              1,
              "#f0f921"
             ]
            ],
            "type": "histogram2d"
           }
          ],
          "histogram2dcontour": [
           {
            "colorbar": {
             "outlinewidth": 0,
             "ticks": ""
            },
            "colorscale": [
             [
              0,
              "#0d0887"
             ],
             [
              0.1111111111111111,
              "#46039f"
             ],
             [
              0.2222222222222222,
              "#7201a8"
             ],
             [
              0.3333333333333333,
              "#9c179e"
             ],
             [
              0.4444444444444444,
              "#bd3786"
             ],
             [
              0.5555555555555556,
              "#d8576b"
             ],
             [
              0.6666666666666666,
              "#ed7953"
             ],
             [
              0.7777777777777778,
              "#fb9f3a"
             ],
             [
              0.8888888888888888,
              "#fdca26"
             ],
             [
              1,
              "#f0f921"
             ]
            ],
            "type": "histogram2dcontour"
           }
          ],
          "mesh3d": [
           {
            "colorbar": {
             "outlinewidth": 0,
             "ticks": ""
            },
            "type": "mesh3d"
           }
          ],
          "parcoords": [
           {
            "line": {
             "colorbar": {
              "outlinewidth": 0,
              "ticks": ""
             }
            },
            "type": "parcoords"
           }
          ],
          "pie": [
           {
            "automargin": true,
            "type": "pie"
           }
          ],
          "scatter": [
           {
            "marker": {
             "colorbar": {
              "outlinewidth": 0,
              "ticks": ""
             }
            },
            "type": "scatter"
           }
          ],
          "scatter3d": [
           {
            "line": {
             "colorbar": {
              "outlinewidth": 0,
              "ticks": ""
             }
            },
            "marker": {
             "colorbar": {
              "outlinewidth": 0,
              "ticks": ""
             }
            },
            "type": "scatter3d"
           }
          ],
          "scattercarpet": [
           {
            "marker": {
             "colorbar": {
              "outlinewidth": 0,
              "ticks": ""
             }
            },
            "type": "scattercarpet"
           }
          ],
          "scattergeo": [
           {
            "marker": {
             "colorbar": {
              "outlinewidth": 0,
              "ticks": ""
             }
            },
            "type": "scattergeo"
           }
          ],
          "scattergl": [
           {
            "marker": {
             "colorbar": {
              "outlinewidth": 0,
              "ticks": ""
             }
            },
            "type": "scattergl"
           }
          ],
          "scattermapbox": [
           {
            "marker": {
             "colorbar": {
              "outlinewidth": 0,
              "ticks": ""
             }
            },
            "type": "scattermapbox"
           }
          ],
          "scatterpolar": [
           {
            "marker": {
             "colorbar": {
              "outlinewidth": 0,
              "ticks": ""
             }
            },
            "type": "scatterpolar"
           }
          ],
          "scatterpolargl": [
           {
            "marker": {
             "colorbar": {
              "outlinewidth": 0,
              "ticks": ""
             }
            },
            "type": "scatterpolargl"
           }
          ],
          "scatterternary": [
           {
            "marker": {
             "colorbar": {
              "outlinewidth": 0,
              "ticks": ""
             }
            },
            "type": "scatterternary"
           }
          ],
          "surface": [
           {
            "colorbar": {
             "outlinewidth": 0,
             "ticks": ""
            },
            "colorscale": [
             [
              0,
              "#0d0887"
             ],
             [
              0.1111111111111111,
              "#46039f"
             ],
             [
              0.2222222222222222,
              "#7201a8"
             ],
             [
              0.3333333333333333,
              "#9c179e"
             ],
             [
              0.4444444444444444,
              "#bd3786"
             ],
             [
              0.5555555555555556,
              "#d8576b"
             ],
             [
              0.6666666666666666,
              "#ed7953"
             ],
             [
              0.7777777777777778,
              "#fb9f3a"
             ],
             [
              0.8888888888888888,
              "#fdca26"
             ],
             [
              1,
              "#f0f921"
             ]
            ],
            "type": "surface"
           }
          ],
          "table": [
           {
            "cells": {
             "fill": {
              "color": "#EBF0F8"
             },
             "line": {
              "color": "white"
             }
            },
            "header": {
             "fill": {
              "color": "#C8D4E3"
             },
             "line": {
              "color": "white"
             }
            },
            "type": "table"
           }
          ]
         },
         "layout": {
          "annotationdefaults": {
           "arrowcolor": "#2a3f5f",
           "arrowhead": 0,
           "arrowwidth": 1
          },
          "autotypenumbers": "strict",
          "coloraxis": {
           "colorbar": {
            "outlinewidth": 0,
            "ticks": ""
           }
          },
          "colorscale": {
           "diverging": [
            [
             0,
             "#8e0152"
            ],
            [
             0.1,
             "#c51b7d"
            ],
            [
             0.2,
             "#de77ae"
            ],
            [
             0.3,
             "#f1b6da"
            ],
            [
             0.4,
             "#fde0ef"
            ],
            [
             0.5,
             "#f7f7f7"
            ],
            [
             0.6,
             "#e6f5d0"
            ],
            [
             0.7,
             "#b8e186"
            ],
            [
             0.8,
             "#7fbc41"
            ],
            [
             0.9,
             "#4d9221"
            ],
            [
             1,
             "#276419"
            ]
           ],
           "sequential": [
            [
             0,
             "#0d0887"
            ],
            [
             0.1111111111111111,
             "#46039f"
            ],
            [
             0.2222222222222222,
             "#7201a8"
            ],
            [
             0.3333333333333333,
             "#9c179e"
            ],
            [
             0.4444444444444444,
             "#bd3786"
            ],
            [
             0.5555555555555556,
             "#d8576b"
            ],
            [
             0.6666666666666666,
             "#ed7953"
            ],
            [
             0.7777777777777778,
             "#fb9f3a"
            ],
            [
             0.8888888888888888,
             "#fdca26"
            ],
            [
             1,
             "#f0f921"
            ]
           ],
           "sequentialminus": [
            [
             0,
             "#0d0887"
            ],
            [
             0.1111111111111111,
             "#46039f"
            ],
            [
             0.2222222222222222,
             "#7201a8"
            ],
            [
             0.3333333333333333,
             "#9c179e"
            ],
            [
             0.4444444444444444,
             "#bd3786"
            ],
            [
             0.5555555555555556,
             "#d8576b"
            ],
            [
             0.6666666666666666,
             "#ed7953"
            ],
            [
             0.7777777777777778,
             "#fb9f3a"
            ],
            [
             0.8888888888888888,
             "#fdca26"
            ],
            [
             1,
             "#f0f921"
            ]
           ]
          },
          "colorway": [
           "#636efa",
           "#EF553B",
           "#00cc96",
           "#ab63fa",
           "#FFA15A",
           "#19d3f3",
           "#FF6692",
           "#B6E880",
           "#FF97FF",
           "#FECB52"
          ],
          "font": {
           "color": "#2a3f5f"
          },
          "geo": {
           "bgcolor": "white",
           "lakecolor": "white",
           "landcolor": "#E5ECF6",
           "showlakes": true,
           "showland": true,
           "subunitcolor": "white"
          },
          "hoverlabel": {
           "align": "left"
          },
          "hovermode": "closest",
          "mapbox": {
           "style": "light"
          },
          "paper_bgcolor": "white",
          "plot_bgcolor": "#E5ECF6",
          "polar": {
           "angularaxis": {
            "gridcolor": "white",
            "linecolor": "white",
            "ticks": ""
           },
           "bgcolor": "#E5ECF6",
           "radialaxis": {
            "gridcolor": "white",
            "linecolor": "white",
            "ticks": ""
           }
          },
          "scene": {
           "xaxis": {
            "backgroundcolor": "#E5ECF6",
            "gridcolor": "white",
            "gridwidth": 2,
            "linecolor": "white",
            "showbackground": true,
            "ticks": "",
            "zerolinecolor": "white"
           },
           "yaxis": {
            "backgroundcolor": "#E5ECF6",
            "gridcolor": "white",
            "gridwidth": 2,
            "linecolor": "white",
            "showbackground": true,
            "ticks": "",
            "zerolinecolor": "white"
           },
           "zaxis": {
            "backgroundcolor": "#E5ECF6",
            "gridcolor": "white",
            "gridwidth": 2,
            "linecolor": "white",
            "showbackground": true,
            "ticks": "",
            "zerolinecolor": "white"
           }
          },
          "shapedefaults": {
           "line": {
            "color": "#2a3f5f"
           }
          },
          "ternary": {
           "aaxis": {
            "gridcolor": "white",
            "linecolor": "white",
            "ticks": ""
           },
           "baxis": {
            "gridcolor": "white",
            "linecolor": "white",
            "ticks": ""
           },
           "bgcolor": "#E5ECF6",
           "caxis": {
            "gridcolor": "white",
            "linecolor": "white",
            "ticks": ""
           }
          },
          "title": {
           "x": 0.05
          },
          "xaxis": {
           "automargin": true,
           "gridcolor": "white",
           "linecolor": "white",
           "ticks": "",
           "title": {
            "standoff": 15
           },
           "zerolinecolor": "white",
           "zerolinewidth": 2
          },
          "yaxis": {
           "automargin": true,
           "gridcolor": "white",
           "linecolor": "white",
           "ticks": "",
           "title": {
            "standoff": 15
           },
           "zerolinecolor": "white",
           "zerolinewidth": 2
          }
         }
        },
        "title": {
         "text": "Countries with Silver Medals"
        }
       }
      },
      "text/html": [
       "<div>                            <div id=\"44cd09eb-745c-433b-bf15-0a15abe81f06\" class=\"plotly-graph-div\" style=\"height:525px; width:100%;\"></div>            <script type=\"text/javascript\">                require([\"plotly\"], function(Plotly) {                    window.PLOTLYENV=window.PLOTLYENV || {};                                    if (document.getElementById(\"44cd09eb-745c-433b-bf15-0a15abe81f06\")) {                    Plotly.newPlot(                        \"44cd09eb-745c-433b-bf15-0a15abe81f06\",                        [{\"autocolorscale\":false,\"colorbar\":{\"tickprefix\":\"\",\"title\":{\"text\":\"Medals\"}},\"colorscale\":[[0.0,\"rgb(255,255,255)\"],[0.125,\"rgb(240,240,240)\"],[0.25,\"rgb(217,217,217)\"],[0.375,\"rgb(189,189,189)\"],[0.5,\"rgb(150,150,150)\"],[0.625,\"rgb(115,115,115)\"],[0.75,\"rgb(82,82,82)\"],[0.875,\"rgb(37,37,37)\"],[1.0,\"rgb(0,0,0)\"]],\"locationmode\":\"country names\",\"locations\":[\"Algeria\",\"Argentina\",\"Armenia\",\"Aschenbrodel\",\"Atalanta Boat Club-2\",\"Australasia\",\"Australia\",\"Austria\",\"Austria-1\",\"Austria-2\",\"Azerbaijan\",\"BLO Polo Club, Rugby\",\"Bahamas\",\"Bahrain\",\"Barion/Bari-2\",\"Belarus\",\"Belgium\",\"Bohemia\",\"Bonzo\",\"Boreas-2\",\"Botswana\",\"Brazil\",\"Brazil-1\",\"Brazil-2\",\"Brussels Swimming and Water Polo Club\",\"Brynhild-2\",\"Bulgaria\",\"Burundi\",\"Cameroon\",\"Canada\",\"Canada-1\",\"Canada-2\",\"Chicago Athletic Association\",\"Chicago Athletic Association-2\",\"Chile\",\"China\",\"China-1\",\"China-2\",\"Chinese Taipei\",\"Christian Brothers' College-1\",\"Cincinnati Archers\",\"Club Nautique de Lyon-2\",\"Colombia\",\"Comanche\",\"Cornwall\",\"Costa Rica\",\"Cote d'Ivoire\",\"Crabe II-1\",\"Croatia\",\"Cuba\",\"Cyprus\",\"Czech Republic\",\"Czech Republic-1\",\"Czechoslovakia\",\"Czechoslovakia-1\",\"Denmark\",\"Djinn\",\"Dominican Republic\",\"East Germany\",\"East Germany-1\",\"East Germany-2\",\"Ecuador\",\"Egypt\",\"Elisabeth X\",\"Elsie\",\"Emily\",\"Encore\",\"England\",\"England-1\",\"Erna Signe\",\"Estonia\",\"Ethiopia\",\"Falcon IV\",\"Favorite-1\",\"Finland\",\"Fornebo\",\"France\",\"France-1\",\"France/Great Britain\",\"Frankfurt Club\",\"Gabon\",\"Gallant\",\"Georgia\",\"Germany\",\"Germany-1\",\"Germany-2\",\"Ghana\",\"Gitana-2\",\"Glider\",\"Great Britain\",\"Great Britain-1\",\"Great Britain-2\",\"Great Britain-3\",\"Greece\",\"Greece-1\",\"Grenada\",\"Guatemala\",\"Haiti\",\"Hi-Hi\",\"Hollandia\",\"Hong Kong-2\",\"Hungary\",\"Hungary-1\",\"Hurlingham-2\",\"Iceland\",\"India\",\"Individual Olympic Athletes\",\"Indonesia\",\"Indonesia-1\",\"Iran\",\"Ireland\",\"Ireland-2\",\"Ireland-3\",\"Israel\",\"Italy\",\"Italy-1\",\"Italy-2\",\"Jamaica\",\"Japan\",\"Japan-1\",\"Joy\",\"Kazakhstan\",\"Kenya\",\"Kurush II\",\"Kyrgyzstan\",\"Lady C\",\"Latvia\",\"Latvia-1\",\"Leander Club #2-2\",\"Leander Club-2\",\"Lebanon\",\"Lerina\",\"Liechtenstein\",\"Life boat naval ship \\\"Spetsai\\\"-1\",\"Lithuania\",\"Liverpool Police Team-2\",\"Lully II\",\"Luxembourg\",\"Lyn-2\",\"Ma'Lindo\",\"Malaysia\",\"Malaysia-1\",\"Marmi II-1\",\"Martha-1\",\"Mascotte\",\"Merope III\",\"Mexico\",\"Minerva Amsterdam\",\"Moldova\",\"Mongolia\",\"Montenegro\",\"Morocco\",\"Moseley Wanderers\",\"Mouchette-2\",\"Mound City Rowing Club-2\",\"Mutafo\",\"Nadine\",\"Namibia\",\"Netherlands\",\"Netherlands Antilles\",\"New College, Oxford-2\",\"New York Turnverein, New York\",\"New Zealand\",\"Niger\",\"Nigeria\",\"Nina\",\"North Korea\",\"Norway\",\"Nurdug II\",\"Omas Helliniki P. S.\",\"Pakistan\",\"Paraguay\",\"Peru\",\"Phalainis ton Thorichtou \\\"Hydra\\\"-2\",\"Philippines\",\"Poland\",\"Poland-1\",\"Portugal\",\"Puerto Rico\",\"Qatar\",\"Quand-Mme-2\",\"Racing Club de France\",\"Ravenswood Boat Club-2\",\"Roddklubben af 1912-1\",\"Romania\",\"Rose Pompon\",\"Rostock\",\"Royal Club Nautique de Gand\",\"Rush VII\",\"Russia\",\"Russia-1\",\"Russia-2\",\"Salinero\",\"Sans Atout-1\",\"Santa Maria\",\"Saudi Arabia\",\"Scamasaxe-3\",\"Senegal\",\"Serbia\",\"Serbia and Montenegro\",\"Silja\",\"Singapore\",\"Skum\",\"Slaghoken\",\"Slovakia\",\"Slovenia\",\"Smyrna\",\"Societ Nautique de la Marne-1\",\"Socit Nautique de la Basse Seine-1\",\"South Africa\",\"South Korea\",\"South Korea-1\",\"South Korea-2\",\"Soviet Union\",\"Soviet Union-1\",\"Soviet Union-2\",\"Spain\",\"Spain-1\",\"Spain-2\",\"Sri Lanka\",\"St. Louis Amateur Athletic Association\",\"St. Louis Southwest Turnverein #1-2\",\"Sudan\",\"Sunrise\",\"Sunshine\",\"Sweden\",\"Sweden-1\",\"Sweden-2\",\"Switzerland\",\"Switzerland-1\",\"Switzerland-2\",\"Symphony\",\"Syria\",\"Tajikistan\",\"Tan-Fe-Pah\",\"Tango\",\"Tanzania\",\"Thailand\",\"Thames Rowing Club\",\"Tip\",\"Tonga\",\"Tornado\",\"Toronto Argonauts\",\"Trans-Mississippi Golf Association-2\",\"Trinidad and Tobago\",\"Tritons Lillois-2\",\"Tunisia\",\"Turkey\",\"USFSA\",\"Uganda\",\"Ukraine\",\"Unified Team\",\"Unified Team-2\",\"Union des Socits Franais de Sports Athletiques\",\"United Arab Republic\",\"United States\",\"United States Virgin Islands\",\"United States-1\",\"United States-2\",\"United States/France\",\"Uruguay\",\"Uzbekistan\",\"Venezuela\",\"Vietnam\",\"Vinga-1\",\"Vision\",\"Web II\",\"West Germany\",\"West Germany-1\",\"Yugoslavia\",\"Zambia\",\"Zimbabwe\",\"Zut\"],\"marker\":{\"line\":{\"color\":\"rgb(0,0,0)\",\"width\":0.5}},\"reversescale\":false,\"text\":[\"Algeria\",\"Argentina\",\"Armenia\",\"Aschenbrodel\",\"Atalanta Boat Club-2\",\"Australasia\",\"Australia\",\"Austria\",\"Austria-1\",\"Austria-2\",\"Azerbaijan\",\"BLO Polo Club, Rugby\",\"Bahamas\",\"Bahrain\",\"Barion/Bari-2\",\"Belarus\",\"Belgium\",\"Bohemia\",\"Bonzo\",\"Boreas-2\",\"Botswana\",\"Brazil\",\"Brazil-1\",\"Brazil-2\",\"Brussels Swimming and Water Polo Club\",\"Brynhild-2\",\"Bulgaria\",\"Burundi\",\"Cameroon\",\"Canada\",\"Canada-1\",\"Canada-2\",\"Chicago Athletic Association\",\"Chicago Athletic Association-2\",\"Chile\",\"China\",\"China-1\",\"China-2\",\"Chinese Taipei\",\"Christian Brothers' College-1\",\"Cincinnati Archers\",\"Club Nautique de Lyon-2\",\"Colombia\",\"Comanche\",\"Cornwall\",\"Costa Rica\",\"Cote d'Ivoire\",\"Crabe II-1\",\"Croatia\",\"Cuba\",\"Cyprus\",\"Czech Republic\",\"Czech Republic-1\",\"Czechoslovakia\",\"Czechoslovakia-1\",\"Denmark\",\"Djinn\",\"Dominican Republic\",\"East Germany\",\"East Germany-1\",\"East Germany-2\",\"Ecuador\",\"Egypt\",\"Elisabeth X\",\"Elsie\",\"Emily\",\"Encore\",\"England\",\"England-1\",\"Erna Signe\",\"Estonia\",\"Ethiopia\",\"Falcon IV\",\"Favorite-1\",\"Finland\",\"Fornebo\",\"France\",\"France-1\",\"France/Great Britain\",\"Frankfurt Club\",\"Gabon\",\"Gallant\",\"Georgia\",\"Germany\",\"Germany-1\",\"Germany-2\",\"Ghana\",\"Gitana-2\",\"Glider\",\"Great Britain\",\"Great Britain-1\",\"Great Britain-2\",\"Great Britain-3\",\"Greece\",\"Greece-1\",\"Grenada\",\"Guatemala\",\"Haiti\",\"Hi-Hi\",\"Hollandia\",\"Hong Kong-2\",\"Hungary\",\"Hungary-1\",\"Hurlingham-2\",\"Iceland\",\"India\",\"Individual Olympic Athletes\",\"Indonesia\",\"Indonesia-1\",\"Iran\",\"Ireland\",\"Ireland-2\",\"Ireland-3\",\"Israel\",\"Italy\",\"Italy-1\",\"Italy-2\",\"Jamaica\",\"Japan\",\"Japan-1\",\"Joy\",\"Kazakhstan\",\"Kenya\",\"Kurush II\",\"Kyrgyzstan\",\"Lady C\",\"Latvia\",\"Latvia-1\",\"Leander Club #2-2\",\"Leander Club-2\",\"Lebanon\",\"Lerina\",\"Liechtenstein\",\"Life boat naval ship \\\"Spetsai\\\"-1\",\"Lithuania\",\"Liverpool Police Team-2\",\"Lully II\",\"Luxembourg\",\"Lyn-2\",\"Ma'Lindo\",\"Malaysia\",\"Malaysia-1\",\"Marmi II-1\",\"Martha-1\",\"Mascotte\",\"Merope III\",\"Mexico\",\"Minerva Amsterdam\",\"Moldova\",\"Mongolia\",\"Montenegro\",\"Morocco\",\"Moseley Wanderers\",\"Mouchette-2\",\"Mound City Rowing Club-2\",\"Mutafo\",\"Nadine\",\"Namibia\",\"Netherlands\",\"Netherlands Antilles\",\"New College, Oxford-2\",\"New York Turnverein, New York\",\"New Zealand\",\"Niger\",\"Nigeria\",\"Nina\",\"North Korea\",\"Norway\",\"Nurdug II\",\"Omas Helliniki P. S.\",\"Pakistan\",\"Paraguay\",\"Peru\",\"Phalainis ton Thorichtou \\\"Hydra\\\"-2\",\"Philippines\",\"Poland\",\"Poland-1\",\"Portugal\",\"Puerto Rico\",\"Qatar\",\"Quand-Mme-2\",\"Racing Club de France\",\"Ravenswood Boat Club-2\",\"Roddklubben af 1912-1\",\"Romania\",\"Rose Pompon\",\"Rostock\",\"Royal Club Nautique de Gand\",\"Rush VII\",\"Russia\",\"Russia-1\",\"Russia-2\",\"Salinero\",\"Sans Atout-1\",\"Santa Maria\",\"Saudi Arabia\",\"Scamasaxe-3\",\"Senegal\",\"Serbia\",\"Serbia and Montenegro\",\"Silja\",\"Singapore\",\"Skum\",\"Slaghoken\",\"Slovakia\",\"Slovenia\",\"Smyrna\",\"Societ Nautique de la Marne-1\",\"Socit Nautique de la Basse Seine-1\",\"South Africa\",\"South Korea\",\"South Korea-1\",\"South Korea-2\",\"Soviet Union\",\"Soviet Union-1\",\"Soviet Union-2\",\"Spain\",\"Spain-1\",\"Spain-2\",\"Sri Lanka\",\"St. Louis Amateur Athletic Association\",\"St. Louis Southwest Turnverein #1-2\",\"Sudan\",\"Sunrise\",\"Sunshine\",\"Sweden\",\"Sweden-1\",\"Sweden-2\",\"Switzerland\",\"Switzerland-1\",\"Switzerland-2\",\"Symphony\",\"Syria\",\"Tajikistan\",\"Tan-Fe-Pah\",\"Tango\",\"Tanzania\",\"Thailand\",\"Thames Rowing Club\",\"Tip\",\"Tonga\",\"Tornado\",\"Toronto Argonauts\",\"Trans-Mississippi Golf Association-2\",\"Trinidad and Tobago\",\"Tritons Lillois-2\",\"Tunisia\",\"Turkey\",\"USFSA\",\"Uganda\",\"Ukraine\",\"Unified Team\",\"Unified Team-2\",\"Union des Socits Franais de Sports Athletiques\",\"United Arab Republic\",\"United States\",\"United States Virgin Islands\",\"United States-1\",\"United States-2\",\"United States/France\",\"Uruguay\",\"Uzbekistan\",\"Venezuela\",\"Vietnam\",\"Vinga-1\",\"Vision\",\"Web II\",\"West Germany\",\"West Germany-1\",\"Yugoslavia\",\"Zambia\",\"Zimbabwe\",\"Zut\"],\"type\":\"choropleth\",\"z\":[4,84,5,4,2,4,453,168,16,2,12,4,11,1,3,44,161,1,3,2,1,161,12,2,10,1,144,1,1,413,8,2,5,11,9,325,14,8,28,11,4,4,8,2,15,1,1,5,54,127,1,32,4,223,2,223,5,2,309,10,8,1,8,5,4,5,3,1,12,10,12,9,2,8,263,4,518,7,2,15,1,5,6,627,20,4,1,5,2,582,10,10,2,70,6,1,1,1,4,6,2,330,2,4,15,19,1,11,6,21,13,12,4,1,508,8,10,75,307,2,2,25,41,2,1,2,13,6,2,4,2,3,2,7,7,8,5,4,5,2,9,2,3,4,3,2,26,5,3,10,14,5,15,10,4,3,1,4,321,1,9,6,56,1,30,7,16,330,3,8,45,17,14,17,3,193,2,7,2,1,9,11,2,5,200,3,1,21,3,351,6,10,1,5,6,1,2,1,29,26,6,4,2,3,19,13,11,2,5,47,222,6,4,716,4,12,239,2,2,2,12,5,1,1,2,476,2,4,213,22,10,2,1,1,3,3,2,8,5,3,1,3,9,10,8,5,3,27,13,3,52,69,2,12,1,1512,1,33,14,2,2,7,3,3,5,4,3,184,10,167,1,4,3]}],                        {\"geo\":{\"projection\":{\"type\":\"natural earth\"},\"showcoastlines\":true,\"showframe\":true,\"showlakes\":false},\"template\":{\"data\":{\"bar\":[{\"error_x\":{\"color\":\"#2a3f5f\"},\"error_y\":{\"color\":\"#2a3f5f\"},\"marker\":{\"line\":{\"color\":\"#E5ECF6\",\"width\":0.5},\"pattern\":{\"fillmode\":\"overlay\",\"size\":10,\"solidity\":0.2}},\"type\":\"bar\"}],\"barpolar\":[{\"marker\":{\"line\":{\"color\":\"#E5ECF6\",\"width\":0.5},\"pattern\":{\"fillmode\":\"overlay\",\"size\":10,\"solidity\":0.2}},\"type\":\"barpolar\"}],\"carpet\":[{\"aaxis\":{\"endlinecolor\":\"#2a3f5f\",\"gridcolor\":\"white\",\"linecolor\":\"white\",\"minorgridcolor\":\"white\",\"startlinecolor\":\"#2a3f5f\"},\"baxis\":{\"endlinecolor\":\"#2a3f5f\",\"gridcolor\":\"white\",\"linecolor\":\"white\",\"minorgridcolor\":\"white\",\"startlinecolor\":\"#2a3f5f\"},\"type\":\"carpet\"}],\"choropleth\":[{\"colorbar\":{\"outlinewidth\":0,\"ticks\":\"\"},\"type\":\"choropleth\"}],\"contour\":[{\"colorbar\":{\"outlinewidth\":0,\"ticks\":\"\"},\"colorscale\":[[0.0,\"#0d0887\"],[0.1111111111111111,\"#46039f\"],[0.2222222222222222,\"#7201a8\"],[0.3333333333333333,\"#9c179e\"],[0.4444444444444444,\"#bd3786\"],[0.5555555555555556,\"#d8576b\"],[0.6666666666666666,\"#ed7953\"],[0.7777777777777778,\"#fb9f3a\"],[0.8888888888888888,\"#fdca26\"],[1.0,\"#f0f921\"]],\"type\":\"contour\"}],\"contourcarpet\":[{\"colorbar\":{\"outlinewidth\":0,\"ticks\":\"\"},\"type\":\"contourcarpet\"}],\"heatmap\":[{\"colorbar\":{\"outlinewidth\":0,\"ticks\":\"\"},\"colorscale\":[[0.0,\"#0d0887\"],[0.1111111111111111,\"#46039f\"],[0.2222222222222222,\"#7201a8\"],[0.3333333333333333,\"#9c179e\"],[0.4444444444444444,\"#bd3786\"],[0.5555555555555556,\"#d8576b\"],[0.6666666666666666,\"#ed7953\"],[0.7777777777777778,\"#fb9f3a\"],[0.8888888888888888,\"#fdca26\"],[1.0,\"#f0f921\"]],\"type\":\"heatmap\"}],\"heatmapgl\":[{\"colorbar\":{\"outlinewidth\":0,\"ticks\":\"\"},\"colorscale\":[[0.0,\"#0d0887\"],[0.1111111111111111,\"#46039f\"],[0.2222222222222222,\"#7201a8\"],[0.3333333333333333,\"#9c179e\"],[0.4444444444444444,\"#bd3786\"],[0.5555555555555556,\"#d8576b\"],[0.6666666666666666,\"#ed7953\"],[0.7777777777777778,\"#fb9f3a\"],[0.8888888888888888,\"#fdca26\"],[1.0,\"#f0f921\"]],\"type\":\"heatmapgl\"}],\"histogram\":[{\"marker\":{\"pattern\":{\"fillmode\":\"overlay\",\"size\":10,\"solidity\":0.2}},\"type\":\"histogram\"}],\"histogram2d\":[{\"colorbar\":{\"outlinewidth\":0,\"ticks\":\"\"},\"colorscale\":[[0.0,\"#0d0887\"],[0.1111111111111111,\"#46039f\"],[0.2222222222222222,\"#7201a8\"],[0.3333333333333333,\"#9c179e\"],[0.4444444444444444,\"#bd3786\"],[0.5555555555555556,\"#d8576b\"],[0.6666666666666666,\"#ed7953\"],[0.7777777777777778,\"#fb9f3a\"],[0.8888888888888888,\"#fdca26\"],[1.0,\"#f0f921\"]],\"type\":\"histogram2d\"}],\"histogram2dcontour\":[{\"colorbar\":{\"outlinewidth\":0,\"ticks\":\"\"},\"colorscale\":[[0.0,\"#0d0887\"],[0.1111111111111111,\"#46039f\"],[0.2222222222222222,\"#7201a8\"],[0.3333333333333333,\"#9c179e\"],[0.4444444444444444,\"#bd3786\"],[0.5555555555555556,\"#d8576b\"],[0.6666666666666666,\"#ed7953\"],[0.7777777777777778,\"#fb9f3a\"],[0.8888888888888888,\"#fdca26\"],[1.0,\"#f0f921\"]],\"type\":\"histogram2dcontour\"}],\"mesh3d\":[{\"colorbar\":{\"outlinewidth\":0,\"ticks\":\"\"},\"type\":\"mesh3d\"}],\"parcoords\":[{\"line\":{\"colorbar\":{\"outlinewidth\":0,\"ticks\":\"\"}},\"type\":\"parcoords\"}],\"pie\":[{\"automargin\":true,\"type\":\"pie\"}],\"scatter\":[{\"marker\":{\"colorbar\":{\"outlinewidth\":0,\"ticks\":\"\"}},\"type\":\"scatter\"}],\"scatter3d\":[{\"line\":{\"colorbar\":{\"outlinewidth\":0,\"ticks\":\"\"}},\"marker\":{\"colorbar\":{\"outlinewidth\":0,\"ticks\":\"\"}},\"type\":\"scatter3d\"}],\"scattercarpet\":[{\"marker\":{\"colorbar\":{\"outlinewidth\":0,\"ticks\":\"\"}},\"type\":\"scattercarpet\"}],\"scattergeo\":[{\"marker\":{\"colorbar\":{\"outlinewidth\":0,\"ticks\":\"\"}},\"type\":\"scattergeo\"}],\"scattergl\":[{\"marker\":{\"colorbar\":{\"outlinewidth\":0,\"ticks\":\"\"}},\"type\":\"scattergl\"}],\"scattermapbox\":[{\"marker\":{\"colorbar\":{\"outlinewidth\":0,\"ticks\":\"\"}},\"type\":\"scattermapbox\"}],\"scatterpolar\":[{\"marker\":{\"colorbar\":{\"outlinewidth\":0,\"ticks\":\"\"}},\"type\":\"scatterpolar\"}],\"scatterpolargl\":[{\"marker\":{\"colorbar\":{\"outlinewidth\":0,\"ticks\":\"\"}},\"type\":\"scatterpolargl\"}],\"scatterternary\":[{\"marker\":{\"colorbar\":{\"outlinewidth\":0,\"ticks\":\"\"}},\"type\":\"scatterternary\"}],\"surface\":[{\"colorbar\":{\"outlinewidth\":0,\"ticks\":\"\"},\"colorscale\":[[0.0,\"#0d0887\"],[0.1111111111111111,\"#46039f\"],[0.2222222222222222,\"#7201a8\"],[0.3333333333333333,\"#9c179e\"],[0.4444444444444444,\"#bd3786\"],[0.5555555555555556,\"#d8576b\"],[0.6666666666666666,\"#ed7953\"],[0.7777777777777778,\"#fb9f3a\"],[0.8888888888888888,\"#fdca26\"],[1.0,\"#f0f921\"]],\"type\":\"surface\"}],\"table\":[{\"cells\":{\"fill\":{\"color\":\"#EBF0F8\"},\"line\":{\"color\":\"white\"}},\"header\":{\"fill\":{\"color\":\"#C8D4E3\"},\"line\":{\"color\":\"white\"}},\"type\":\"table\"}]},\"layout\":{\"annotationdefaults\":{\"arrowcolor\":\"#2a3f5f\",\"arrowhead\":0,\"arrowwidth\":1},\"autotypenumbers\":\"strict\",\"coloraxis\":{\"colorbar\":{\"outlinewidth\":0,\"ticks\":\"\"}},\"colorscale\":{\"diverging\":[[0,\"#8e0152\"],[0.1,\"#c51b7d\"],[0.2,\"#de77ae\"],[0.3,\"#f1b6da\"],[0.4,\"#fde0ef\"],[0.5,\"#f7f7f7\"],[0.6,\"#e6f5d0\"],[0.7,\"#b8e186\"],[0.8,\"#7fbc41\"],[0.9,\"#4d9221\"],[1,\"#276419\"]],\"sequential\":[[0.0,\"#0d0887\"],[0.1111111111111111,\"#46039f\"],[0.2222222222222222,\"#7201a8\"],[0.3333333333333333,\"#9c179e\"],[0.4444444444444444,\"#bd3786\"],[0.5555555555555556,\"#d8576b\"],[0.6666666666666666,\"#ed7953\"],[0.7777777777777778,\"#fb9f3a\"],[0.8888888888888888,\"#fdca26\"],[1.0,\"#f0f921\"]],\"sequentialminus\":[[0.0,\"#0d0887\"],[0.1111111111111111,\"#46039f\"],[0.2222222222222222,\"#7201a8\"],[0.3333333333333333,\"#9c179e\"],[0.4444444444444444,\"#bd3786\"],[0.5555555555555556,\"#d8576b\"],[0.6666666666666666,\"#ed7953\"],[0.7777777777777778,\"#fb9f3a\"],[0.8888888888888888,\"#fdca26\"],[1.0,\"#f0f921\"]]},\"colorway\":[\"#636efa\",\"#EF553B\",\"#00cc96\",\"#ab63fa\",\"#FFA15A\",\"#19d3f3\",\"#FF6692\",\"#B6E880\",\"#FF97FF\",\"#FECB52\"],\"font\":{\"color\":\"#2a3f5f\"},\"geo\":{\"bgcolor\":\"white\",\"lakecolor\":\"white\",\"landcolor\":\"#E5ECF6\",\"showlakes\":true,\"showland\":true,\"subunitcolor\":\"white\"},\"hoverlabel\":{\"align\":\"left\"},\"hovermode\":\"closest\",\"mapbox\":{\"style\":\"light\"},\"paper_bgcolor\":\"white\",\"plot_bgcolor\":\"#E5ECF6\",\"polar\":{\"angularaxis\":{\"gridcolor\":\"white\",\"linecolor\":\"white\",\"ticks\":\"\"},\"bgcolor\":\"#E5ECF6\",\"radialaxis\":{\"gridcolor\":\"white\",\"linecolor\":\"white\",\"ticks\":\"\"}},\"scene\":{\"xaxis\":{\"backgroundcolor\":\"#E5ECF6\",\"gridcolor\":\"white\",\"gridwidth\":2,\"linecolor\":\"white\",\"showbackground\":true,\"ticks\":\"\",\"zerolinecolor\":\"white\"},\"yaxis\":{\"backgroundcolor\":\"#E5ECF6\",\"gridcolor\":\"white\",\"gridwidth\":2,\"linecolor\":\"white\",\"showbackground\":true,\"ticks\":\"\",\"zerolinecolor\":\"white\"},\"zaxis\":{\"backgroundcolor\":\"#E5ECF6\",\"gridcolor\":\"white\",\"gridwidth\":2,\"linecolor\":\"white\",\"showbackground\":true,\"ticks\":\"\",\"zerolinecolor\":\"white\"}},\"shapedefaults\":{\"line\":{\"color\":\"#2a3f5f\"}},\"ternary\":{\"aaxis\":{\"gridcolor\":\"white\",\"linecolor\":\"white\",\"ticks\":\"\"},\"baxis\":{\"gridcolor\":\"white\",\"linecolor\":\"white\",\"ticks\":\"\"},\"bgcolor\":\"#E5ECF6\",\"caxis\":{\"gridcolor\":\"white\",\"linecolor\":\"white\",\"ticks\":\"\"}},\"title\":{\"x\":0.05},\"xaxis\":{\"automargin\":true,\"gridcolor\":\"white\",\"linecolor\":\"white\",\"ticks\":\"\",\"title\":{\"standoff\":15},\"zerolinecolor\":\"white\",\"zerolinewidth\":2},\"yaxis\":{\"automargin\":true,\"gridcolor\":\"white\",\"linecolor\":\"white\",\"ticks\":\"\",\"title\":{\"standoff\":15},\"zerolinecolor\":\"white\",\"zerolinewidth\":2}}},\"title\":{\"text\":\"Countries with Silver Medals\"}},                        {\"responsive\": true}                    ).then(function(){\n",
       "                            \n",
       "var gd = document.getElementById('44cd09eb-745c-433b-bf15-0a15abe81f06');\n",
       "var x = new MutationObserver(function (mutations, observer) {{\n",
       "        var display = window.getComputedStyle(gd).display;\n",
       "        if (!display || display === 'none') {{\n",
       "            console.log([gd, 'removed!']);\n",
       "            Plotly.purge(gd);\n",
       "            observer.disconnect();\n",
       "        }}\n",
       "}});\n",
       "\n",
       "// Listen for the removal of the full notebook cells\n",
       "var notebookContainer = gd.closest('#notebook-container');\n",
       "if (notebookContainer) {{\n",
       "    x.observe(notebookContainer, {childList: true});\n",
       "}}\n",
       "\n",
       "// Listen for the clearing of the current output cell\n",
       "var outputEl = gd.closest('.output');\n",
       "if (outputEl) {{\n",
       "    x.observe(outputEl, {childList: true});\n",
       "}}\n",
       "\n",
       "                        })                };                });            </script>        </div>"
      ]
     },
     "metadata": {},
     "output_type": "display_data"
    }
   ],
   "source": [
    "draw_map(dfS, \"Countries with Silver Medals\",'Greys')"
   ]
  },
  {
   "cell_type": "code",
   "execution_count": 46,
   "id": "9ad5f370",
   "metadata": {},
   "outputs": [
    {
     "data": {
      "application/vnd.plotly.v1+json": {
       "config": {
        "linkText": "Export to plot.ly",
        "plotlyServerURL": "https://plot.ly",
        "showLink": false
       },
       "data": [
        {
         "autocolorscale": false,
         "colorbar": {
          "tickprefix": "",
          "title": {
           "text": "Medals"
          }
         },
         "colorscale": [
          [
           0,
           "rgb(255,245,240)"
          ],
          [
           0.125,
           "rgb(254,224,210)"
          ],
          [
           0.25,
           "rgb(252,187,161)"
          ],
          [
           0.375,
           "rgb(252,146,114)"
          ],
          [
           0.5,
           "rgb(251,106,74)"
          ],
          [
           0.625,
           "rgb(239,59,44)"
          ],
          [
           0.75,
           "rgb(203,24,29)"
          ],
          [
           0.875,
           "rgb(165,15,21)"
          ],
          [
           1,
           "rgb(103,0,13)"
          ]
         ],
         "locationmode": "country names",
         "locations": [
          "A North American Team",
          "Afghanistan",
          "Algeria",
          "Ali-Baba II",
          "Amstel Amsterdam",
          "Antwerpia V",
          "Aphrodite",
          "Argentina",
          "Argonaut Rowing Club",
          "Armenia",
          "Australasia",
          "Australia",
          "Australia-1",
          "Australia/Great Britain",
          "Austria",
          "Austria-1",
          "Austria-2",
          "Azerbaijan",
          "Baby-1",
          "Bagatelle Polo Club, Paris",
          "Bahamas",
          "Bahrain",
          "Ballerina IV",
          "Barbados",
          "Belarus",
          "Belgium",
          "Belgium-1",
          "Bem II",
          "Berliner Ruderclub",
          "Berliner Ruderverein von 1876-2",
          "Bermuda",
          "Bingo",
          "Bluebottle",
          "Bohemia",
          "Bohemia/Great Britain",
          "Boston Archers",
          "Brazil",
          "Brazil-1",
          "Brazil-2",
          "Bulgaria",
          "Buraddoo",
          "Cambridge University Boat Club-2",
          "Cameroon",
          "Canada",
          "Canada-1",
          "Caprice",
          "Central Turnverein, Chicago",
          "Chile",
          "China",
          "China-1",
          "China-2",
          "China-3",
          "Chinese Taipei",
          "Chuckles",
          "Clearwater",
          "Colombia",
          "Costa Rica",
          "Cote d'Ivoire",
          "Crabe II-4",
          "Croatia",
          "Cuba",
          "Czech Republic",
          "Czech Republic-1",
          "Czechoslovakia",
          "Denmark",
          "Denmark-1",
          "Denmark-2",
          "Digby",
          "Djibouti",
          "Dominican Republic",
          "Don Schufro",
          "East Germany",
          "East Germany-1",
          "East Germany-2",
          "Egypt",
          "Eritrea",
          "Espadarte",
          "Estonia",
          "Ethiopia",
          "Ethnikos Gymnastikos Syllogos",
          "Favorite Hammonia-3",
          "Finland",
          "Formosa",
          "France",
          "France-1",
          "France-2",
          "France-3",
          "Frimousse",
          "Gallia II",
          "Gem IV",
          "Georgia",
          "Germania II",
          "Germany",
          "Germany-1",
          "Germany-2",
          "Ghana",
          "Gitana-2",
          "Great Britain",
          "Great Britain-1",
          "Great Britain-2",
          "Great Britain-3",
          "Greece",
          "Greece-2",
          "Gustel X",
          "Guyana",
          "Guyoni",
          "Gwendoline-2",
          "Haiti",
          "Heatherbell",
          "Hojwa",
          "Hong Kong",
          "Humbug V",
          "Hungary",
          "Hungary-1",
          "Iceland",
          "Independent Rowing Club-3",
          "India",
          "Individual Olympic Athletes",
          "Indonesia",
          "Indonesia-1",
          "Iran",
          "Iraq",
          "Ireland",
          "Israel",
          "Italy",
          "Italy-1",
          "Italy-2",
          "Jamaica",
          "Japan",
          "K Division Metropolitan Police Team-3",
          "Kazakhstan",
          "Kenya",
          "Kerstin-1",
          "Kristiania Roklub-1",
          "Kuwait",
          "Kyrgyzstan",
          "Latvia",
          "Latvia-1",
          "Laurea-1",
          "Lebanon",
          "Libellule de Paris",
          "Liechtenstein",
          "Lithuania",
          "Lucky Girl-1",
          "Ludwigshafener Ruder Verein-1",
          "Macedonia",
          "Macky VI",
          "Malaysia",
          "Malaysia-2",
          "Margaret",
          "Marinai della nave da guerra \"Varese\"",
          "Martha-1",
          "Mauritius",
          "May Be",
          "Mexico",
          "Mignon-3",
          "Minerva Amsterdam",
          "Missouri Athletic Club-3",
          "Mohawk Indians-2",
          "Moldova",
          "Monaco",
          "Mongolia",
          "Morocco",
          "Mozambique",
          "Namoussa",
          "Netherlands",
          "Netherlands-1",
          "New Zealand",
          "Niger",
          "Nigeria",
          "Nina Claire-2",
          "North Korea",
          "North Korea-1",
          "Norway",
          "Ormsund Roklub-2",
          "Pakistan",
          "Panama",
          "Phalainis ton Thorichtou \"Hydra\"-2",
          "Philippines",
          "Pistoja/Firenze",
          "Poland",
          "Polyteknisk Roklub-1",
          "Portugal",
          "Potsdam",
          "Puerto Rico",
          "Pupilles de Neptune de Lille #2-1",
          "Pupilles de Neptune de Lille-1",
          "Qatar",
          "Ralia",
          "Romania",
          "Romania-1",
          "Rowing Club Castillon-3",
          "Russia",
          "Russia-1",
          "Sarcelle-3",
          "Saudi Arabia",
          "Scamasaxe-2",
          "Scotland-3",
          "Serbia",
          "Serbia and Montenegro",
          "Shrew II",
          "Singapore",
          "Slovakia",
          "Slovenia",
          "Snap",
          "Socit Nautique de Bayonne-1",
          "Socit Nautique de Bayonne-2",
          "Socit Nautique de la Basse Seine-1",
          "Sorais-2",
          "South Africa",
          "South Korea",
          "South Korea-1",
          "South Korea-2",
          "Soviet Union",
          "Soviet Union-2",
          "Spain",
          "St. Louis Southwest Turnverein #2-3",
          "St. Rose-2",
          "Starita",
          "Stella-2",
          "Suriname",
          "Sweden",
          "Sweden-3",
          "Swedish Star",
          "Switzerland",
          "Switzerland-1",
          "Switzerland-2",
          "Sylvia",
          "Syria",
          "Tajikistan",
          "Thailand",
          "Thessalonki-1",
          "Togo",
          "Toronto Argonauts",
          "Trinidad and Tobago",
          "Tunisia",
          "Turkey",
          "Turquoise-1",
          "Tutti V",
          "Uganda",
          "Ukraine",
          "Ukraine-1",
          "Unified Team",
          "Unified Team-2",
          "United Arab Emirates",
          "United Arab Republic",
          "United States",
          "United States Golf Association-3",
          "United States-1",
          "United States-2",
          "United States-3",
          "United States-4",
          "United States/Great Britain",
          "Univ. of Brussels",
          "Uruguay",
          "Uzbekistan",
          "Venezuela",
          "Venilia",
          "Wales-4",
          "West Germany",
          "West Germany-1",
          "West Indies Federation",
          "Western Rowing Club-3",
          "Widgeon",
          "Willem-Six",
          "Yugoslavia",
          "Zambia",
          "Zimbabwe"
         ],
         "marker": {
          "line": {
           "color": "rgb(0,0,0)",
           "width": 0.5
          }
         },
         "reversescale": false,
         "text": [
          "A North American Team",
          "Afghanistan",
          "Algeria",
          "Ali-Baba II",
          "Amstel Amsterdam",
          "Antwerpia V",
          "Aphrodite",
          "Argentina",
          "Argonaut Rowing Club",
          "Armenia",
          "Australasia",
          "Australia",
          "Australia-1",
          "Australia/Great Britain",
          "Austria",
          "Austria-1",
          "Austria-2",
          "Azerbaijan",
          "Baby-1",
          "Bagatelle Polo Club, Paris",
          "Bahamas",
          "Bahrain",
          "Ballerina IV",
          "Barbados",
          "Belarus",
          "Belgium",
          "Belgium-1",
          "Bem II",
          "Berliner Ruderclub",
          "Berliner Ruderverein von 1876-2",
          "Bermuda",
          "Bingo",
          "Bluebottle",
          "Bohemia",
          "Bohemia/Great Britain",
          "Boston Archers",
          "Brazil",
          "Brazil-1",
          "Brazil-2",
          "Bulgaria",
          "Buraddoo",
          "Cambridge University Boat Club-2",
          "Cameroon",
          "Canada",
          "Canada-1",
          "Caprice",
          "Central Turnverein, Chicago",
          "Chile",
          "China",
          "China-1",
          "China-2",
          "China-3",
          "Chinese Taipei",
          "Chuckles",
          "Clearwater",
          "Colombia",
          "Costa Rica",
          "Cote d'Ivoire",
          "Crabe II-4",
          "Croatia",
          "Cuba",
          "Czech Republic",
          "Czech Republic-1",
          "Czechoslovakia",
          "Denmark",
          "Denmark-1",
          "Denmark-2",
          "Digby",
          "Djibouti",
          "Dominican Republic",
          "Don Schufro",
          "East Germany",
          "East Germany-1",
          "East Germany-2",
          "Egypt",
          "Eritrea",
          "Espadarte",
          "Estonia",
          "Ethiopia",
          "Ethnikos Gymnastikos Syllogos",
          "Favorite Hammonia-3",
          "Finland",
          "Formosa",
          "France",
          "France-1",
          "France-2",
          "France-3",
          "Frimousse",
          "Gallia II",
          "Gem IV",
          "Georgia",
          "Germania II",
          "Germany",
          "Germany-1",
          "Germany-2",
          "Ghana",
          "Gitana-2",
          "Great Britain",
          "Great Britain-1",
          "Great Britain-2",
          "Great Britain-3",
          "Greece",
          "Greece-2",
          "Gustel X",
          "Guyana",
          "Guyoni",
          "Gwendoline-2",
          "Haiti",
          "Heatherbell",
          "Hojwa",
          "Hong Kong",
          "Humbug V",
          "Hungary",
          "Hungary-1",
          "Iceland",
          "Independent Rowing Club-3",
          "India",
          "Individual Olympic Athletes",
          "Indonesia",
          "Indonesia-1",
          "Iran",
          "Iraq",
          "Ireland",
          "Israel",
          "Italy",
          "Italy-1",
          "Italy-2",
          "Jamaica",
          "Japan",
          "K Division Metropolitan Police Team-3",
          "Kazakhstan",
          "Kenya",
          "Kerstin-1",
          "Kristiania Roklub-1",
          "Kuwait",
          "Kyrgyzstan",
          "Latvia",
          "Latvia-1",
          "Laurea-1",
          "Lebanon",
          "Libellule de Paris",
          "Liechtenstein",
          "Lithuania",
          "Lucky Girl-1",
          "Ludwigshafener Ruder Verein-1",
          "Macedonia",
          "Macky VI",
          "Malaysia",
          "Malaysia-2",
          "Margaret",
          "Marinai della nave da guerra \"Varese\"",
          "Martha-1",
          "Mauritius",
          "May Be",
          "Mexico",
          "Mignon-3",
          "Minerva Amsterdam",
          "Missouri Athletic Club-3",
          "Mohawk Indians-2",
          "Moldova",
          "Monaco",
          "Mongolia",
          "Morocco",
          "Mozambique",
          "Namoussa",
          "Netherlands",
          "Netherlands-1",
          "New Zealand",
          "Niger",
          "Nigeria",
          "Nina Claire-2",
          "North Korea",
          "North Korea-1",
          "Norway",
          "Ormsund Roklub-2",
          "Pakistan",
          "Panama",
          "Phalainis ton Thorichtou \"Hydra\"-2",
          "Philippines",
          "Pistoja/Firenze",
          "Poland",
          "Polyteknisk Roklub-1",
          "Portugal",
          "Potsdam",
          "Puerto Rico",
          "Pupilles de Neptune de Lille #2-1",
          "Pupilles de Neptune de Lille-1",
          "Qatar",
          "Ralia",
          "Romania",
          "Romania-1",
          "Rowing Club Castillon-3",
          "Russia",
          "Russia-1",
          "Sarcelle-3",
          "Saudi Arabia",
          "Scamasaxe-2",
          "Scotland-3",
          "Serbia",
          "Serbia and Montenegro",
          "Shrew II",
          "Singapore",
          "Slovakia",
          "Slovenia",
          "Snap",
          "Socit Nautique de Bayonne-1",
          "Socit Nautique de Bayonne-2",
          "Socit Nautique de la Basse Seine-1",
          "Sorais-2",
          "South Africa",
          "South Korea",
          "South Korea-1",
          "South Korea-2",
          "Soviet Union",
          "Soviet Union-2",
          "Spain",
          "St. Louis Southwest Turnverein #2-3",
          "St. Rose-2",
          "Starita",
          "Stella-2",
          "Suriname",
          "Sweden",
          "Sweden-3",
          "Swedish Star",
          "Switzerland",
          "Switzerland-1",
          "Switzerland-2",
          "Sylvia",
          "Syria",
          "Tajikistan",
          "Thailand",
          "Thessalonki-1",
          "Togo",
          "Toronto Argonauts",
          "Trinidad and Tobago",
          "Tunisia",
          "Turkey",
          "Turquoise-1",
          "Tutti V",
          "Uganda",
          "Ukraine",
          "Ukraine-1",
          "Unified Team",
          "Unified Team-2",
          "United Arab Emirates",
          "United Arab Republic",
          "United States",
          "United States Golf Association-3",
          "United States-1",
          "United States-2",
          "United States-3",
          "United States-4",
          "United States/Great Britain",
          "Univ. of Brussels",
          "Uruguay",
          "Uzbekistan",
          "Venezuela",
          "Venilia",
          "Wales-4",
          "West Germany",
          "West Germany-1",
          "West Indies Federation",
          "Western Rowing Club-3",
          "Widgeon",
          "Willem-Six",
          "Yugoslavia",
          "Zambia",
          "Zimbabwe"
         ],
         "type": "choropleth",
         "z": [
          4,
          2,
          8,
          5,
          4,
          5,
          3,
          91,
          6,
          9,
          5,
          511,
          2,
          2,
          150,
          4,
          2,
          25,
          1,
          4,
          13,
          1,
          3,
          1,
          71,
          154,
          5,
          2,
          2,
          9,
          1,
          3,
          3,
          10,
          2,
          4,
          185,
          2,
          4,
          144,
          3,
          9,
          1,
          408,
          12,
          4,
          6,
          20,
          268,
          10,
          12,
          2,
          18,
          2,
          1,
          14,
          2,
          1,
          5,
          37,
          116,
          60,
          6,
          182,
          162,
          2,
          2,
          1,
          1,
          2,
          1,
          263,
          8,
          10,
          12,
          1,
          2,
          20,
          22,
          2,
          6,
          415,
          1,
          577,
          11,
          4,
          2,
          1,
          7,
          2,
          18,
          6,
          678,
          22,
          11,
          22,
          5,
          572,
          4,
          14,
          4,
          62,
          2,
          3,
          1,
          3,
          3,
          5,
          7,
          3,
          1,
          2,
          365,
          6,
          2,
          2,
          40,
          3,
          9,
          4,
          29,
          1,
          13,
          7,
          484,
          14,
          4,
          44,
          357,
          8,
          32,
          31,
          3,
          5,
          2,
          2,
          9,
          4,
          1,
          2,
          7,
          5,
          48,
          5,
          5,
          1,
          3,
          3,
          2,
          2,
          17,
          4,
          1,
          5,
          51,
          1,
          9,
          11,
          12,
          5,
          1,
          14,
          12,
          1,
          5,
          390,
          2,
          82,
          1,
          46,
          4,
          33,
          2,
          281,
          5,
          34,
          2,
          7,
          7,
          9,
          253,
          5,
          24,
          1,
          6,
          8,
          4,
          4,
          5,
          290,
          2,
          3,
          393,
          8,
          3,
          5,
          2,
          11,
          41,
          26,
          2,
          4,
          13,
          27,
          3,
          3,
          5,
          3,
          5,
          52,
          159,
          18,
          8,
          677,
          12,
          136,
          5,
          12,
          2,
          3,
          1,
          507,
          2,
          2,
          231,
          30,
          4,
          6,
          1,
          2,
          13,
          11,
          1,
          9,
          17,
          7,
          28,
          1,
          5,
          2,
          98,
          2,
          79,
          2,
          1,
          1,
          1233,
          10,
          30,
          20,
          2,
          2,
          2,
          11,
          30,
          17,
          10,
          3,
          11,
          219,
          14,
          5,
          6,
          2,
          3,
          93,
          1,
          1
         ]
        }
       ],
       "layout": {
        "geo": {
         "projection": {
          "type": "natural earth"
         },
         "showcoastlines": true,
         "showframe": true,
         "showlakes": false
        },
        "template": {
         "data": {
          "bar": [
           {
            "error_x": {
             "color": "#2a3f5f"
            },
            "error_y": {
             "color": "#2a3f5f"
            },
            "marker": {
             "line": {
              "color": "#E5ECF6",
              "width": 0.5
             },
             "pattern": {
              "fillmode": "overlay",
              "size": 10,
              "solidity": 0.2
             }
            },
            "type": "bar"
           }
          ],
          "barpolar": [
           {
            "marker": {
             "line": {
              "color": "#E5ECF6",
              "width": 0.5
             },
             "pattern": {
              "fillmode": "overlay",
              "size": 10,
              "solidity": 0.2
             }
            },
            "type": "barpolar"
           }
          ],
          "carpet": [
           {
            "aaxis": {
             "endlinecolor": "#2a3f5f",
             "gridcolor": "white",
             "linecolor": "white",
             "minorgridcolor": "white",
             "startlinecolor": "#2a3f5f"
            },
            "baxis": {
             "endlinecolor": "#2a3f5f",
             "gridcolor": "white",
             "linecolor": "white",
             "minorgridcolor": "white",
             "startlinecolor": "#2a3f5f"
            },
            "type": "carpet"
           }
          ],
          "choropleth": [
           {
            "colorbar": {
             "outlinewidth": 0,
             "ticks": ""
            },
            "type": "choropleth"
           }
          ],
          "contour": [
           {
            "colorbar": {
             "outlinewidth": 0,
             "ticks": ""
            },
            "colorscale": [
             [
              0,
              "#0d0887"
             ],
             [
              0.1111111111111111,
              "#46039f"
             ],
             [
              0.2222222222222222,
              "#7201a8"
             ],
             [
              0.3333333333333333,
              "#9c179e"
             ],
             [
              0.4444444444444444,
              "#bd3786"
             ],
             [
              0.5555555555555556,
              "#d8576b"
             ],
             [
              0.6666666666666666,
              "#ed7953"
             ],
             [
              0.7777777777777778,
              "#fb9f3a"
             ],
             [
              0.8888888888888888,
              "#fdca26"
             ],
             [
              1,
              "#f0f921"
             ]
            ],
            "type": "contour"
           }
          ],
          "contourcarpet": [
           {
            "colorbar": {
             "outlinewidth": 0,
             "ticks": ""
            },
            "type": "contourcarpet"
           }
          ],
          "heatmap": [
           {
            "colorbar": {
             "outlinewidth": 0,
             "ticks": ""
            },
            "colorscale": [
             [
              0,
              "#0d0887"
             ],
             [
              0.1111111111111111,
              "#46039f"
             ],
             [
              0.2222222222222222,
              "#7201a8"
             ],
             [
              0.3333333333333333,
              "#9c179e"
             ],
             [
              0.4444444444444444,
              "#bd3786"
             ],
             [
              0.5555555555555556,
              "#d8576b"
             ],
             [
              0.6666666666666666,
              "#ed7953"
             ],
             [
              0.7777777777777778,
              "#fb9f3a"
             ],
             [
              0.8888888888888888,
              "#fdca26"
             ],
             [
              1,
              "#f0f921"
             ]
            ],
            "type": "heatmap"
           }
          ],
          "heatmapgl": [
           {
            "colorbar": {
             "outlinewidth": 0,
             "ticks": ""
            },
            "colorscale": [
             [
              0,
              "#0d0887"
             ],
             [
              0.1111111111111111,
              "#46039f"
             ],
             [
              0.2222222222222222,
              "#7201a8"
             ],
             [
              0.3333333333333333,
              "#9c179e"
             ],
             [
              0.4444444444444444,
              "#bd3786"
             ],
             [
              0.5555555555555556,
              "#d8576b"
             ],
             [
              0.6666666666666666,
              "#ed7953"
             ],
             [
              0.7777777777777778,
              "#fb9f3a"
             ],
             [
              0.8888888888888888,
              "#fdca26"
             ],
             [
              1,
              "#f0f921"
             ]
            ],
            "type": "heatmapgl"
           }
          ],
          "histogram": [
           {
            "marker": {
             "pattern": {
              "fillmode": "overlay",
              "size": 10,
              "solidity": 0.2
             }
            },
            "type": "histogram"
           }
          ],
          "histogram2d": [
           {
            "colorbar": {
             "outlinewidth": 0,
             "ticks": ""
            },
            "colorscale": [
             [
              0,
              "#0d0887"
             ],
             [
              0.1111111111111111,
              "#46039f"
             ],
             [
              0.2222222222222222,
              "#7201a8"
             ],
             [
              0.3333333333333333,
              "#9c179e"
             ],
             [
              0.4444444444444444,
              "#bd3786"
             ],
             [
              0.5555555555555556,
              "#d8576b"
             ],
             [
              0.6666666666666666,
              "#ed7953"
             ],
             [
              0.7777777777777778,
              "#fb9f3a"
             ],
             [
              0.8888888888888888,
              "#fdca26"
             ],
             [
              1,
              "#f0f921"
             ]
            ],
            "type": "histogram2d"
           }
          ],
          "histogram2dcontour": [
           {
            "colorbar": {
             "outlinewidth": 0,
             "ticks": ""
            },
            "colorscale": [
             [
              0,
              "#0d0887"
             ],
             [
              0.1111111111111111,
              "#46039f"
             ],
             [
              0.2222222222222222,
              "#7201a8"
             ],
             [
              0.3333333333333333,
              "#9c179e"
             ],
             [
              0.4444444444444444,
              "#bd3786"
             ],
             [
              0.5555555555555556,
              "#d8576b"
             ],
             [
              0.6666666666666666,
              "#ed7953"
             ],
             [
              0.7777777777777778,
              "#fb9f3a"
             ],
             [
              0.8888888888888888,
              "#fdca26"
             ],
             [
              1,
              "#f0f921"
             ]
            ],
            "type": "histogram2dcontour"
           }
          ],
          "mesh3d": [
           {
            "colorbar": {
             "outlinewidth": 0,
             "ticks": ""
            },
            "type": "mesh3d"
           }
          ],
          "parcoords": [
           {
            "line": {
             "colorbar": {
              "outlinewidth": 0,
              "ticks": ""
             }
            },
            "type": "parcoords"
           }
          ],
          "pie": [
           {
            "automargin": true,
            "type": "pie"
           }
          ],
          "scatter": [
           {
            "marker": {
             "colorbar": {
              "outlinewidth": 0,
              "ticks": ""
             }
            },
            "type": "scatter"
           }
          ],
          "scatter3d": [
           {
            "line": {
             "colorbar": {
              "outlinewidth": 0,
              "ticks": ""
             }
            },
            "marker": {
             "colorbar": {
              "outlinewidth": 0,
              "ticks": ""
             }
            },
            "type": "scatter3d"
           }
          ],
          "scattercarpet": [
           {
            "marker": {
             "colorbar": {
              "outlinewidth": 0,
              "ticks": ""
             }
            },
            "type": "scattercarpet"
           }
          ],
          "scattergeo": [
           {
            "marker": {
             "colorbar": {
              "outlinewidth": 0,
              "ticks": ""
             }
            },
            "type": "scattergeo"
           }
          ],
          "scattergl": [
           {
            "marker": {
             "colorbar": {
              "outlinewidth": 0,
              "ticks": ""
             }
            },
            "type": "scattergl"
           }
          ],
          "scattermapbox": [
           {
            "marker": {
             "colorbar": {
              "outlinewidth": 0,
              "ticks": ""
             }
            },
            "type": "scattermapbox"
           }
          ],
          "scatterpolar": [
           {
            "marker": {
             "colorbar": {
              "outlinewidth": 0,
              "ticks": ""
             }
            },
            "type": "scatterpolar"
           }
          ],
          "scatterpolargl": [
           {
            "marker": {
             "colorbar": {
              "outlinewidth": 0,
              "ticks": ""
             }
            },
            "type": "scatterpolargl"
           }
          ],
          "scatterternary": [
           {
            "marker": {
             "colorbar": {
              "outlinewidth": 0,
              "ticks": ""
             }
            },
            "type": "scatterternary"
           }
          ],
          "surface": [
           {
            "colorbar": {
             "outlinewidth": 0,
             "ticks": ""
            },
            "colorscale": [
             [
              0,
              "#0d0887"
             ],
             [
              0.1111111111111111,
              "#46039f"
             ],
             [
              0.2222222222222222,
              "#7201a8"
             ],
             [
              0.3333333333333333,
              "#9c179e"
             ],
             [
              0.4444444444444444,
              "#bd3786"
             ],
             [
              0.5555555555555556,
              "#d8576b"
             ],
             [
              0.6666666666666666,
              "#ed7953"
             ],
             [
              0.7777777777777778,
              "#fb9f3a"
             ],
             [
              0.8888888888888888,
              "#fdca26"
             ],
             [
              1,
              "#f0f921"
             ]
            ],
            "type": "surface"
           }
          ],
          "table": [
           {
            "cells": {
             "fill": {
              "color": "#EBF0F8"
             },
             "line": {
              "color": "white"
             }
            },
            "header": {
             "fill": {
              "color": "#C8D4E3"
             },
             "line": {
              "color": "white"
             }
            },
            "type": "table"
           }
          ]
         },
         "layout": {
          "annotationdefaults": {
           "arrowcolor": "#2a3f5f",
           "arrowhead": 0,
           "arrowwidth": 1
          },
          "autotypenumbers": "strict",
          "coloraxis": {
           "colorbar": {
            "outlinewidth": 0,
            "ticks": ""
           }
          },
          "colorscale": {
           "diverging": [
            [
             0,
             "#8e0152"
            ],
            [
             0.1,
             "#c51b7d"
            ],
            [
             0.2,
             "#de77ae"
            ],
            [
             0.3,
             "#f1b6da"
            ],
            [
             0.4,
             "#fde0ef"
            ],
            [
             0.5,
             "#f7f7f7"
            ],
            [
             0.6,
             "#e6f5d0"
            ],
            [
             0.7,
             "#b8e186"
            ],
            [
             0.8,
             "#7fbc41"
            ],
            [
             0.9,
             "#4d9221"
            ],
            [
             1,
             "#276419"
            ]
           ],
           "sequential": [
            [
             0,
             "#0d0887"
            ],
            [
             0.1111111111111111,
             "#46039f"
            ],
            [
             0.2222222222222222,
             "#7201a8"
            ],
            [
             0.3333333333333333,
             "#9c179e"
            ],
            [
             0.4444444444444444,
             "#bd3786"
            ],
            [
             0.5555555555555556,
             "#d8576b"
            ],
            [
             0.6666666666666666,
             "#ed7953"
            ],
            [
             0.7777777777777778,
             "#fb9f3a"
            ],
            [
             0.8888888888888888,
             "#fdca26"
            ],
            [
             1,
             "#f0f921"
            ]
           ],
           "sequentialminus": [
            [
             0,
             "#0d0887"
            ],
            [
             0.1111111111111111,
             "#46039f"
            ],
            [
             0.2222222222222222,
             "#7201a8"
            ],
            [
             0.3333333333333333,
             "#9c179e"
            ],
            [
             0.4444444444444444,
             "#bd3786"
            ],
            [
             0.5555555555555556,
             "#d8576b"
            ],
            [
             0.6666666666666666,
             "#ed7953"
            ],
            [
             0.7777777777777778,
             "#fb9f3a"
            ],
            [
             0.8888888888888888,
             "#fdca26"
            ],
            [
             1,
             "#f0f921"
            ]
           ]
          },
          "colorway": [
           "#636efa",
           "#EF553B",
           "#00cc96",
           "#ab63fa",
           "#FFA15A",
           "#19d3f3",
           "#FF6692",
           "#B6E880",
           "#FF97FF",
           "#FECB52"
          ],
          "font": {
           "color": "#2a3f5f"
          },
          "geo": {
           "bgcolor": "white",
           "lakecolor": "white",
           "landcolor": "#E5ECF6",
           "showlakes": true,
           "showland": true,
           "subunitcolor": "white"
          },
          "hoverlabel": {
           "align": "left"
          },
          "hovermode": "closest",
          "mapbox": {
           "style": "light"
          },
          "paper_bgcolor": "white",
          "plot_bgcolor": "#E5ECF6",
          "polar": {
           "angularaxis": {
            "gridcolor": "white",
            "linecolor": "white",
            "ticks": ""
           },
           "bgcolor": "#E5ECF6",
           "radialaxis": {
            "gridcolor": "white",
            "linecolor": "white",
            "ticks": ""
           }
          },
          "scene": {
           "xaxis": {
            "backgroundcolor": "#E5ECF6",
            "gridcolor": "white",
            "gridwidth": 2,
            "linecolor": "white",
            "showbackground": true,
            "ticks": "",
            "zerolinecolor": "white"
           },
           "yaxis": {
            "backgroundcolor": "#E5ECF6",
            "gridcolor": "white",
            "gridwidth": 2,
            "linecolor": "white",
            "showbackground": true,
            "ticks": "",
            "zerolinecolor": "white"
           },
           "zaxis": {
            "backgroundcolor": "#E5ECF6",
            "gridcolor": "white",
            "gridwidth": 2,
            "linecolor": "white",
            "showbackground": true,
            "ticks": "",
            "zerolinecolor": "white"
           }
          },
          "shapedefaults": {
           "line": {
            "color": "#2a3f5f"
           }
          },
          "ternary": {
           "aaxis": {
            "gridcolor": "white",
            "linecolor": "white",
            "ticks": ""
           },
           "baxis": {
            "gridcolor": "white",
            "linecolor": "white",
            "ticks": ""
           },
           "bgcolor": "#E5ECF6",
           "caxis": {
            "gridcolor": "white",
            "linecolor": "white",
            "ticks": ""
           }
          },
          "title": {
           "x": 0.05
          },
          "xaxis": {
           "automargin": true,
           "gridcolor": "white",
           "linecolor": "white",
           "ticks": "",
           "title": {
            "standoff": 15
           },
           "zerolinecolor": "white",
           "zerolinewidth": 2
          },
          "yaxis": {
           "automargin": true,
           "gridcolor": "white",
           "linecolor": "white",
           "ticks": "",
           "title": {
            "standoff": 15
           },
           "zerolinecolor": "white",
           "zerolinewidth": 2
          }
         }
        },
        "title": {
         "text": "Countries with Borzen Medals"
        }
       }
      },
      "text/html": [
       "<div>                            <div id=\"e9b2d2ae-bbac-43e1-8afc-248d00d9e713\" class=\"plotly-graph-div\" style=\"height:525px; width:100%;\"></div>            <script type=\"text/javascript\">                require([\"plotly\"], function(Plotly) {                    window.PLOTLYENV=window.PLOTLYENV || {};                                    if (document.getElementById(\"e9b2d2ae-bbac-43e1-8afc-248d00d9e713\")) {                    Plotly.newPlot(                        \"e9b2d2ae-bbac-43e1-8afc-248d00d9e713\",                        [{\"autocolorscale\":false,\"colorbar\":{\"tickprefix\":\"\",\"title\":{\"text\":\"Medals\"}},\"colorscale\":[[0.0,\"rgb(255,245,240)\"],[0.125,\"rgb(254,224,210)\"],[0.25,\"rgb(252,187,161)\"],[0.375,\"rgb(252,146,114)\"],[0.5,\"rgb(251,106,74)\"],[0.625,\"rgb(239,59,44)\"],[0.75,\"rgb(203,24,29)\"],[0.875,\"rgb(165,15,21)\"],[1.0,\"rgb(103,0,13)\"]],\"locationmode\":\"country names\",\"locations\":[\"A North American Team\",\"Afghanistan\",\"Algeria\",\"Ali-Baba II\",\"Amstel Amsterdam\",\"Antwerpia V\",\"Aphrodite\",\"Argentina\",\"Argonaut Rowing Club\",\"Armenia\",\"Australasia\",\"Australia\",\"Australia-1\",\"Australia/Great Britain\",\"Austria\",\"Austria-1\",\"Austria-2\",\"Azerbaijan\",\"Baby-1\",\"Bagatelle Polo Club, Paris\",\"Bahamas\",\"Bahrain\",\"Ballerina IV\",\"Barbados\",\"Belarus\",\"Belgium\",\"Belgium-1\",\"Bem II\",\"Berliner Ruderclub\",\"Berliner Ruderverein von 1876-2\",\"Bermuda\",\"Bingo\",\"Bluebottle\",\"Bohemia\",\"Bohemia/Great Britain\",\"Boston Archers\",\"Brazil\",\"Brazil-1\",\"Brazil-2\",\"Bulgaria\",\"Buraddoo\",\"Cambridge University Boat Club-2\",\"Cameroon\",\"Canada\",\"Canada-1\",\"Caprice\",\"Central Turnverein, Chicago\",\"Chile\",\"China\",\"China-1\",\"China-2\",\"China-3\",\"Chinese Taipei\",\"Chuckles\",\"Clearwater\",\"Colombia\",\"Costa Rica\",\"Cote d'Ivoire\",\"Crabe II-4\",\"Croatia\",\"Cuba\",\"Czech Republic\",\"Czech Republic-1\",\"Czechoslovakia\",\"Denmark\",\"Denmark-1\",\"Denmark-2\",\"Digby\",\"Djibouti\",\"Dominican Republic\",\"Don Schufro\",\"East Germany\",\"East Germany-1\",\"East Germany-2\",\"Egypt\",\"Eritrea\",\"Espadarte\",\"Estonia\",\"Ethiopia\",\"Ethnikos Gymnastikos Syllogos\",\"Favorite Hammonia-3\",\"Finland\",\"Formosa\",\"France\",\"France-1\",\"France-2\",\"France-3\",\"Frimousse\",\"Gallia II\",\"Gem IV\",\"Georgia\",\"Germania II\",\"Germany\",\"Germany-1\",\"Germany-2\",\"Ghana\",\"Gitana-2\",\"Great Britain\",\"Great Britain-1\",\"Great Britain-2\",\"Great Britain-3\",\"Greece\",\"Greece-2\",\"Gustel X\",\"Guyana\",\"Guyoni\",\"Gwendoline-2\",\"Haiti\",\"Heatherbell\",\"Hojwa\",\"Hong Kong\",\"Humbug V\",\"Hungary\",\"Hungary-1\",\"Iceland\",\"Independent Rowing Club-3\",\"India\",\"Individual Olympic Athletes\",\"Indonesia\",\"Indonesia-1\",\"Iran\",\"Iraq\",\"Ireland\",\"Israel\",\"Italy\",\"Italy-1\",\"Italy-2\",\"Jamaica\",\"Japan\",\"K Division Metropolitan Police Team-3\",\"Kazakhstan\",\"Kenya\",\"Kerstin-1\",\"Kristiania Roklub-1\",\"Kuwait\",\"Kyrgyzstan\",\"Latvia\",\"Latvia-1\",\"Laurea-1\",\"Lebanon\",\"Libellule de Paris\",\"Liechtenstein\",\"Lithuania\",\"Lucky Girl-1\",\"Ludwigshafener Ruder Verein-1\",\"Macedonia\",\"Macky VI\",\"Malaysia\",\"Malaysia-2\",\"Margaret\",\"Marinai della nave da guerra \\\"Varese\\\"\",\"Martha-1\",\"Mauritius\",\"May Be\",\"Mexico\",\"Mignon-3\",\"Minerva Amsterdam\",\"Missouri Athletic Club-3\",\"Mohawk Indians-2\",\"Moldova\",\"Monaco\",\"Mongolia\",\"Morocco\",\"Mozambique\",\"Namoussa\",\"Netherlands\",\"Netherlands-1\",\"New Zealand\",\"Niger\",\"Nigeria\",\"Nina Claire-2\",\"North Korea\",\"North Korea-1\",\"Norway\",\"Ormsund Roklub-2\",\"Pakistan\",\"Panama\",\"Phalainis ton Thorichtou \\\"Hydra\\\"-2\",\"Philippines\",\"Pistoja/Firenze\",\"Poland\",\"Polyteknisk Roklub-1\",\"Portugal\",\"Potsdam\",\"Puerto Rico\",\"Pupilles de Neptune de Lille #2-1\",\"Pupilles de Neptune de Lille-1\",\"Qatar\",\"Ralia\",\"Romania\",\"Romania-1\",\"Rowing Club Castillon-3\",\"Russia\",\"Russia-1\",\"Sarcelle-3\",\"Saudi Arabia\",\"Scamasaxe-2\",\"Scotland-3\",\"Serbia\",\"Serbia and Montenegro\",\"Shrew II\",\"Singapore\",\"Slovakia\",\"Slovenia\",\"Snap\",\"Socit Nautique de Bayonne-1\",\"Socit Nautique de Bayonne-2\",\"Socit Nautique de la Basse Seine-1\",\"Sorais-2\",\"South Africa\",\"South Korea\",\"South Korea-1\",\"South Korea-2\",\"Soviet Union\",\"Soviet Union-2\",\"Spain\",\"St. Louis Southwest Turnverein #2-3\",\"St. Rose-2\",\"Starita\",\"Stella-2\",\"Suriname\",\"Sweden\",\"Sweden-3\",\"Swedish Star\",\"Switzerland\",\"Switzerland-1\",\"Switzerland-2\",\"Sylvia\",\"Syria\",\"Tajikistan\",\"Thailand\",\"Thessalonki-1\",\"Togo\",\"Toronto Argonauts\",\"Trinidad and Tobago\",\"Tunisia\",\"Turkey\",\"Turquoise-1\",\"Tutti V\",\"Uganda\",\"Ukraine\",\"Ukraine-1\",\"Unified Team\",\"Unified Team-2\",\"United Arab Emirates\",\"United Arab Republic\",\"United States\",\"United States Golf Association-3\",\"United States-1\",\"United States-2\",\"United States-3\",\"United States-4\",\"United States/Great Britain\",\"Univ. of Brussels\",\"Uruguay\",\"Uzbekistan\",\"Venezuela\",\"Venilia\",\"Wales-4\",\"West Germany\",\"West Germany-1\",\"West Indies Federation\",\"Western Rowing Club-3\",\"Widgeon\",\"Willem-Six\",\"Yugoslavia\",\"Zambia\",\"Zimbabwe\"],\"marker\":{\"line\":{\"color\":\"rgb(0,0,0)\",\"width\":0.5}},\"reversescale\":false,\"text\":[\"A North American Team\",\"Afghanistan\",\"Algeria\",\"Ali-Baba II\",\"Amstel Amsterdam\",\"Antwerpia V\",\"Aphrodite\",\"Argentina\",\"Argonaut Rowing Club\",\"Armenia\",\"Australasia\",\"Australia\",\"Australia-1\",\"Australia/Great Britain\",\"Austria\",\"Austria-1\",\"Austria-2\",\"Azerbaijan\",\"Baby-1\",\"Bagatelle Polo Club, Paris\",\"Bahamas\",\"Bahrain\",\"Ballerina IV\",\"Barbados\",\"Belarus\",\"Belgium\",\"Belgium-1\",\"Bem II\",\"Berliner Ruderclub\",\"Berliner Ruderverein von 1876-2\",\"Bermuda\",\"Bingo\",\"Bluebottle\",\"Bohemia\",\"Bohemia/Great Britain\",\"Boston Archers\",\"Brazil\",\"Brazil-1\",\"Brazil-2\",\"Bulgaria\",\"Buraddoo\",\"Cambridge University Boat Club-2\",\"Cameroon\",\"Canada\",\"Canada-1\",\"Caprice\",\"Central Turnverein, Chicago\",\"Chile\",\"China\",\"China-1\",\"China-2\",\"China-3\",\"Chinese Taipei\",\"Chuckles\",\"Clearwater\",\"Colombia\",\"Costa Rica\",\"Cote d'Ivoire\",\"Crabe II-4\",\"Croatia\",\"Cuba\",\"Czech Republic\",\"Czech Republic-1\",\"Czechoslovakia\",\"Denmark\",\"Denmark-1\",\"Denmark-2\",\"Digby\",\"Djibouti\",\"Dominican Republic\",\"Don Schufro\",\"East Germany\",\"East Germany-1\",\"East Germany-2\",\"Egypt\",\"Eritrea\",\"Espadarte\",\"Estonia\",\"Ethiopia\",\"Ethnikos Gymnastikos Syllogos\",\"Favorite Hammonia-3\",\"Finland\",\"Formosa\",\"France\",\"France-1\",\"France-2\",\"France-3\",\"Frimousse\",\"Gallia II\",\"Gem IV\",\"Georgia\",\"Germania II\",\"Germany\",\"Germany-1\",\"Germany-2\",\"Ghana\",\"Gitana-2\",\"Great Britain\",\"Great Britain-1\",\"Great Britain-2\",\"Great Britain-3\",\"Greece\",\"Greece-2\",\"Gustel X\",\"Guyana\",\"Guyoni\",\"Gwendoline-2\",\"Haiti\",\"Heatherbell\",\"Hojwa\",\"Hong Kong\",\"Humbug V\",\"Hungary\",\"Hungary-1\",\"Iceland\",\"Independent Rowing Club-3\",\"India\",\"Individual Olympic Athletes\",\"Indonesia\",\"Indonesia-1\",\"Iran\",\"Iraq\",\"Ireland\",\"Israel\",\"Italy\",\"Italy-1\",\"Italy-2\",\"Jamaica\",\"Japan\",\"K Division Metropolitan Police Team-3\",\"Kazakhstan\",\"Kenya\",\"Kerstin-1\",\"Kristiania Roklub-1\",\"Kuwait\",\"Kyrgyzstan\",\"Latvia\",\"Latvia-1\",\"Laurea-1\",\"Lebanon\",\"Libellule de Paris\",\"Liechtenstein\",\"Lithuania\",\"Lucky Girl-1\",\"Ludwigshafener Ruder Verein-1\",\"Macedonia\",\"Macky VI\",\"Malaysia\",\"Malaysia-2\",\"Margaret\",\"Marinai della nave da guerra \\\"Varese\\\"\",\"Martha-1\",\"Mauritius\",\"May Be\",\"Mexico\",\"Mignon-3\",\"Minerva Amsterdam\",\"Missouri Athletic Club-3\",\"Mohawk Indians-2\",\"Moldova\",\"Monaco\",\"Mongolia\",\"Morocco\",\"Mozambique\",\"Namoussa\",\"Netherlands\",\"Netherlands-1\",\"New Zealand\",\"Niger\",\"Nigeria\",\"Nina Claire-2\",\"North Korea\",\"North Korea-1\",\"Norway\",\"Ormsund Roklub-2\",\"Pakistan\",\"Panama\",\"Phalainis ton Thorichtou \\\"Hydra\\\"-2\",\"Philippines\",\"Pistoja/Firenze\",\"Poland\",\"Polyteknisk Roklub-1\",\"Portugal\",\"Potsdam\",\"Puerto Rico\",\"Pupilles de Neptune de Lille #2-1\",\"Pupilles de Neptune de Lille-1\",\"Qatar\",\"Ralia\",\"Romania\",\"Romania-1\",\"Rowing Club Castillon-3\",\"Russia\",\"Russia-1\",\"Sarcelle-3\",\"Saudi Arabia\",\"Scamasaxe-2\",\"Scotland-3\",\"Serbia\",\"Serbia and Montenegro\",\"Shrew II\",\"Singapore\",\"Slovakia\",\"Slovenia\",\"Snap\",\"Socit Nautique de Bayonne-1\",\"Socit Nautique de Bayonne-2\",\"Socit Nautique de la Basse Seine-1\",\"Sorais-2\",\"South Africa\",\"South Korea\",\"South Korea-1\",\"South Korea-2\",\"Soviet Union\",\"Soviet Union-2\",\"Spain\",\"St. Louis Southwest Turnverein #2-3\",\"St. Rose-2\",\"Starita\",\"Stella-2\",\"Suriname\",\"Sweden\",\"Sweden-3\",\"Swedish Star\",\"Switzerland\",\"Switzerland-1\",\"Switzerland-2\",\"Sylvia\",\"Syria\",\"Tajikistan\",\"Thailand\",\"Thessalonki-1\",\"Togo\",\"Toronto Argonauts\",\"Trinidad and Tobago\",\"Tunisia\",\"Turkey\",\"Turquoise-1\",\"Tutti V\",\"Uganda\",\"Ukraine\",\"Ukraine-1\",\"Unified Team\",\"Unified Team-2\",\"United Arab Emirates\",\"United Arab Republic\",\"United States\",\"United States Golf Association-3\",\"United States-1\",\"United States-2\",\"United States-3\",\"United States-4\",\"United States/Great Britain\",\"Univ. of Brussels\",\"Uruguay\",\"Uzbekistan\",\"Venezuela\",\"Venilia\",\"Wales-4\",\"West Germany\",\"West Germany-1\",\"West Indies Federation\",\"Western Rowing Club-3\",\"Widgeon\",\"Willem-Six\",\"Yugoslavia\",\"Zambia\",\"Zimbabwe\"],\"type\":\"choropleth\",\"z\":[4,2,8,5,4,5,3,91,6,9,5,511,2,2,150,4,2,25,1,4,13,1,3,1,71,154,5,2,2,9,1,3,3,10,2,4,185,2,4,144,3,9,1,408,12,4,6,20,268,10,12,2,18,2,1,14,2,1,5,37,116,60,6,182,162,2,2,1,1,2,1,263,8,10,12,1,2,20,22,2,6,415,1,577,11,4,2,1,7,2,18,6,678,22,11,22,5,572,4,14,4,62,2,3,1,3,3,5,7,3,1,2,365,6,2,2,40,3,9,4,29,1,13,7,484,14,4,44,357,8,32,31,3,5,2,2,9,4,1,2,7,5,48,5,5,1,3,3,2,2,17,4,1,5,51,1,9,11,12,5,1,14,12,1,5,390,2,82,1,46,4,33,2,281,5,34,2,7,7,9,253,5,24,1,6,8,4,4,5,290,2,3,393,8,3,5,2,11,41,26,2,4,13,27,3,3,5,3,5,52,159,18,8,677,12,136,5,12,2,3,1,507,2,2,231,30,4,6,1,2,13,11,1,9,17,7,28,1,5,2,98,2,79,2,1,1,1233,10,30,20,2,2,2,11,30,17,10,3,11,219,14,5,6,2,3,93,1,1]}],                        {\"geo\":{\"projection\":{\"type\":\"natural earth\"},\"showcoastlines\":true,\"showframe\":true,\"showlakes\":false},\"template\":{\"data\":{\"bar\":[{\"error_x\":{\"color\":\"#2a3f5f\"},\"error_y\":{\"color\":\"#2a3f5f\"},\"marker\":{\"line\":{\"color\":\"#E5ECF6\",\"width\":0.5},\"pattern\":{\"fillmode\":\"overlay\",\"size\":10,\"solidity\":0.2}},\"type\":\"bar\"}],\"barpolar\":[{\"marker\":{\"line\":{\"color\":\"#E5ECF6\",\"width\":0.5},\"pattern\":{\"fillmode\":\"overlay\",\"size\":10,\"solidity\":0.2}},\"type\":\"barpolar\"}],\"carpet\":[{\"aaxis\":{\"endlinecolor\":\"#2a3f5f\",\"gridcolor\":\"white\",\"linecolor\":\"white\",\"minorgridcolor\":\"white\",\"startlinecolor\":\"#2a3f5f\"},\"baxis\":{\"endlinecolor\":\"#2a3f5f\",\"gridcolor\":\"white\",\"linecolor\":\"white\",\"minorgridcolor\":\"white\",\"startlinecolor\":\"#2a3f5f\"},\"type\":\"carpet\"}],\"choropleth\":[{\"colorbar\":{\"outlinewidth\":0,\"ticks\":\"\"},\"type\":\"choropleth\"}],\"contour\":[{\"colorbar\":{\"outlinewidth\":0,\"ticks\":\"\"},\"colorscale\":[[0.0,\"#0d0887\"],[0.1111111111111111,\"#46039f\"],[0.2222222222222222,\"#7201a8\"],[0.3333333333333333,\"#9c179e\"],[0.4444444444444444,\"#bd3786\"],[0.5555555555555556,\"#d8576b\"],[0.6666666666666666,\"#ed7953\"],[0.7777777777777778,\"#fb9f3a\"],[0.8888888888888888,\"#fdca26\"],[1.0,\"#f0f921\"]],\"type\":\"contour\"}],\"contourcarpet\":[{\"colorbar\":{\"outlinewidth\":0,\"ticks\":\"\"},\"type\":\"contourcarpet\"}],\"heatmap\":[{\"colorbar\":{\"outlinewidth\":0,\"ticks\":\"\"},\"colorscale\":[[0.0,\"#0d0887\"],[0.1111111111111111,\"#46039f\"],[0.2222222222222222,\"#7201a8\"],[0.3333333333333333,\"#9c179e\"],[0.4444444444444444,\"#bd3786\"],[0.5555555555555556,\"#d8576b\"],[0.6666666666666666,\"#ed7953\"],[0.7777777777777778,\"#fb9f3a\"],[0.8888888888888888,\"#fdca26\"],[1.0,\"#f0f921\"]],\"type\":\"heatmap\"}],\"heatmapgl\":[{\"colorbar\":{\"outlinewidth\":0,\"ticks\":\"\"},\"colorscale\":[[0.0,\"#0d0887\"],[0.1111111111111111,\"#46039f\"],[0.2222222222222222,\"#7201a8\"],[0.3333333333333333,\"#9c179e\"],[0.4444444444444444,\"#bd3786\"],[0.5555555555555556,\"#d8576b\"],[0.6666666666666666,\"#ed7953\"],[0.7777777777777778,\"#fb9f3a\"],[0.8888888888888888,\"#fdca26\"],[1.0,\"#f0f921\"]],\"type\":\"heatmapgl\"}],\"histogram\":[{\"marker\":{\"pattern\":{\"fillmode\":\"overlay\",\"size\":10,\"solidity\":0.2}},\"type\":\"histogram\"}],\"histogram2d\":[{\"colorbar\":{\"outlinewidth\":0,\"ticks\":\"\"},\"colorscale\":[[0.0,\"#0d0887\"],[0.1111111111111111,\"#46039f\"],[0.2222222222222222,\"#7201a8\"],[0.3333333333333333,\"#9c179e\"],[0.4444444444444444,\"#bd3786\"],[0.5555555555555556,\"#d8576b\"],[0.6666666666666666,\"#ed7953\"],[0.7777777777777778,\"#fb9f3a\"],[0.8888888888888888,\"#fdca26\"],[1.0,\"#f0f921\"]],\"type\":\"histogram2d\"}],\"histogram2dcontour\":[{\"colorbar\":{\"outlinewidth\":0,\"ticks\":\"\"},\"colorscale\":[[0.0,\"#0d0887\"],[0.1111111111111111,\"#46039f\"],[0.2222222222222222,\"#7201a8\"],[0.3333333333333333,\"#9c179e\"],[0.4444444444444444,\"#bd3786\"],[0.5555555555555556,\"#d8576b\"],[0.6666666666666666,\"#ed7953\"],[0.7777777777777778,\"#fb9f3a\"],[0.8888888888888888,\"#fdca26\"],[1.0,\"#f0f921\"]],\"type\":\"histogram2dcontour\"}],\"mesh3d\":[{\"colorbar\":{\"outlinewidth\":0,\"ticks\":\"\"},\"type\":\"mesh3d\"}],\"parcoords\":[{\"line\":{\"colorbar\":{\"outlinewidth\":0,\"ticks\":\"\"}},\"type\":\"parcoords\"}],\"pie\":[{\"automargin\":true,\"type\":\"pie\"}],\"scatter\":[{\"marker\":{\"colorbar\":{\"outlinewidth\":0,\"ticks\":\"\"}},\"type\":\"scatter\"}],\"scatter3d\":[{\"line\":{\"colorbar\":{\"outlinewidth\":0,\"ticks\":\"\"}},\"marker\":{\"colorbar\":{\"outlinewidth\":0,\"ticks\":\"\"}},\"type\":\"scatter3d\"}],\"scattercarpet\":[{\"marker\":{\"colorbar\":{\"outlinewidth\":0,\"ticks\":\"\"}},\"type\":\"scattercarpet\"}],\"scattergeo\":[{\"marker\":{\"colorbar\":{\"outlinewidth\":0,\"ticks\":\"\"}},\"type\":\"scattergeo\"}],\"scattergl\":[{\"marker\":{\"colorbar\":{\"outlinewidth\":0,\"ticks\":\"\"}},\"type\":\"scattergl\"}],\"scattermapbox\":[{\"marker\":{\"colorbar\":{\"outlinewidth\":0,\"ticks\":\"\"}},\"type\":\"scattermapbox\"}],\"scatterpolar\":[{\"marker\":{\"colorbar\":{\"outlinewidth\":0,\"ticks\":\"\"}},\"type\":\"scatterpolar\"}],\"scatterpolargl\":[{\"marker\":{\"colorbar\":{\"outlinewidth\":0,\"ticks\":\"\"}},\"type\":\"scatterpolargl\"}],\"scatterternary\":[{\"marker\":{\"colorbar\":{\"outlinewidth\":0,\"ticks\":\"\"}},\"type\":\"scatterternary\"}],\"surface\":[{\"colorbar\":{\"outlinewidth\":0,\"ticks\":\"\"},\"colorscale\":[[0.0,\"#0d0887\"],[0.1111111111111111,\"#46039f\"],[0.2222222222222222,\"#7201a8\"],[0.3333333333333333,\"#9c179e\"],[0.4444444444444444,\"#bd3786\"],[0.5555555555555556,\"#d8576b\"],[0.6666666666666666,\"#ed7953\"],[0.7777777777777778,\"#fb9f3a\"],[0.8888888888888888,\"#fdca26\"],[1.0,\"#f0f921\"]],\"type\":\"surface\"}],\"table\":[{\"cells\":{\"fill\":{\"color\":\"#EBF0F8\"},\"line\":{\"color\":\"white\"}},\"header\":{\"fill\":{\"color\":\"#C8D4E3\"},\"line\":{\"color\":\"white\"}},\"type\":\"table\"}]},\"layout\":{\"annotationdefaults\":{\"arrowcolor\":\"#2a3f5f\",\"arrowhead\":0,\"arrowwidth\":1},\"autotypenumbers\":\"strict\",\"coloraxis\":{\"colorbar\":{\"outlinewidth\":0,\"ticks\":\"\"}},\"colorscale\":{\"diverging\":[[0,\"#8e0152\"],[0.1,\"#c51b7d\"],[0.2,\"#de77ae\"],[0.3,\"#f1b6da\"],[0.4,\"#fde0ef\"],[0.5,\"#f7f7f7\"],[0.6,\"#e6f5d0\"],[0.7,\"#b8e186\"],[0.8,\"#7fbc41\"],[0.9,\"#4d9221\"],[1,\"#276419\"]],\"sequential\":[[0.0,\"#0d0887\"],[0.1111111111111111,\"#46039f\"],[0.2222222222222222,\"#7201a8\"],[0.3333333333333333,\"#9c179e\"],[0.4444444444444444,\"#bd3786\"],[0.5555555555555556,\"#d8576b\"],[0.6666666666666666,\"#ed7953\"],[0.7777777777777778,\"#fb9f3a\"],[0.8888888888888888,\"#fdca26\"],[1.0,\"#f0f921\"]],\"sequentialminus\":[[0.0,\"#0d0887\"],[0.1111111111111111,\"#46039f\"],[0.2222222222222222,\"#7201a8\"],[0.3333333333333333,\"#9c179e\"],[0.4444444444444444,\"#bd3786\"],[0.5555555555555556,\"#d8576b\"],[0.6666666666666666,\"#ed7953\"],[0.7777777777777778,\"#fb9f3a\"],[0.8888888888888888,\"#fdca26\"],[1.0,\"#f0f921\"]]},\"colorway\":[\"#636efa\",\"#EF553B\",\"#00cc96\",\"#ab63fa\",\"#FFA15A\",\"#19d3f3\",\"#FF6692\",\"#B6E880\",\"#FF97FF\",\"#FECB52\"],\"font\":{\"color\":\"#2a3f5f\"},\"geo\":{\"bgcolor\":\"white\",\"lakecolor\":\"white\",\"landcolor\":\"#E5ECF6\",\"showlakes\":true,\"showland\":true,\"subunitcolor\":\"white\"},\"hoverlabel\":{\"align\":\"left\"},\"hovermode\":\"closest\",\"mapbox\":{\"style\":\"light\"},\"paper_bgcolor\":\"white\",\"plot_bgcolor\":\"#E5ECF6\",\"polar\":{\"angularaxis\":{\"gridcolor\":\"white\",\"linecolor\":\"white\",\"ticks\":\"\"},\"bgcolor\":\"#E5ECF6\",\"radialaxis\":{\"gridcolor\":\"white\",\"linecolor\":\"white\",\"ticks\":\"\"}},\"scene\":{\"xaxis\":{\"backgroundcolor\":\"#E5ECF6\",\"gridcolor\":\"white\",\"gridwidth\":2,\"linecolor\":\"white\",\"showbackground\":true,\"ticks\":\"\",\"zerolinecolor\":\"white\"},\"yaxis\":{\"backgroundcolor\":\"#E5ECF6\",\"gridcolor\":\"white\",\"gridwidth\":2,\"linecolor\":\"white\",\"showbackground\":true,\"ticks\":\"\",\"zerolinecolor\":\"white\"},\"zaxis\":{\"backgroundcolor\":\"#E5ECF6\",\"gridcolor\":\"white\",\"gridwidth\":2,\"linecolor\":\"white\",\"showbackground\":true,\"ticks\":\"\",\"zerolinecolor\":\"white\"}},\"shapedefaults\":{\"line\":{\"color\":\"#2a3f5f\"}},\"ternary\":{\"aaxis\":{\"gridcolor\":\"white\",\"linecolor\":\"white\",\"ticks\":\"\"},\"baxis\":{\"gridcolor\":\"white\",\"linecolor\":\"white\",\"ticks\":\"\"},\"bgcolor\":\"#E5ECF6\",\"caxis\":{\"gridcolor\":\"white\",\"linecolor\":\"white\",\"ticks\":\"\"}},\"title\":{\"x\":0.05},\"xaxis\":{\"automargin\":true,\"gridcolor\":\"white\",\"linecolor\":\"white\",\"ticks\":\"\",\"title\":{\"standoff\":15},\"zerolinecolor\":\"white\",\"zerolinewidth\":2},\"yaxis\":{\"automargin\":true,\"gridcolor\":\"white\",\"linecolor\":\"white\",\"ticks\":\"\",\"title\":{\"standoff\":15},\"zerolinecolor\":\"white\",\"zerolinewidth\":2}}},\"title\":{\"text\":\"Countries with Borzen Medals\"}},                        {\"responsive\": true}                    ).then(function(){\n",
       "                            \n",
       "var gd = document.getElementById('e9b2d2ae-bbac-43e1-8afc-248d00d9e713');\n",
       "var x = new MutationObserver(function (mutations, observer) {{\n",
       "        var display = window.getComputedStyle(gd).display;\n",
       "        if (!display || display === 'none') {{\n",
       "            console.log([gd, 'removed!']);\n",
       "            Plotly.purge(gd);\n",
       "            observer.disconnect();\n",
       "        }}\n",
       "}});\n",
       "\n",
       "// Listen for the removal of the full notebook cells\n",
       "var notebookContainer = gd.closest('#notebook-container');\n",
       "if (notebookContainer) {{\n",
       "    x.observe(notebookContainer, {childList: true});\n",
       "}}\n",
       "\n",
       "// Listen for the clearing of the current output cell\n",
       "var outputEl = gd.closest('.output');\n",
       "if (outputEl) {{\n",
       "    x.observe(outputEl, {childList: true});\n",
       "}}\n",
       "\n",
       "                        })                };                });            </script>        </div>"
      ]
     },
     "metadata": {},
     "output_type": "display_data"
    }
   ],
   "source": [
    "draw_map(dfB, \"Countries with Borzen Medals\",'Reds')"
   ]
  },
  {
   "cell_type": "markdown",
   "id": "9e077bd2",
   "metadata": {},
   "source": [
    "The data is not presented here as I wanted, the goal was for the color to be according to the amount of medals.\n",
    "That is, so that a country that has won the most medals compared to other countries in 3 categories then that way its color will be darker.\n",
    "I do not know if the problem is reading because of code errors or because of incorrect data selection.\n",
    "it will be handled for the final project."
   ]
  },
  {
   "cell_type": "code",
   "execution_count": 20,
   "id": "e035e18d",
   "metadata": {},
   "outputs": [
    {
     "data": {
      "application/vnd.plotly.v1+json": {
       "config": {
        "linkText": "Export to plot.ly",
        "plotlyServerURL": "https://plot.ly",
        "showLink": false
       },
       "data": [
        {
         "marker": {
          "color": "gold",
          "line": {
           "color": "black",
           "width": 1
          },
          "opacity": 0.5
         },
         "name": "Gold",
         "text": [
          "Athina",
          "Paris",
          "St. Louis",
          "Athina",
          "London",
          "Stockholm",
          "Antwerpen",
          "Chamonix",
          "Paris",
          "Amsterdam",
          "Sankt Moritz",
          "Lake Placid",
          "Los Angeles",
          "Berlin",
          "Garmisch-Partenkirchen",
          "London",
          "Sankt Moritz",
          "Helsinki",
          "Oslo",
          "Cortina d'Ampezzo",
          "Melbourne",
          "Stockholm",
          "Roma",
          "Squaw Valley",
          "Innsbruck",
          "Tokyo",
          "Grenoble",
          "Mexico City",
          "Munich",
          "Sapporo",
          "Innsbruck",
          "Montreal",
          "Lake Placid",
          "Moskva",
          "Los Angeles",
          "Sarajevo",
          "Calgary",
          "Seoul",
          "Albertville",
          "Barcelona",
          "Lillehammer",
          "Atlanta",
          "Nagano",
          "Sydney",
          "Salt Lake City",
          "Athina",
          "Torino",
          "Beijing",
          "Vancouver",
          "London",
          "Sochi",
          "Rio de Janeiro"
         ],
         "type": "bar",
         "x": [
          1896,
          1900,
          1904,
          1906,
          1908,
          1912,
          1920,
          1924,
          1924,
          1928,
          1928,
          1932,
          1932,
          1936,
          1936,
          1948,
          1948,
          1952,
          1952,
          1956,
          1956,
          1956,
          1960,
          1960,
          1964,
          1964,
          1968,
          1968,
          1972,
          1972,
          1976,
          1976,
          1980,
          1980,
          1984,
          1984,
          1988,
          1988,
          1992,
          1992,
          1994,
          1996,
          1998,
          2000,
          2002,
          2004,
          2006,
          2008,
          2010,
          2012,
          2014,
          2016
         ],
         "y": [
          62,
          201,
          173,
          157,
          294,
          326,
          493,
          55,
          277,
          245,
          30,
          32,
          229,
          312,
          36,
          289,
          41,
          306,
          45,
          51,
          290,
          12,
          309,
          50,
          61,
          347,
          66,
          359,
          404,
          70,
          70,
          438,
          72,
          457,
          497,
          74,
          87,
          520,
          104,
          559,
          110,
          608,
          145,
          663,
          162,
          664,
          176,
          671,
          174,
          632,
          202,
          665
         ]
        },
        {
         "marker": {
          "color": "Grey",
          "line": {
           "color": "black",
           "width": 1
          },
          "opacity": 0.5
         },
         "name": "Silver",
         "text": [
          "Athina",
          "Paris",
          "St. Louis",
          "Athina",
          "London",
          "Stockholm",
          "Antwerpen",
          "Chamonix",
          "Paris",
          "Amsterdam",
          "Sankt Moritz",
          "Lake Placid",
          "Los Angeles",
          "Berlin",
          "Garmisch-Partenkirchen",
          "London",
          "Sankt Moritz",
          "Helsinki",
          "Oslo",
          "Cortina d'Ampezzo",
          "Melbourne",
          "Stockholm",
          "Roma",
          "Squaw Valley",
          "Innsbruck",
          "Tokyo",
          "Grenoble",
          "Mexico City",
          "Munich",
          "Sapporo",
          "Innsbruck",
          "Montreal",
          "Lake Placid",
          "Moskva",
          "Los Angeles",
          "Sarajevo",
          "Calgary",
          "Seoul",
          "Albertville",
          "Barcelona",
          "Lillehammer",
          "Atlanta",
          "Nagano",
          "Sydney",
          "Salt Lake City",
          "Athina",
          "Torino",
          "Beijing",
          "Vancouver",
          "London",
          "Sochi",
          "Rio de Janeiro"
         ],
         "type": "bar",
         "x": [
          1896,
          1900,
          1904,
          1906,
          1908,
          1912,
          1920,
          1924,
          1924,
          1928,
          1928,
          1932,
          1932,
          1936,
          1936,
          1948,
          1948,
          1952,
          1952,
          1956,
          1956,
          1956,
          1960,
          1960,
          1964,
          1964,
          1968,
          1968,
          1972,
          1972,
          1976,
          1976,
          1980,
          1980,
          1984,
          1984,
          1988,
          1988,
          1992,
          1992,
          1994,
          1996,
          1998,
          2000,
          2002,
          2004,
          2006,
          2008,
          2010,
          2012,
          2014,
          2016
         ],
         "y": [
          43,
          228,
          163,
          156,
          281,
          315,
          448,
          38,
          281,
          239,
          28,
          32,
          214,
          310,
          37,
          284,
          48,
          291,
          44,
          49,
          281,
          12,
          294,
          48,
          67,
          339,
          70,
          340,
          392,
          63,
          71,
          434,
          73,
          458,
          477,
          74,
          88,
          513,
          108,
          549,
          109,
          605,
          145,
          661,
          157,
          660,
          175,
          667,
          175,
          630,
          197,
          655
         ]
        },
        {
         "marker": {
          "color": "Brown",
          "line": {
           "color": "black",
           "width": 1
          },
          "opacity": 0.5
         },
         "name": "Bronze",
         "text": [
          "Athina",
          "Paris",
          "St. Louis",
          "Athina",
          "London",
          "Stockholm",
          "Antwerpen",
          "Chamonix",
          "Paris",
          "Amsterdam",
          "Sankt Moritz",
          "Lake Placid",
          "Los Angeles",
          "Berlin",
          "Garmisch-Partenkirchen",
          "London",
          "Sankt Moritz",
          "Helsinki",
          "Oslo",
          "Cortina d'Ampezzo",
          "Melbourne",
          "Stockholm",
          "Roma",
          "Squaw Valley",
          "Innsbruck",
          "Tokyo",
          "Grenoble",
          "Mexico City",
          "Munich",
          "Sapporo",
          "Innsbruck",
          "Montreal",
          "Lake Placid",
          "Moskva",
          "Los Angeles",
          "Sarajevo",
          "Calgary",
          "Seoul",
          "Albertville",
          "Barcelona",
          "Lillehammer",
          "Atlanta",
          "Nagano",
          "Sydney",
          "Salt Lake City",
          "Athina",
          "Torino",
          "Beijing",
          "Vancouver",
          "London",
          "Sochi",
          "Rio de Janeiro"
         ],
         "type": "bar",
         "x": [
          1896,
          1900,
          1904,
          1906,
          1908,
          1912,
          1920,
          1924,
          1924,
          1928,
          1928,
          1932,
          1932,
          1936,
          1936,
          1948,
          1948,
          1952,
          1952,
          1956,
          1956,
          1956,
          1960,
          1960,
          1964,
          1964,
          1968,
          1968,
          1972,
          1972,
          1976,
          1976,
          1980,
          1980,
          1984,
          1984,
          1988,
          1988,
          1992,
          1992,
          1994,
          1996,
          1998,
          2000,
          2002,
          2004,
          2006,
          2008,
          2010,
          2012,
          2014,
          2016
         ],
         "y": [
          38,
          175,
          150,
          145,
          256,
          300,
          367,
          37,
          274,
          250,
          31,
          28,
          204,
          295,
          35,
          279,
          46,
          300,
          47,
          50,
          286,
          12,
          308,
          49,
          58,
          343,
          63,
          358,
          419,
          66,
          70,
          448,
          73,
          469,
          502,
          74,
          88,
          549,
          106,
          604,
          112,
          629,
          150,
          680,
          159,
          677,
          175,
          710,
          171,
          679,
          198,
          703
         ]
        }
       ],
       "layout": {
        "barmode": "stack",
        "hovermode": "closest",
        "template": {
         "data": {
          "bar": [
           {
            "error_x": {
             "color": "#2a3f5f"
            },
            "error_y": {
             "color": "#2a3f5f"
            },
            "marker": {
             "line": {
              "color": "#E5ECF6",
              "width": 0.5
             },
             "pattern": {
              "fillmode": "overlay",
              "size": 10,
              "solidity": 0.2
             }
            },
            "type": "bar"
           }
          ],
          "barpolar": [
           {
            "marker": {
             "line": {
              "color": "#E5ECF6",
              "width": 0.5
             },
             "pattern": {
              "fillmode": "overlay",
              "size": 10,
              "solidity": 0.2
             }
            },
            "type": "barpolar"
           }
          ],
          "carpet": [
           {
            "aaxis": {
             "endlinecolor": "#2a3f5f",
             "gridcolor": "white",
             "linecolor": "white",
             "minorgridcolor": "white",
             "startlinecolor": "#2a3f5f"
            },
            "baxis": {
             "endlinecolor": "#2a3f5f",
             "gridcolor": "white",
             "linecolor": "white",
             "minorgridcolor": "white",
             "startlinecolor": "#2a3f5f"
            },
            "type": "carpet"
           }
          ],
          "choropleth": [
           {
            "colorbar": {
             "outlinewidth": 0,
             "ticks": ""
            },
            "type": "choropleth"
           }
          ],
          "contour": [
           {
            "colorbar": {
             "outlinewidth": 0,
             "ticks": ""
            },
            "colorscale": [
             [
              0,
              "#0d0887"
             ],
             [
              0.1111111111111111,
              "#46039f"
             ],
             [
              0.2222222222222222,
              "#7201a8"
             ],
             [
              0.3333333333333333,
              "#9c179e"
             ],
             [
              0.4444444444444444,
              "#bd3786"
             ],
             [
              0.5555555555555556,
              "#d8576b"
             ],
             [
              0.6666666666666666,
              "#ed7953"
             ],
             [
              0.7777777777777778,
              "#fb9f3a"
             ],
             [
              0.8888888888888888,
              "#fdca26"
             ],
             [
              1,
              "#f0f921"
             ]
            ],
            "type": "contour"
           }
          ],
          "contourcarpet": [
           {
            "colorbar": {
             "outlinewidth": 0,
             "ticks": ""
            },
            "type": "contourcarpet"
           }
          ],
          "heatmap": [
           {
            "colorbar": {
             "outlinewidth": 0,
             "ticks": ""
            },
            "colorscale": [
             [
              0,
              "#0d0887"
             ],
             [
              0.1111111111111111,
              "#46039f"
             ],
             [
              0.2222222222222222,
              "#7201a8"
             ],
             [
              0.3333333333333333,
              "#9c179e"
             ],
             [
              0.4444444444444444,
              "#bd3786"
             ],
             [
              0.5555555555555556,
              "#d8576b"
             ],
             [
              0.6666666666666666,
              "#ed7953"
             ],
             [
              0.7777777777777778,
              "#fb9f3a"
             ],
             [
              0.8888888888888888,
              "#fdca26"
             ],
             [
              1,
              "#f0f921"
             ]
            ],
            "type": "heatmap"
           }
          ],
          "heatmapgl": [
           {
            "colorbar": {
             "outlinewidth": 0,
             "ticks": ""
            },
            "colorscale": [
             [
              0,
              "#0d0887"
             ],
             [
              0.1111111111111111,
              "#46039f"
             ],
             [
              0.2222222222222222,
              "#7201a8"
             ],
             [
              0.3333333333333333,
              "#9c179e"
             ],
             [
              0.4444444444444444,
              "#bd3786"
             ],
             [
              0.5555555555555556,
              "#d8576b"
             ],
             [
              0.6666666666666666,
              "#ed7953"
             ],
             [
              0.7777777777777778,
              "#fb9f3a"
             ],
             [
              0.8888888888888888,
              "#fdca26"
             ],
             [
              1,
              "#f0f921"
             ]
            ],
            "type": "heatmapgl"
           }
          ],
          "histogram": [
           {
            "marker": {
             "pattern": {
              "fillmode": "overlay",
              "size": 10,
              "solidity": 0.2
             }
            },
            "type": "histogram"
           }
          ],
          "histogram2d": [
           {
            "colorbar": {
             "outlinewidth": 0,
             "ticks": ""
            },
            "colorscale": [
             [
              0,
              "#0d0887"
             ],
             [
              0.1111111111111111,
              "#46039f"
             ],
             [
              0.2222222222222222,
              "#7201a8"
             ],
             [
              0.3333333333333333,
              "#9c179e"
             ],
             [
              0.4444444444444444,
              "#bd3786"
             ],
             [
              0.5555555555555556,
              "#d8576b"
             ],
             [
              0.6666666666666666,
              "#ed7953"
             ],
             [
              0.7777777777777778,
              "#fb9f3a"
             ],
             [
              0.8888888888888888,
              "#fdca26"
             ],
             [
              1,
              "#f0f921"
             ]
            ],
            "type": "histogram2d"
           }
          ],
          "histogram2dcontour": [
           {
            "colorbar": {
             "outlinewidth": 0,
             "ticks": ""
            },
            "colorscale": [
             [
              0,
              "#0d0887"
             ],
             [
              0.1111111111111111,
              "#46039f"
             ],
             [
              0.2222222222222222,
              "#7201a8"
             ],
             [
              0.3333333333333333,
              "#9c179e"
             ],
             [
              0.4444444444444444,
              "#bd3786"
             ],
             [
              0.5555555555555556,
              "#d8576b"
             ],
             [
              0.6666666666666666,
              "#ed7953"
             ],
             [
              0.7777777777777778,
              "#fb9f3a"
             ],
             [
              0.8888888888888888,
              "#fdca26"
             ],
             [
              1,
              "#f0f921"
             ]
            ],
            "type": "histogram2dcontour"
           }
          ],
          "mesh3d": [
           {
            "colorbar": {
             "outlinewidth": 0,
             "ticks": ""
            },
            "type": "mesh3d"
           }
          ],
          "parcoords": [
           {
            "line": {
             "colorbar": {
              "outlinewidth": 0,
              "ticks": ""
             }
            },
            "type": "parcoords"
           }
          ],
          "pie": [
           {
            "automargin": true,
            "type": "pie"
           }
          ],
          "scatter": [
           {
            "marker": {
             "colorbar": {
              "outlinewidth": 0,
              "ticks": ""
             }
            },
            "type": "scatter"
           }
          ],
          "scatter3d": [
           {
            "line": {
             "colorbar": {
              "outlinewidth": 0,
              "ticks": ""
             }
            },
            "marker": {
             "colorbar": {
              "outlinewidth": 0,
              "ticks": ""
             }
            },
            "type": "scatter3d"
           }
          ],
          "scattercarpet": [
           {
            "marker": {
             "colorbar": {
              "outlinewidth": 0,
              "ticks": ""
             }
            },
            "type": "scattercarpet"
           }
          ],
          "scattergeo": [
           {
            "marker": {
             "colorbar": {
              "outlinewidth": 0,
              "ticks": ""
             }
            },
            "type": "scattergeo"
           }
          ],
          "scattergl": [
           {
            "marker": {
             "colorbar": {
              "outlinewidth": 0,
              "ticks": ""
             }
            },
            "type": "scattergl"
           }
          ],
          "scattermapbox": [
           {
            "marker": {
             "colorbar": {
              "outlinewidth": 0,
              "ticks": ""
             }
            },
            "type": "scattermapbox"
           }
          ],
          "scatterpolar": [
           {
            "marker": {
             "colorbar": {
              "outlinewidth": 0,
              "ticks": ""
             }
            },
            "type": "scatterpolar"
           }
          ],
          "scatterpolargl": [
           {
            "marker": {
             "colorbar": {
              "outlinewidth": 0,
              "ticks": ""
             }
            },
            "type": "scatterpolargl"
           }
          ],
          "scatterternary": [
           {
            "marker": {
             "colorbar": {
              "outlinewidth": 0,
              "ticks": ""
             }
            },
            "type": "scatterternary"
           }
          ],
          "surface": [
           {
            "colorbar": {
             "outlinewidth": 0,
             "ticks": ""
            },
            "colorscale": [
             [
              0,
              "#0d0887"
             ],
             [
              0.1111111111111111,
              "#46039f"
             ],
             [
              0.2222222222222222,
              "#7201a8"
             ],
             [
              0.3333333333333333,
              "#9c179e"
             ],
             [
              0.4444444444444444,
              "#bd3786"
             ],
             [
              0.5555555555555556,
              "#d8576b"
             ],
             [
              0.6666666666666666,
              "#ed7953"
             ],
             [
              0.7777777777777778,
              "#fb9f3a"
             ],
             [
              0.8888888888888888,
              "#fdca26"
             ],
             [
              1,
              "#f0f921"
             ]
            ],
            "type": "surface"
           }
          ],
          "table": [
           {
            "cells": {
             "fill": {
              "color": "#EBF0F8"
             },
             "line": {
              "color": "white"
             }
            },
            "header": {
             "fill": {
              "color": "#C8D4E3"
             },
             "line": {
              "color": "white"
             }
            },
            "type": "table"
           }
          ]
         },
         "layout": {
          "annotationdefaults": {
           "arrowcolor": "#2a3f5f",
           "arrowhead": 0,
           "arrowwidth": 1
          },
          "autotypenumbers": "strict",
          "coloraxis": {
           "colorbar": {
            "outlinewidth": 0,
            "ticks": ""
           }
          },
          "colorscale": {
           "diverging": [
            [
             0,
             "#8e0152"
            ],
            [
             0.1,
             "#c51b7d"
            ],
            [
             0.2,
             "#de77ae"
            ],
            [
             0.3,
             "#f1b6da"
            ],
            [
             0.4,
             "#fde0ef"
            ],
            [
             0.5,
             "#f7f7f7"
            ],
            [
             0.6,
             "#e6f5d0"
            ],
            [
             0.7,
             "#b8e186"
            ],
            [
             0.8,
             "#7fbc41"
            ],
            [
             0.9,
             "#4d9221"
            ],
            [
             1,
             "#276419"
            ]
           ],
           "sequential": [
            [
             0,
             "#0d0887"
            ],
            [
             0.1111111111111111,
             "#46039f"
            ],
            [
             0.2222222222222222,
             "#7201a8"
            ],
            [
             0.3333333333333333,
             "#9c179e"
            ],
            [
             0.4444444444444444,
             "#bd3786"
            ],
            [
             0.5555555555555556,
             "#d8576b"
            ],
            [
             0.6666666666666666,
             "#ed7953"
            ],
            [
             0.7777777777777778,
             "#fb9f3a"
            ],
            [
             0.8888888888888888,
             "#fdca26"
            ],
            [
             1,
             "#f0f921"
            ]
           ],
           "sequentialminus": [
            [
             0,
             "#0d0887"
            ],
            [
             0.1111111111111111,
             "#46039f"
            ],
            [
             0.2222222222222222,
             "#7201a8"
            ],
            [
             0.3333333333333333,
             "#9c179e"
            ],
            [
             0.4444444444444444,
             "#bd3786"
            ],
            [
             0.5555555555555556,
             "#d8576b"
            ],
            [
             0.6666666666666666,
             "#ed7953"
            ],
            [
             0.7777777777777778,
             "#fb9f3a"
            ],
            [
             0.8888888888888888,
             "#fdca26"
            ],
            [
             1,
             "#f0f921"
            ]
           ]
          },
          "colorway": [
           "#636efa",
           "#EF553B",
           "#00cc96",
           "#ab63fa",
           "#FFA15A",
           "#19d3f3",
           "#FF6692",
           "#B6E880",
           "#FF97FF",
           "#FECB52"
          ],
          "font": {
           "color": "#2a3f5f"
          },
          "geo": {
           "bgcolor": "white",
           "lakecolor": "white",
           "landcolor": "#E5ECF6",
           "showlakes": true,
           "showland": true,
           "subunitcolor": "white"
          },
          "hoverlabel": {
           "align": "left"
          },
          "hovermode": "closest",
          "mapbox": {
           "style": "light"
          },
          "paper_bgcolor": "white",
          "plot_bgcolor": "#E5ECF6",
          "polar": {
           "angularaxis": {
            "gridcolor": "white",
            "linecolor": "white",
            "ticks": ""
           },
           "bgcolor": "#E5ECF6",
           "radialaxis": {
            "gridcolor": "white",
            "linecolor": "white",
            "ticks": ""
           }
          },
          "scene": {
           "xaxis": {
            "backgroundcolor": "#E5ECF6",
            "gridcolor": "white",
            "gridwidth": 2,
            "linecolor": "white",
            "showbackground": true,
            "ticks": "",
            "zerolinecolor": "white"
           },
           "yaxis": {
            "backgroundcolor": "#E5ECF6",
            "gridcolor": "white",
            "gridwidth": 2,
            "linecolor": "white",
            "showbackground": true,
            "ticks": "",
            "zerolinecolor": "white"
           },
           "zaxis": {
            "backgroundcolor": "#E5ECF6",
            "gridcolor": "white",
            "gridwidth": 2,
            "linecolor": "white",
            "showbackground": true,
            "ticks": "",
            "zerolinecolor": "white"
           }
          },
          "shapedefaults": {
           "line": {
            "color": "#2a3f5f"
           }
          },
          "ternary": {
           "aaxis": {
            "gridcolor": "white",
            "linecolor": "white",
            "ticks": ""
           },
           "baxis": {
            "gridcolor": "white",
            "linecolor": "white",
            "ticks": ""
           },
           "bgcolor": "#E5ECF6",
           "caxis": {
            "gridcolor": "white",
            "linecolor": "white",
            "ticks": ""
           }
          },
          "title": {
           "x": 0.05
          },
          "xaxis": {
           "automargin": true,
           "gridcolor": "white",
           "linecolor": "white",
           "ticks": "",
           "title": {
            "standoff": 15
           },
           "zerolinecolor": "white",
           "zerolinewidth": 2
          },
          "yaxis": {
           "automargin": true,
           "gridcolor": "white",
           "linecolor": "white",
           "ticks": "",
           "title": {
            "standoff": 15
           },
           "zerolinecolor": "white",
           "zerolinewidth": 2
          }
         }
        },
        "title": {
         "text": "Medals per Olympic edition"
        },
        "xaxis": {
         "showticklabels": true,
         "title": {
          "text": "Year"
         }
        },
        "yaxis": {
         "title": {
          "text": "Number of medals"
         }
        }
       }
      },
      "text/html": [
       "<div>                            <div id=\"af115eee-2c81-4321-8791-8511708c0dfc\" class=\"plotly-graph-div\" style=\"height:525px; width:100%;\"></div>            <script type=\"text/javascript\">                require([\"plotly\"], function(Plotly) {                    window.PLOTLYENV=window.PLOTLYENV || {};                                    if (document.getElementById(\"af115eee-2c81-4321-8791-8511708c0dfc\")) {                    Plotly.newPlot(                        \"af115eee-2c81-4321-8791-8511708c0dfc\",                        [{\"marker\":{\"color\":\"gold\",\"line\":{\"color\":\"black\",\"width\":1},\"opacity\":0.5},\"name\":\"Gold\",\"text\":[\"Athina\",\"Paris\",\"St. Louis\",\"Athina\",\"London\",\"Stockholm\",\"Antwerpen\",\"Chamonix\",\"Paris\",\"Amsterdam\",\"Sankt Moritz\",\"Lake Placid\",\"Los Angeles\",\"Berlin\",\"Garmisch-Partenkirchen\",\"London\",\"Sankt Moritz\",\"Helsinki\",\"Oslo\",\"Cortina d'Ampezzo\",\"Melbourne\",\"Stockholm\",\"Roma\",\"Squaw Valley\",\"Innsbruck\",\"Tokyo\",\"Grenoble\",\"Mexico City\",\"Munich\",\"Sapporo\",\"Innsbruck\",\"Montreal\",\"Lake Placid\",\"Moskva\",\"Los Angeles\",\"Sarajevo\",\"Calgary\",\"Seoul\",\"Albertville\",\"Barcelona\",\"Lillehammer\",\"Atlanta\",\"Nagano\",\"Sydney\",\"Salt Lake City\",\"Athina\",\"Torino\",\"Beijing\",\"Vancouver\",\"London\",\"Sochi\",\"Rio de Janeiro\"],\"type\":\"bar\",\"x\":[1896,1900,1904,1906,1908,1912,1920,1924,1924,1928,1928,1932,1932,1936,1936,1948,1948,1952,1952,1956,1956,1956,1960,1960,1964,1964,1968,1968,1972,1972,1976,1976,1980,1980,1984,1984,1988,1988,1992,1992,1994,1996,1998,2000,2002,2004,2006,2008,2010,2012,2014,2016],\"y\":[62,201,173,157,294,326,493,55,277,245,30,32,229,312,36,289,41,306,45,51,290,12,309,50,61,347,66,359,404,70,70,438,72,457,497,74,87,520,104,559,110,608,145,663,162,664,176,671,174,632,202,665]},{\"marker\":{\"color\":\"Grey\",\"line\":{\"color\":\"black\",\"width\":1},\"opacity\":0.5},\"name\":\"Silver\",\"text\":[\"Athina\",\"Paris\",\"St. Louis\",\"Athina\",\"London\",\"Stockholm\",\"Antwerpen\",\"Chamonix\",\"Paris\",\"Amsterdam\",\"Sankt Moritz\",\"Lake Placid\",\"Los Angeles\",\"Berlin\",\"Garmisch-Partenkirchen\",\"London\",\"Sankt Moritz\",\"Helsinki\",\"Oslo\",\"Cortina d'Ampezzo\",\"Melbourne\",\"Stockholm\",\"Roma\",\"Squaw Valley\",\"Innsbruck\",\"Tokyo\",\"Grenoble\",\"Mexico City\",\"Munich\",\"Sapporo\",\"Innsbruck\",\"Montreal\",\"Lake Placid\",\"Moskva\",\"Los Angeles\",\"Sarajevo\",\"Calgary\",\"Seoul\",\"Albertville\",\"Barcelona\",\"Lillehammer\",\"Atlanta\",\"Nagano\",\"Sydney\",\"Salt Lake City\",\"Athina\",\"Torino\",\"Beijing\",\"Vancouver\",\"London\",\"Sochi\",\"Rio de Janeiro\"],\"type\":\"bar\",\"x\":[1896,1900,1904,1906,1908,1912,1920,1924,1924,1928,1928,1932,1932,1936,1936,1948,1948,1952,1952,1956,1956,1956,1960,1960,1964,1964,1968,1968,1972,1972,1976,1976,1980,1980,1984,1984,1988,1988,1992,1992,1994,1996,1998,2000,2002,2004,2006,2008,2010,2012,2014,2016],\"y\":[43,228,163,156,281,315,448,38,281,239,28,32,214,310,37,284,48,291,44,49,281,12,294,48,67,339,70,340,392,63,71,434,73,458,477,74,88,513,108,549,109,605,145,661,157,660,175,667,175,630,197,655]},{\"marker\":{\"color\":\"Brown\",\"line\":{\"color\":\"black\",\"width\":1},\"opacity\":0.5},\"name\":\"Bronze\",\"text\":[\"Athina\",\"Paris\",\"St. Louis\",\"Athina\",\"London\",\"Stockholm\",\"Antwerpen\",\"Chamonix\",\"Paris\",\"Amsterdam\",\"Sankt Moritz\",\"Lake Placid\",\"Los Angeles\",\"Berlin\",\"Garmisch-Partenkirchen\",\"London\",\"Sankt Moritz\",\"Helsinki\",\"Oslo\",\"Cortina d'Ampezzo\",\"Melbourne\",\"Stockholm\",\"Roma\",\"Squaw Valley\",\"Innsbruck\",\"Tokyo\",\"Grenoble\",\"Mexico City\",\"Munich\",\"Sapporo\",\"Innsbruck\",\"Montreal\",\"Lake Placid\",\"Moskva\",\"Los Angeles\",\"Sarajevo\",\"Calgary\",\"Seoul\",\"Albertville\",\"Barcelona\",\"Lillehammer\",\"Atlanta\",\"Nagano\",\"Sydney\",\"Salt Lake City\",\"Athina\",\"Torino\",\"Beijing\",\"Vancouver\",\"London\",\"Sochi\",\"Rio de Janeiro\"],\"type\":\"bar\",\"x\":[1896,1900,1904,1906,1908,1912,1920,1924,1924,1928,1928,1932,1932,1936,1936,1948,1948,1952,1952,1956,1956,1956,1960,1960,1964,1964,1968,1968,1972,1972,1976,1976,1980,1980,1984,1984,1988,1988,1992,1992,1994,1996,1998,2000,2002,2004,2006,2008,2010,2012,2014,2016],\"y\":[38,175,150,145,256,300,367,37,274,250,31,28,204,295,35,279,46,300,47,50,286,12,308,49,58,343,63,358,419,66,70,448,73,469,502,74,88,549,106,604,112,629,150,680,159,677,175,710,171,679,198,703]}],                        {\"barmode\":\"stack\",\"hovermode\":\"closest\",\"template\":{\"data\":{\"bar\":[{\"error_x\":{\"color\":\"#2a3f5f\"},\"error_y\":{\"color\":\"#2a3f5f\"},\"marker\":{\"line\":{\"color\":\"#E5ECF6\",\"width\":0.5},\"pattern\":{\"fillmode\":\"overlay\",\"size\":10,\"solidity\":0.2}},\"type\":\"bar\"}],\"barpolar\":[{\"marker\":{\"line\":{\"color\":\"#E5ECF6\",\"width\":0.5},\"pattern\":{\"fillmode\":\"overlay\",\"size\":10,\"solidity\":0.2}},\"type\":\"barpolar\"}],\"carpet\":[{\"aaxis\":{\"endlinecolor\":\"#2a3f5f\",\"gridcolor\":\"white\",\"linecolor\":\"white\",\"minorgridcolor\":\"white\",\"startlinecolor\":\"#2a3f5f\"},\"baxis\":{\"endlinecolor\":\"#2a3f5f\",\"gridcolor\":\"white\",\"linecolor\":\"white\",\"minorgridcolor\":\"white\",\"startlinecolor\":\"#2a3f5f\"},\"type\":\"carpet\"}],\"choropleth\":[{\"colorbar\":{\"outlinewidth\":0,\"ticks\":\"\"},\"type\":\"choropleth\"}],\"contour\":[{\"colorbar\":{\"outlinewidth\":0,\"ticks\":\"\"},\"colorscale\":[[0.0,\"#0d0887\"],[0.1111111111111111,\"#46039f\"],[0.2222222222222222,\"#7201a8\"],[0.3333333333333333,\"#9c179e\"],[0.4444444444444444,\"#bd3786\"],[0.5555555555555556,\"#d8576b\"],[0.6666666666666666,\"#ed7953\"],[0.7777777777777778,\"#fb9f3a\"],[0.8888888888888888,\"#fdca26\"],[1.0,\"#f0f921\"]],\"type\":\"contour\"}],\"contourcarpet\":[{\"colorbar\":{\"outlinewidth\":0,\"ticks\":\"\"},\"type\":\"contourcarpet\"}],\"heatmap\":[{\"colorbar\":{\"outlinewidth\":0,\"ticks\":\"\"},\"colorscale\":[[0.0,\"#0d0887\"],[0.1111111111111111,\"#46039f\"],[0.2222222222222222,\"#7201a8\"],[0.3333333333333333,\"#9c179e\"],[0.4444444444444444,\"#bd3786\"],[0.5555555555555556,\"#d8576b\"],[0.6666666666666666,\"#ed7953\"],[0.7777777777777778,\"#fb9f3a\"],[0.8888888888888888,\"#fdca26\"],[1.0,\"#f0f921\"]],\"type\":\"heatmap\"}],\"heatmapgl\":[{\"colorbar\":{\"outlinewidth\":0,\"ticks\":\"\"},\"colorscale\":[[0.0,\"#0d0887\"],[0.1111111111111111,\"#46039f\"],[0.2222222222222222,\"#7201a8\"],[0.3333333333333333,\"#9c179e\"],[0.4444444444444444,\"#bd3786\"],[0.5555555555555556,\"#d8576b\"],[0.6666666666666666,\"#ed7953\"],[0.7777777777777778,\"#fb9f3a\"],[0.8888888888888888,\"#fdca26\"],[1.0,\"#f0f921\"]],\"type\":\"heatmapgl\"}],\"histogram\":[{\"marker\":{\"pattern\":{\"fillmode\":\"overlay\",\"size\":10,\"solidity\":0.2}},\"type\":\"histogram\"}],\"histogram2d\":[{\"colorbar\":{\"outlinewidth\":0,\"ticks\":\"\"},\"colorscale\":[[0.0,\"#0d0887\"],[0.1111111111111111,\"#46039f\"],[0.2222222222222222,\"#7201a8\"],[0.3333333333333333,\"#9c179e\"],[0.4444444444444444,\"#bd3786\"],[0.5555555555555556,\"#d8576b\"],[0.6666666666666666,\"#ed7953\"],[0.7777777777777778,\"#fb9f3a\"],[0.8888888888888888,\"#fdca26\"],[1.0,\"#f0f921\"]],\"type\":\"histogram2d\"}],\"histogram2dcontour\":[{\"colorbar\":{\"outlinewidth\":0,\"ticks\":\"\"},\"colorscale\":[[0.0,\"#0d0887\"],[0.1111111111111111,\"#46039f\"],[0.2222222222222222,\"#7201a8\"],[0.3333333333333333,\"#9c179e\"],[0.4444444444444444,\"#bd3786\"],[0.5555555555555556,\"#d8576b\"],[0.6666666666666666,\"#ed7953\"],[0.7777777777777778,\"#fb9f3a\"],[0.8888888888888888,\"#fdca26\"],[1.0,\"#f0f921\"]],\"type\":\"histogram2dcontour\"}],\"mesh3d\":[{\"colorbar\":{\"outlinewidth\":0,\"ticks\":\"\"},\"type\":\"mesh3d\"}],\"parcoords\":[{\"line\":{\"colorbar\":{\"outlinewidth\":0,\"ticks\":\"\"}},\"type\":\"parcoords\"}],\"pie\":[{\"automargin\":true,\"type\":\"pie\"}],\"scatter\":[{\"marker\":{\"colorbar\":{\"outlinewidth\":0,\"ticks\":\"\"}},\"type\":\"scatter\"}],\"scatter3d\":[{\"line\":{\"colorbar\":{\"outlinewidth\":0,\"ticks\":\"\"}},\"marker\":{\"colorbar\":{\"outlinewidth\":0,\"ticks\":\"\"}},\"type\":\"scatter3d\"}],\"scattercarpet\":[{\"marker\":{\"colorbar\":{\"outlinewidth\":0,\"ticks\":\"\"}},\"type\":\"scattercarpet\"}],\"scattergeo\":[{\"marker\":{\"colorbar\":{\"outlinewidth\":0,\"ticks\":\"\"}},\"type\":\"scattergeo\"}],\"scattergl\":[{\"marker\":{\"colorbar\":{\"outlinewidth\":0,\"ticks\":\"\"}},\"type\":\"scattergl\"}],\"scattermapbox\":[{\"marker\":{\"colorbar\":{\"outlinewidth\":0,\"ticks\":\"\"}},\"type\":\"scattermapbox\"}],\"scatterpolar\":[{\"marker\":{\"colorbar\":{\"outlinewidth\":0,\"ticks\":\"\"}},\"type\":\"scatterpolar\"}],\"scatterpolargl\":[{\"marker\":{\"colorbar\":{\"outlinewidth\":0,\"ticks\":\"\"}},\"type\":\"scatterpolargl\"}],\"scatterternary\":[{\"marker\":{\"colorbar\":{\"outlinewidth\":0,\"ticks\":\"\"}},\"type\":\"scatterternary\"}],\"surface\":[{\"colorbar\":{\"outlinewidth\":0,\"ticks\":\"\"},\"colorscale\":[[0.0,\"#0d0887\"],[0.1111111111111111,\"#46039f\"],[0.2222222222222222,\"#7201a8\"],[0.3333333333333333,\"#9c179e\"],[0.4444444444444444,\"#bd3786\"],[0.5555555555555556,\"#d8576b\"],[0.6666666666666666,\"#ed7953\"],[0.7777777777777778,\"#fb9f3a\"],[0.8888888888888888,\"#fdca26\"],[1.0,\"#f0f921\"]],\"type\":\"surface\"}],\"table\":[{\"cells\":{\"fill\":{\"color\":\"#EBF0F8\"},\"line\":{\"color\":\"white\"}},\"header\":{\"fill\":{\"color\":\"#C8D4E3\"},\"line\":{\"color\":\"white\"}},\"type\":\"table\"}]},\"layout\":{\"annotationdefaults\":{\"arrowcolor\":\"#2a3f5f\",\"arrowhead\":0,\"arrowwidth\":1},\"autotypenumbers\":\"strict\",\"coloraxis\":{\"colorbar\":{\"outlinewidth\":0,\"ticks\":\"\"}},\"colorscale\":{\"diverging\":[[0,\"#8e0152\"],[0.1,\"#c51b7d\"],[0.2,\"#de77ae\"],[0.3,\"#f1b6da\"],[0.4,\"#fde0ef\"],[0.5,\"#f7f7f7\"],[0.6,\"#e6f5d0\"],[0.7,\"#b8e186\"],[0.8,\"#7fbc41\"],[0.9,\"#4d9221\"],[1,\"#276419\"]],\"sequential\":[[0.0,\"#0d0887\"],[0.1111111111111111,\"#46039f\"],[0.2222222222222222,\"#7201a8\"],[0.3333333333333333,\"#9c179e\"],[0.4444444444444444,\"#bd3786\"],[0.5555555555555556,\"#d8576b\"],[0.6666666666666666,\"#ed7953\"],[0.7777777777777778,\"#fb9f3a\"],[0.8888888888888888,\"#fdca26\"],[1.0,\"#f0f921\"]],\"sequentialminus\":[[0.0,\"#0d0887\"],[0.1111111111111111,\"#46039f\"],[0.2222222222222222,\"#7201a8\"],[0.3333333333333333,\"#9c179e\"],[0.4444444444444444,\"#bd3786\"],[0.5555555555555556,\"#d8576b\"],[0.6666666666666666,\"#ed7953\"],[0.7777777777777778,\"#fb9f3a\"],[0.8888888888888888,\"#fdca26\"],[1.0,\"#f0f921\"]]},\"colorway\":[\"#636efa\",\"#EF553B\",\"#00cc96\",\"#ab63fa\",\"#FFA15A\",\"#19d3f3\",\"#FF6692\",\"#B6E880\",\"#FF97FF\",\"#FECB52\"],\"font\":{\"color\":\"#2a3f5f\"},\"geo\":{\"bgcolor\":\"white\",\"lakecolor\":\"white\",\"landcolor\":\"#E5ECF6\",\"showlakes\":true,\"showland\":true,\"subunitcolor\":\"white\"},\"hoverlabel\":{\"align\":\"left\"},\"hovermode\":\"closest\",\"mapbox\":{\"style\":\"light\"},\"paper_bgcolor\":\"white\",\"plot_bgcolor\":\"#E5ECF6\",\"polar\":{\"angularaxis\":{\"gridcolor\":\"white\",\"linecolor\":\"white\",\"ticks\":\"\"},\"bgcolor\":\"#E5ECF6\",\"radialaxis\":{\"gridcolor\":\"white\",\"linecolor\":\"white\",\"ticks\":\"\"}},\"scene\":{\"xaxis\":{\"backgroundcolor\":\"#E5ECF6\",\"gridcolor\":\"white\",\"gridwidth\":2,\"linecolor\":\"white\",\"showbackground\":true,\"ticks\":\"\",\"zerolinecolor\":\"white\"},\"yaxis\":{\"backgroundcolor\":\"#E5ECF6\",\"gridcolor\":\"white\",\"gridwidth\":2,\"linecolor\":\"white\",\"showbackground\":true,\"ticks\":\"\",\"zerolinecolor\":\"white\"},\"zaxis\":{\"backgroundcolor\":\"#E5ECF6\",\"gridcolor\":\"white\",\"gridwidth\":2,\"linecolor\":\"white\",\"showbackground\":true,\"ticks\":\"\",\"zerolinecolor\":\"white\"}},\"shapedefaults\":{\"line\":{\"color\":\"#2a3f5f\"}},\"ternary\":{\"aaxis\":{\"gridcolor\":\"white\",\"linecolor\":\"white\",\"ticks\":\"\"},\"baxis\":{\"gridcolor\":\"white\",\"linecolor\":\"white\",\"ticks\":\"\"},\"bgcolor\":\"#E5ECF6\",\"caxis\":{\"gridcolor\":\"white\",\"linecolor\":\"white\",\"ticks\":\"\"}},\"title\":{\"x\":0.05},\"xaxis\":{\"automargin\":true,\"gridcolor\":\"white\",\"linecolor\":\"white\",\"ticks\":\"\",\"title\":{\"standoff\":15},\"zerolinecolor\":\"white\",\"zerolinewidth\":2},\"yaxis\":{\"automargin\":true,\"gridcolor\":\"white\",\"linecolor\":\"white\",\"ticks\":\"\",\"title\":{\"standoff\":15},\"zerolinecolor\":\"white\",\"zerolinewidth\":2}}},\"title\":{\"text\":\"Medals per Olympic edition\"},\"xaxis\":{\"showticklabels\":true,\"title\":{\"text\":\"Year\"}},\"yaxis\":{\"title\":{\"text\":\"Number of medals\"}}},                        {\"responsive\": true}                    ).then(function(){\n",
       "                            \n",
       "var gd = document.getElementById('af115eee-2c81-4321-8791-8511708c0dfc');\n",
       "var x = new MutationObserver(function (mutations, observer) {{\n",
       "        var display = window.getComputedStyle(gd).display;\n",
       "        if (!display || display === 'none') {{\n",
       "            console.log([gd, 'removed!']);\n",
       "            Plotly.purge(gd);\n",
       "            observer.disconnect();\n",
       "        }}\n",
       "}});\n",
       "\n",
       "// Listen for the removal of the full notebook cells\n",
       "var notebookContainer = gd.closest('#notebook-container');\n",
       "if (notebookContainer) {{\n",
       "    x.observe(notebookContainer, {childList: true});\n",
       "}}\n",
       "\n",
       "// Listen for the clearing of the current output cell\n",
       "var outputEl = gd.closest('.output');\n",
       "if (outputEl) {{\n",
       "    x.observe(outputEl, {childList: true});\n",
       "}}\n",
       "\n",
       "                        })                };                });            </script>        </div>"
      ]
     },
     "metadata": {},
     "output_type": "display_data"
    }
   ],
   "source": [
    "tmp = Countries_medals.groupby(['Year', 'City', 'Medal'])['ID'].agg('count').dropna()\n",
    "df = pd.DataFrame(tmp).reset_index()\n",
    "dfG = df[df['Medal']=='Gold']\n",
    "dfS = df[df['Medal']=='Silver']\n",
    "dfB = df[df['Medal']=='Bronze']\n",
    "\n",
    "traceG = go.Bar(\n",
    "    x = dfG['Year'],y = dfG['ID'],\n",
    "    name=\"Gold\",\n",
    "     marker=dict(\n",
    "                color='gold',\n",
    "                line=dict(\n",
    "                    color='black',\n",
    "                    width=1),\n",
    "                opacity=0.5,\n",
    "            ),\n",
    "    text = dfG['City'],\n",
    ")\n",
    "traceS = go.Bar(\n",
    "    x = dfS['Year'],y = dfS['ID'],\n",
    "    name=\"Silver\",\n",
    "    marker=dict(\n",
    "                color='Grey',\n",
    "                line=dict(\n",
    "                    color='black',\n",
    "                    width=1),\n",
    "                opacity=0.5,\n",
    "            ),\n",
    "    text=dfS['City'],\n",
    ")\n",
    "\n",
    "traceB = go.Bar(\n",
    "    x = dfB['Year'],y = dfB['ID'],\n",
    "    name=\"Bronze\",\n",
    "    marker=dict(\n",
    "                color='Brown',\n",
    "                line=dict(\n",
    "                    color='black',\n",
    "                    width=1),\n",
    "                opacity=0.5,\n",
    "            ),\n",
    "    text=dfB['City'],\n",
    ")\n",
    "\n",
    "data = [traceG, traceS, traceB]\n",
    "layout = dict(title = 'Medals per Olympic edition',\n",
    "          xaxis = dict(title = 'Year', showticklabels=True), \n",
    "          yaxis = dict(title = 'Number of medals'),\n",
    "          hovermode = 'closest',\n",
    "          barmode='stack'\n",
    "         )\n",
    "fig = dict(data=data, layout=layout)\n",
    "iplot(fig, filename='events-sports1')\n"
   ]
  },
  {
   "cell_type": "code",
   "execution_count": 21,
   "id": "56e30b04",
   "metadata": {},
   "outputs": [
    {
     "name": "stderr",
     "output_type": "stream",
     "text": [
      "/opt/anaconda3/lib/python3.8/site-packages/seaborn/_decorators.py:36: FutureWarning:\n",
      "\n",
      "Pass the following variable as a keyword arg: x. From version 0.12, the only valid positional argument will be `data`, and passing other arguments without an explicit keyword will result in an error or misinterpretation.\n",
      "\n"
     ]
    },
    {
     "data": {
      "text/plain": [
       "Text(0.5, 1.0, 'Distribution of Gold Medals')"
      ]
     },
     "execution_count": 21,
     "metadata": {},
     "output_type": "execute_result"
    },
    {
     "data": {
      "image/png": "[encoded data removed]",
      "text/plain": [
       "<Figure size 1440x720 with 1 Axes>"
      ]
     },
     "metadata": {
      "needs_background": "light"
     },
     "output_type": "display_data"
    }
   ],
   "source": [
    "plt.figure(figsize=(20, 10))\n",
    "plt.tight_layout()\n",
    "sns.countplot(Countries_medals['Age'])\n",
    "plt.title('Distribution of Gold Medals')"
   ]
  },
  {
   "cell_type": "markdown",
   "id": "13428001",
   "metadata": {},
   "source": [
    "We now better understand why age 25 is the table average.\n",
    "It is easy to see that most gold medal winners are around this age."
   ]
  },
  {
   "cell_type": "code",
   "execution_count": 22,
   "id": "445d3f62",
   "metadata": {},
   "outputs": [
    {
     "name": "stderr",
     "output_type": "stream",
     "text": [
      "/opt/anaconda3/lib/python3.8/site-packages/seaborn/_decorators.py:36: FutureWarning:\n",
      "\n",
      "Pass the following variable as a keyword arg: x. From version 0.12, the only valid positional argument will be `data`, and passing other arguments without an explicit keyword will result in an error or misinterpretation.\n",
      "\n"
     ]
    },
    {
     "data": {
      "text/plain": [
       "Text(0.5, 1.0, 'Gold Medals for Athletes between 23 and 27')"
      ]
     },
     "execution_count": 22,
     "metadata": {},
     "output_type": "execute_result"
    },
    {
     "data": {
      "image/png": "[encoded data removed]",
      "text/plain": [
       "<Figure size 1440x720 with 1 Axes>"
      ]
     },
     "metadata": {
      "needs_background": "light"
     },
     "output_type": "display_data"
    }
   ],
   "source": [
    "GOLDMEDALS = Countries_medals['Sport'][Countries_medals['Age'] > 23][Countries_medals['Age'] < 27].head(10)\n",
    "plt.figure(figsize=(20, 10))\n",
    "plt.tight_layout()\n",
    "sns.countplot(GOLDMEDALS)\n",
    "plt.title('Gold Medals for Athletes between 23 and 27')"
   ]
  },
  {
   "cell_type": "code",
   "execution_count": 23,
   "id": "b90102c2",
   "metadata": {},
   "outputs": [
    {
     "data": {
      "application/vnd.plotly.v1+json": {
       "config": {
        "linkText": "Export to plot.ly",
        "plotlyServerURL": "https://plot.ly",
        "showLink": false
       },
       "data": [
        {
         "marker": {
          "color": "gold",
          "line": {
           "color": "black",
           "width": 1
          },
          "opacity": 0.5
         },
         "name": "Gold",
         "text": [
          "Aeronautics",
          "Alpine Skiing",
          "Alpinism",
          "Archery",
          "Art Competitions",
          "Athletics",
          "Badminton",
          "Baseball",
          "Basketball",
          "Basque Pelota",
          "Beach Volleyball",
          "Biathlon",
          "Bobsleigh",
          "Boxing",
          "Canoeing",
          "Cricket",
          "Croquet",
          "Cross Country Skiing",
          "Curling",
          "Cycling",
          "Diving",
          "Equestrianism",
          "Fencing",
          "Figure Skating",
          "Football",
          "Freestyle Skiing",
          "Golf",
          "Gymnastics",
          "Handball",
          "Hockey",
          "Ice Hockey",
          "Jeu De Paume",
          "Judo",
          "Lacrosse",
          "Luge",
          "Military Ski Patrol",
          "Modern Pentathlon",
          "Motorboating",
          "Nordic Combined",
          "Polo",
          "Racquets",
          "Rhythmic Gymnastics",
          "Roque",
          "Rowing",
          "Rugby",
          "Rugby Sevens",
          "Sailing",
          "Shooting",
          "Short Track Speed Skating",
          "Skeleton",
          "Ski Jumping",
          "Snowboarding",
          "Softball",
          "Speed Skating",
          "Swimming",
          "Synchronized Swimming",
          "Table Tennis",
          "Taekwondo",
          "Tennis",
          "Trampolining",
          "Triathlon",
          "Tug-Of-War",
          "Volleyball",
          "Water Polo",
          "Weightlifting",
          "Wrestling"
         ],
         "type": "bar",
         "x": [
          "Aeronautics",
          "Alpine Skiing",
          "Alpinism",
          "Archery",
          "Art Competitions",
          "Athletics",
          "Badminton",
          "Baseball",
          "Basketball",
          "Basque Pelota",
          "Beach Volleyball",
          "Biathlon",
          "Bobsleigh",
          "Boxing",
          "Canoeing",
          "Cricket",
          "Croquet",
          "Cross Country Skiing",
          "Curling",
          "Cycling",
          "Diving",
          "Equestrianism",
          "Fencing",
          "Figure Skating",
          "Football",
          "Freestyle Skiing",
          "Golf",
          "Gymnastics",
          "Handball",
          "Hockey",
          "Ice Hockey",
          "Jeu De Paume",
          "Judo",
          "Lacrosse",
          "Luge",
          "Military Ski Patrol",
          "Modern Pentathlon",
          "Motorboating",
          "Nordic Combined",
          "Polo",
          "Racquets",
          "Rhythmic Gymnastics",
          "Roque",
          "Rowing",
          "Rugby",
          "Rugby Sevens",
          "Sailing",
          "Shooting",
          "Short Track Speed Skating",
          "Skeleton",
          "Ski Jumping",
          "Snowboarding",
          "Softball",
          "Speed Skating",
          "Swimming",
          "Synchronized Swimming",
          "Table Tennis",
          "Taekwondo",
          "Tennis",
          "Trampolining",
          "Triathlon",
          "Tug-Of-War",
          "Volleyball",
          "Water Polo",
          "Weightlifting",
          "Wrestling"
         ],
         "y": [
          1,
          143,
          25,
          135,
          49,
          1339,
          54,
          112,
          365,
          2,
          24,
          136,
          133,
          252,
          388,
          12,
          4,
          256,
          50,
          424,
          142,
          324,
          594,
          131,
          515,
          34,
          15,
          791,
          349,
          518,
          508,
          1,
          137,
          24,
          62,
          4,
          62,
          7,
          55,
          22,
          3,
          44,
          1,
          978,
          67,
          25,
          450,
          410,
          95,
          10,
          69,
          30,
          60,
          193,
          1099,
          74,
          54,
          40,
          106,
          10,
          10,
          43,
          322,
          350,
          217,
          413
         ]
        },
        {
         "marker": {
          "color": "Grey",
          "line": {
           "color": "black",
           "width": 1
          },
          "opacity": 0.5
         },
         "name": "Silver",
         "text": [
          "Alpine Skiing",
          "Archery",
          "Art Competitions",
          "Athletics",
          "Badminton",
          "Baseball",
          "Basketball",
          "Beach Volleyball",
          "Biathlon",
          "Bobsleigh",
          "Boxing",
          "Canoeing",
          "Cricket",
          "Croquet",
          "Cross Country Skiing",
          "Curling",
          "Cycling",
          "Diving",
          "Equestrianism",
          "Fencing",
          "Figure Skating",
          "Football",
          "Freestyle Skiing",
          "Golf",
          "Gymnastics",
          "Handball",
          "Hockey",
          "Ice Hockey",
          "Jeu De Paume",
          "Judo",
          "Lacrosse",
          "Luge",
          "Military Ski Patrol",
          "Modern Pentathlon",
          "Nordic Combined",
          "Polo",
          "Racquets",
          "Rhythmic Gymnastics",
          "Roque",
          "Rowing",
          "Rugby",
          "Rugby Sevens",
          "Sailing",
          "Shooting",
          "Short Track Speed Skating",
          "Skeleton",
          "Ski Jumping",
          "Snowboarding",
          "Softball",
          "Speed Skating",
          "Swimming",
          "Synchronized Swimming",
          "Table Tennis",
          "Taekwondo",
          "Tennis",
          "Trampolining",
          "Triathlon",
          "Tug-Of-War",
          "Volleyball",
          "Water Polo",
          "Weightlifting",
          "Wrestling"
         ],
         "type": "bar",
         "x": [
          "Alpine Skiing",
          "Archery",
          "Art Competitions",
          "Athletics",
          "Badminton",
          "Baseball",
          "Basketball",
          "Beach Volleyball",
          "Biathlon",
          "Bobsleigh",
          "Boxing",
          "Canoeing",
          "Cricket",
          "Croquet",
          "Cross Country Skiing",
          "Curling",
          "Cycling",
          "Diving",
          "Equestrianism",
          "Fencing",
          "Figure Skating",
          "Football",
          "Freestyle Skiing",
          "Golf",
          "Gymnastics",
          "Handball",
          "Hockey",
          "Ice Hockey",
          "Jeu De Paume",
          "Judo",
          "Lacrosse",
          "Luge",
          "Military Ski Patrol",
          "Modern Pentathlon",
          "Nordic Combined",
          "Polo",
          "Racquets",
          "Rhythmic Gymnastics",
          "Roque",
          "Rowing",
          "Rugby",
          "Rugby Sevens",
          "Sailing",
          "Shooting",
          "Short Track Speed Skating",
          "Skeleton",
          "Ski Jumping",
          "Snowboarding",
          "Softball",
          "Speed Skating",
          "Swimming",
          "Synchronized Swimming",
          "Table Tennis",
          "Taekwondo",
          "Tennis",
          "Trampolining",
          "Triathlon",
          "Tug-Of-War",
          "Volleyball",
          "Water Polo",
          "Weightlifting",
          "Wrestling"
         ],
         "y": [
          144,
          120,
          56,
          1334,
          54,
          112,
          359,
          24,
          137,
          129,
          251,
          388,
          12,
          2,
          257,
          53,
          425,
          142,
          322,
          583,
          128,
          513,
          34,
          15,
          746,
          358,
          498,
          515,
          1,
          136,
          24,
          58,
          4,
          62,
          55,
          25,
          3,
          44,
          1,
          977,
          79,
          24,
          415,
          411,
          95,
          10,
          70,
          30,
          60,
          197,
          993,
          71,
          54,
          40,
          106,
          10,
          10,
          43,
          322,
          347,
          213,
          415
         ]
        },
        {
         "marker": {
          "color": "Brown",
          "line": {
           "color": "black",
           "width": 1
          },
          "opacity": 0.5
         },
         "name": "Bronze",
         "text": [
          "Alpine Skiing",
          "Archery",
          "Art Competitions",
          "Athletics",
          "Badminton",
          "Baseball",
          "Basketball",
          "Beach Volleyball",
          "Biathlon",
          "Bobsleigh",
          "Boxing",
          "Canoeing",
          "Croquet",
          "Cross Country Skiing",
          "Curling",
          "Cycling",
          "Diving",
          "Equestrianism",
          "Fencing",
          "Figure Skating",
          "Football",
          "Freestyle Skiing",
          "Golf",
          "Gymnastics",
          "Handball",
          "Hockey",
          "Ice Hockey",
          "Jeu De Paume",
          "Judo",
          "Lacrosse",
          "Luge",
          "Military Ski Patrol",
          "Modern Pentathlon",
          "Nordic Combined",
          "Polo",
          "Racquets",
          "Rhythmic Gymnastics",
          "Roque",
          "Rowing",
          "Rugby",
          "Rugby Sevens",
          "Sailing",
          "Shooting",
          "Short Track Speed Skating",
          "Skeleton",
          "Ski Jumping",
          "Snowboarding",
          "Softball",
          "Speed Skating",
          "Swimming",
          "Synchronized Swimming",
          "Table Tennis",
          "Taekwondo",
          "Tennis",
          "Trampolining",
          "Triathlon",
          "Tug-Of-War",
          "Volleyball",
          "Water Polo",
          "Weightlifting",
          "Wrestling"
         ],
         "type": "bar",
         "x": [
          "Alpine Skiing",
          "Archery",
          "Art Competitions",
          "Athletics",
          "Badminton",
          "Baseball",
          "Basketball",
          "Beach Volleyball",
          "Biathlon",
          "Bobsleigh",
          "Boxing",
          "Canoeing",
          "Croquet",
          "Cross Country Skiing",
          "Curling",
          "Cycling",
          "Diving",
          "Equestrianism",
          "Fencing",
          "Figure Skating",
          "Football",
          "Freestyle Skiing",
          "Golf",
          "Gymnastics",
          "Handball",
          "Hockey",
          "Ice Hockey",
          "Jeu De Paume",
          "Judo",
          "Lacrosse",
          "Luge",
          "Military Ski Patrol",
          "Modern Pentathlon",
          "Nordic Combined",
          "Polo",
          "Racquets",
          "Rhythmic Gymnastics",
          "Roque",
          "Rowing",
          "Rugby",
          "Rugby Sevens",
          "Sailing",
          "Shooting",
          "Short Track Speed Skating",
          "Skeleton",
          "Ski Jumping",
          "Snowboarding",
          "Softball",
          "Speed Skating",
          "Swimming",
          "Synchronized Swimming",
          "Table Tennis",
          "Taekwondo",
          "Tennis",
          "Trampolining",
          "Triathlon",
          "Tug-Of-War",
          "Volleyball",
          "Water Polo",
          "Weightlifting",
          "Wrestling"
         ],
         "y": [
          141,
          98,
          51,
          1296,
          60,
          112,
          356,
          24,
          135,
          136,
          441,
          389,
          2,
          263,
          49,
          414,
          143,
          319,
          566,
          127,
          543,
          34,
          16,
          719,
          353,
          512,
          507,
          1,
          274,
          12,
          60,
          4,
          62,
          55,
          20,
          4,
          44,
          1,
          990,
          16,
          25,
          367,
          407,
          94,
          10,
          68,
          30,
          59,
          190,
          956,
          70,
          60,
          64,
          128,
          10,
          10,
          29,
          325,
          360,
          216,
          468
         ]
        }
       ],
       "layout": {
        "barmode": "stack",
        "height": 600,
        "hovermode": "closest",
        "showlegend": false,
        "template": {
         "data": {
          "bar": [
           {
            "error_x": {
             "color": "#2a3f5f"
            },
            "error_y": {
             "color": "#2a3f5f"
            },
            "marker": {
             "line": {
              "color": "#E5ECF6",
              "width": 0.5
             },
             "pattern": {
              "fillmode": "overlay",
              "size": 10,
              "solidity": 0.2
             }
            },
            "type": "bar"
           }
          ],
          "barpolar": [
           {
            "marker": {
             "line": {
              "color": "#E5ECF6",
              "width": 0.5
             },
             "pattern": {
              "fillmode": "overlay",
              "size": 10,
              "solidity": 0.2
             }
            },
            "type": "barpolar"
           }
          ],
          "carpet": [
           {
            "aaxis": {
             "endlinecolor": "#2a3f5f",
             "gridcolor": "white",
             "linecolor": "white",
             "minorgridcolor": "white",
             "startlinecolor": "#2a3f5f"
            },
            "baxis": {
             "endlinecolor": "#2a3f5f",
             "gridcolor": "white",
             "linecolor": "white",
             "minorgridcolor": "white",
             "startlinecolor": "#2a3f5f"
            },
            "type": "carpet"
           }
          ],
          "choropleth": [
           {
            "colorbar": {
             "outlinewidth": 0,
             "ticks": ""
            },
            "type": "choropleth"
           }
          ],
          "contour": [
           {
            "colorbar": {
             "outlinewidth": 0,
             "ticks": ""
            },
            "colorscale": [
             [
              0,
              "#0d0887"
             ],
             [
              0.1111111111111111,
              "#46039f"
             ],
             [
              0.2222222222222222,
              "#7201a8"
             ],
             [
              0.3333333333333333,
              "#9c179e"
             ],
             [
              0.4444444444444444,
              "#bd3786"
             ],
             [
              0.5555555555555556,
              "#d8576b"
             ],
             [
              0.6666666666666666,
              "#ed7953"
             ],
             [
              0.7777777777777778,
              "#fb9f3a"
             ],
             [
              0.8888888888888888,
              "#fdca26"
             ],
             [
              1,
              "#f0f921"
             ]
            ],
            "type": "contour"
           }
          ],
          "contourcarpet": [
           {
            "colorbar": {
             "outlinewidth": 0,
             "ticks": ""
            },
            "type": "contourcarpet"
           }
          ],
          "heatmap": [
           {
            "colorbar": {
             "outlinewidth": 0,
             "ticks": ""
            },
            "colorscale": [
             [
              0,
              "#0d0887"
             ],
             [
              0.1111111111111111,
              "#46039f"
             ],
             [
              0.2222222222222222,
              "#7201a8"
             ],
             [
              0.3333333333333333,
              "#9c179e"
             ],
             [
              0.4444444444444444,
              "#bd3786"
             ],
             [
              0.5555555555555556,
              "#d8576b"
             ],
             [
              0.6666666666666666,
              "#ed7953"
             ],
             [
              0.7777777777777778,
              "#fb9f3a"
             ],
             [
              0.8888888888888888,
              "#fdca26"
             ],
             [
              1,
              "#f0f921"
             ]
            ],
            "type": "heatmap"
           }
          ],
          "heatmapgl": [
           {
            "colorbar": {
             "outlinewidth": 0,
             "ticks": ""
            },
            "colorscale": [
             [
              0,
              "#0d0887"
             ],
             [
              0.1111111111111111,
              "#46039f"
             ],
             [
              0.2222222222222222,
              "#7201a8"
             ],
             [
              0.3333333333333333,
              "#9c179e"
             ],
             [
              0.4444444444444444,
              "#bd3786"
             ],
             [
              0.5555555555555556,
              "#d8576b"
             ],
             [
              0.6666666666666666,
              "#ed7953"
             ],
             [
              0.7777777777777778,
              "#fb9f3a"
             ],
             [
              0.8888888888888888,
              "#fdca26"
             ],
             [
              1,
              "#f0f921"
             ]
            ],
            "type": "heatmapgl"
           }
          ],
          "histogram": [
           {
            "marker": {
             "pattern": {
              "fillmode": "overlay",
              "size": 10,
              "solidity": 0.2
             }
            },
            "type": "histogram"
           }
          ],
          "histogram2d": [
           {
            "colorbar": {
             "outlinewidth": 0,
             "ticks": ""
            },
            "colorscale": [
             [
              0,
              "#0d0887"
             ],
             [
              0.1111111111111111,
              "#46039f"
             ],
             [
              0.2222222222222222,
              "#7201a8"
             ],
             [
              0.3333333333333333,
              "#9c179e"
             ],
             [
              0.4444444444444444,
              "#bd3786"
             ],
             [
              0.5555555555555556,
              "#d8576b"
             ],
             [
              0.6666666666666666,
              "#ed7953"
             ],
             [
              0.7777777777777778,
              "#fb9f3a"
             ],
             [
              0.8888888888888888,
              "#fdca26"
             ],
             [
              1,
              "#f0f921"
             ]
            ],
            "type": "histogram2d"
           }
          ],
          "histogram2dcontour": [
           {
            "colorbar": {
             "outlinewidth": 0,
             "ticks": ""
            },
            "colorscale": [
             [
              0,
              "#0d0887"
             ],
             [
              0.1111111111111111,
              "#46039f"
             ],
             [
              0.2222222222222222,
              "#7201a8"
             ],
             [
              0.3333333333333333,
              "#9c179e"
             ],
             [
              0.4444444444444444,
              "#bd3786"
             ],
             [
              0.5555555555555556,
              "#d8576b"
             ],
             [
              0.6666666666666666,
              "#ed7953"
             ],
             [
              0.7777777777777778,
              "#fb9f3a"
             ],
             [
              0.8888888888888888,
              "#fdca26"
             ],
             [
              1,
              "#f0f921"
             ]
            ],
            "type": "histogram2dcontour"
           }
          ],
          "mesh3d": [
           {
            "colorbar": {
             "outlinewidth": 0,
             "ticks": ""
            },
            "type": "mesh3d"
           }
          ],
          "parcoords": [
           {
            "line": {
             "colorbar": {
              "outlinewidth": 0,
              "ticks": ""
             }
            },
            "type": "parcoords"
           }
          ],
          "pie": [
           {
            "automargin": true,
            "type": "pie"
           }
          ],
          "scatter": [
           {
            "marker": {
             "colorbar": {
              "outlinewidth": 0,
              "ticks": ""
             }
            },
            "type": "scatter"
           }
          ],
          "scatter3d": [
           {
            "line": {
             "colorbar": {
              "outlinewidth": 0,
              "ticks": ""
             }
            },
            "marker": {
             "colorbar": {
              "outlinewidth": 0,
              "ticks": ""
             }
            },
            "type": "scatter3d"
           }
          ],
          "scattercarpet": [
           {
            "marker": {
             "colorbar": {
              "outlinewidth": 0,
              "ticks": ""
             }
            },
            "type": "scattercarpet"
           }
          ],
          "scattergeo": [
           {
            "marker": {
             "colorbar": {
              "outlinewidth": 0,
              "ticks": ""
             }
            },
            "type": "scattergeo"
           }
          ],
          "scattergl": [
           {
            "marker": {
             "colorbar": {
              "outlinewidth": 0,
              "ticks": ""
             }
            },
            "type": "scattergl"
           }
          ],
          "scattermapbox": [
           {
            "marker": {
             "colorbar": {
              "outlinewidth": 0,
              "ticks": ""
             }
            },
            "type": "scattermapbox"
           }
          ],
          "scatterpolar": [
           {
            "marker": {
             "colorbar": {
              "outlinewidth": 0,
              "ticks": ""
             }
            },
            "type": "scatterpolar"
           }
          ],
          "scatterpolargl": [
           {
            "marker": {
             "colorbar": {
              "outlinewidth": 0,
              "ticks": ""
             }
            },
            "type": "scatterpolargl"
           }
          ],
          "scatterternary": [
           {
            "marker": {
             "colorbar": {
              "outlinewidth": 0,
              "ticks": ""
             }
            },
            "type": "scatterternary"
           }
          ],
          "surface": [
           {
            "colorbar": {
             "outlinewidth": 0,
             "ticks": ""
            },
            "colorscale": [
             [
              0,
              "#0d0887"
             ],
             [
              0.1111111111111111,
              "#46039f"
             ],
             [
              0.2222222222222222,
              "#7201a8"
             ],
             [
              0.3333333333333333,
              "#9c179e"
             ],
             [
              0.4444444444444444,
              "#bd3786"
             ],
             [
              0.5555555555555556,
              "#d8576b"
             ],
             [
              0.6666666666666666,
              "#ed7953"
             ],
             [
              0.7777777777777778,
              "#fb9f3a"
             ],
             [
              0.8888888888888888,
              "#fdca26"
             ],
             [
              1,
              "#f0f921"
             ]
            ],
            "type": "surface"
           }
          ],
          "table": [
           {
            "cells": {
             "fill": {
              "color": "#EBF0F8"
             },
             "line": {
              "color": "white"
             }
            },
            "header": {
             "fill": {
              "color": "#C8D4E3"
             },
             "line": {
              "color": "white"
             }
            },
            "type": "table"
           }
          ]
         },
         "layout": {
          "annotationdefaults": {
           "arrowcolor": "#2a3f5f",
           "arrowhead": 0,
           "arrowwidth": 1
          },
          "autotypenumbers": "strict",
          "coloraxis": {
           "colorbar": {
            "outlinewidth": 0,
            "ticks": ""
           }
          },
          "colorscale": {
           "diverging": [
            [
             0,
             "#8e0152"
            ],
            [
             0.1,
             "#c51b7d"
            ],
            [
             0.2,
             "#de77ae"
            ],
            [
             0.3,
             "#f1b6da"
            ],
            [
             0.4,
             "#fde0ef"
            ],
            [
             0.5,
             "#f7f7f7"
            ],
            [
             0.6,
             "#e6f5d0"
            ],
            [
             0.7,
             "#b8e186"
            ],
            [
             0.8,
             "#7fbc41"
            ],
            [
             0.9,
             "#4d9221"
            ],
            [
             1,
             "#276419"
            ]
           ],
           "sequential": [
            [
             0,
             "#0d0887"
            ],
            [
             0.1111111111111111,
             "#46039f"
            ],
            [
             0.2222222222222222,
             "#7201a8"
            ],
            [
             0.3333333333333333,
             "#9c179e"
            ],
            [
             0.4444444444444444,
             "#bd3786"
            ],
            [
             0.5555555555555556,
             "#d8576b"
            ],
            [
             0.6666666666666666,
             "#ed7953"
            ],
            [
             0.7777777777777778,
             "#fb9f3a"
            ],
            [
             0.8888888888888888,
             "#fdca26"
            ],
            [
             1,
             "#f0f921"
            ]
           ],
           "sequentialminus": [
            [
             0,
             "#0d0887"
            ],
            [
             0.1111111111111111,
             "#46039f"
            ],
            [
             0.2222222222222222,
             "#7201a8"
            ],
            [
             0.3333333333333333,
             "#9c179e"
            ],
            [
             0.4444444444444444,
             "#bd3786"
            ],
            [
             0.5555555555555556,
             "#d8576b"
            ],
            [
             0.6666666666666666,
             "#ed7953"
            ],
            [
             0.7777777777777778,
             "#fb9f3a"
            ],
            [
             0.8888888888888888,
             "#fdca26"
            ],
            [
             1,
             "#f0f921"
            ]
           ]
          },
          "colorway": [
           "#636efa",
           "#EF553B",
           "#00cc96",
           "#ab63fa",
           "#FFA15A",
           "#19d3f3",
           "#FF6692",
           "#B6E880",
           "#FF97FF",
           "#FECB52"
          ],
          "font": {
           "color": "#2a3f5f"
          },
          "geo": {
           "bgcolor": "white",
           "lakecolor": "white",
           "landcolor": "#E5ECF6",
           "showlakes": true,
           "showland": true,
           "subunitcolor": "white"
          },
          "hoverlabel": {
           "align": "left"
          },
          "hovermode": "closest",
          "mapbox": {
           "style": "light"
          },
          "paper_bgcolor": "white",
          "plot_bgcolor": "#E5ECF6",
          "polar": {
           "angularaxis": {
            "gridcolor": "white",
            "linecolor": "white",
            "ticks": ""
           },
           "bgcolor": "#E5ECF6",
           "radialaxis": {
            "gridcolor": "white",
            "linecolor": "white",
            "ticks": ""
           }
          },
          "scene": {
           "xaxis": {
            "backgroundcolor": "#E5ECF6",
            "gridcolor": "white",
            "gridwidth": 2,
            "linecolor": "white",
            "showbackground": true,
            "ticks": "",
            "zerolinecolor": "white"
           },
           "yaxis": {
            "backgroundcolor": "#E5ECF6",
            "gridcolor": "white",
            "gridwidth": 2,
            "linecolor": "white",
            "showbackground": true,
            "ticks": "",
            "zerolinecolor": "white"
           },
           "zaxis": {
            "backgroundcolor": "#E5ECF6",
            "gridcolor": "white",
            "gridwidth": 2,
            "linecolor": "white",
            "showbackground": true,
            "ticks": "",
            "zerolinecolor": "white"
           }
          },
          "shapedefaults": {
           "line": {
            "color": "#2a3f5f"
           }
          },
          "ternary": {
           "aaxis": {
            "gridcolor": "white",
            "linecolor": "white",
            "ticks": ""
           },
           "baxis": {
            "gridcolor": "white",
            "linecolor": "white",
            "ticks": ""
           },
           "bgcolor": "#E5ECF6",
           "caxis": {
            "gridcolor": "white",
            "linecolor": "white",
            "ticks": ""
           }
          },
          "title": {
           "x": 0.05
          },
          "xaxis": {
           "automargin": true,
           "gridcolor": "white",
           "linecolor": "white",
           "ticks": "",
           "title": {
            "standoff": 15
           },
           "zerolinecolor": "white",
           "zerolinewidth": 2
          },
          "yaxis": {
           "automargin": true,
           "gridcolor": "white",
           "linecolor": "white",
           "ticks": "",
           "title": {
            "standoff": 15
           },
           "zerolinecolor": "white",
           "zerolinewidth": 2
          }
         }
        },
        "title": {
         "text": "Medals per sport"
        },
        "width": 900,
        "xaxis": {
         "showticklabels": true,
         "tickangle": 45,
         "tickfont": {
          "color": "black",
          "size": 8
         },
         "title": {
          "text": "Sport"
         }
        },
        "yaxis": {
         "title": {
          "text": "Number of medals"
         }
        }
       }
      },
      "text/html": [
       "<div>                            <div id=\"a021d7e9-48f0-4681-8603-062963f0d342\" class=\"plotly-graph-div\" style=\"height:600px; width:900px;\"></div>            <script type=\"text/javascript\">                require([\"plotly\"], function(Plotly) {                    window.PLOTLYENV=window.PLOTLYENV || {};                                    if (document.getElementById(\"a021d7e9-48f0-4681-8603-062963f0d342\")) {                    Plotly.newPlot(                        \"a021d7e9-48f0-4681-8603-062963f0d342\",                        [{\"marker\":{\"color\":\"gold\",\"line\":{\"color\":\"black\",\"width\":1},\"opacity\":0.5},\"name\":\"Gold\",\"text\":[\"Aeronautics\",\"Alpine Skiing\",\"Alpinism\",\"Archery\",\"Art Competitions\",\"Athletics\",\"Badminton\",\"Baseball\",\"Basketball\",\"Basque Pelota\",\"Beach Volleyball\",\"Biathlon\",\"Bobsleigh\",\"Boxing\",\"Canoeing\",\"Cricket\",\"Croquet\",\"Cross Country Skiing\",\"Curling\",\"Cycling\",\"Diving\",\"Equestrianism\",\"Fencing\",\"Figure Skating\",\"Football\",\"Freestyle Skiing\",\"Golf\",\"Gymnastics\",\"Handball\",\"Hockey\",\"Ice Hockey\",\"Jeu De Paume\",\"Judo\",\"Lacrosse\",\"Luge\",\"Military Ski Patrol\",\"Modern Pentathlon\",\"Motorboating\",\"Nordic Combined\",\"Polo\",\"Racquets\",\"Rhythmic Gymnastics\",\"Roque\",\"Rowing\",\"Rugby\",\"Rugby Sevens\",\"Sailing\",\"Shooting\",\"Short Track Speed Skating\",\"Skeleton\",\"Ski Jumping\",\"Snowboarding\",\"Softball\",\"Speed Skating\",\"Swimming\",\"Synchronized Swimming\",\"Table Tennis\",\"Taekwondo\",\"Tennis\",\"Trampolining\",\"Triathlon\",\"Tug-Of-War\",\"Volleyball\",\"Water Polo\",\"Weightlifting\",\"Wrestling\"],\"type\":\"bar\",\"x\":[\"Aeronautics\",\"Alpine Skiing\",\"Alpinism\",\"Archery\",\"Art Competitions\",\"Athletics\",\"Badminton\",\"Baseball\",\"Basketball\",\"Basque Pelota\",\"Beach Volleyball\",\"Biathlon\",\"Bobsleigh\",\"Boxing\",\"Canoeing\",\"Cricket\",\"Croquet\",\"Cross Country Skiing\",\"Curling\",\"Cycling\",\"Diving\",\"Equestrianism\",\"Fencing\",\"Figure Skating\",\"Football\",\"Freestyle Skiing\",\"Golf\",\"Gymnastics\",\"Handball\",\"Hockey\",\"Ice Hockey\",\"Jeu De Paume\",\"Judo\",\"Lacrosse\",\"Luge\",\"Military Ski Patrol\",\"Modern Pentathlon\",\"Motorboating\",\"Nordic Combined\",\"Polo\",\"Racquets\",\"Rhythmic Gymnastics\",\"Roque\",\"Rowing\",\"Rugby\",\"Rugby Sevens\",\"Sailing\",\"Shooting\",\"Short Track Speed Skating\",\"Skeleton\",\"Ski Jumping\",\"Snowboarding\",\"Softball\",\"Speed Skating\",\"Swimming\",\"Synchronized Swimming\",\"Table Tennis\",\"Taekwondo\",\"Tennis\",\"Trampolining\",\"Triathlon\",\"Tug-Of-War\",\"Volleyball\",\"Water Polo\",\"Weightlifting\",\"Wrestling\"],\"y\":[1,143,25,135,49,1339,54,112,365,2,24,136,133,252,388,12,4,256,50,424,142,324,594,131,515,34,15,791,349,518,508,1,137,24,62,4,62,7,55,22,3,44,1,978,67,25,450,410,95,10,69,30,60,193,1099,74,54,40,106,10,10,43,322,350,217,413]},{\"marker\":{\"color\":\"Grey\",\"line\":{\"color\":\"black\",\"width\":1},\"opacity\":0.5},\"name\":\"Silver\",\"text\":[\"Alpine Skiing\",\"Archery\",\"Art Competitions\",\"Athletics\",\"Badminton\",\"Baseball\",\"Basketball\",\"Beach Volleyball\",\"Biathlon\",\"Bobsleigh\",\"Boxing\",\"Canoeing\",\"Cricket\",\"Croquet\",\"Cross Country Skiing\",\"Curling\",\"Cycling\",\"Diving\",\"Equestrianism\",\"Fencing\",\"Figure Skating\",\"Football\",\"Freestyle Skiing\",\"Golf\",\"Gymnastics\",\"Handball\",\"Hockey\",\"Ice Hockey\",\"Jeu De Paume\",\"Judo\",\"Lacrosse\",\"Luge\",\"Military Ski Patrol\",\"Modern Pentathlon\",\"Nordic Combined\",\"Polo\",\"Racquets\",\"Rhythmic Gymnastics\",\"Roque\",\"Rowing\",\"Rugby\",\"Rugby Sevens\",\"Sailing\",\"Shooting\",\"Short Track Speed Skating\",\"Skeleton\",\"Ski Jumping\",\"Snowboarding\",\"Softball\",\"Speed Skating\",\"Swimming\",\"Synchronized Swimming\",\"Table Tennis\",\"Taekwondo\",\"Tennis\",\"Trampolining\",\"Triathlon\",\"Tug-Of-War\",\"Volleyball\",\"Water Polo\",\"Weightlifting\",\"Wrestling\"],\"type\":\"bar\",\"x\":[\"Alpine Skiing\",\"Archery\",\"Art Competitions\",\"Athletics\",\"Badminton\",\"Baseball\",\"Basketball\",\"Beach Volleyball\",\"Biathlon\",\"Bobsleigh\",\"Boxing\",\"Canoeing\",\"Cricket\",\"Croquet\",\"Cross Country Skiing\",\"Curling\",\"Cycling\",\"Diving\",\"Equestrianism\",\"Fencing\",\"Figure Skating\",\"Football\",\"Freestyle Skiing\",\"Golf\",\"Gymnastics\",\"Handball\",\"Hockey\",\"Ice Hockey\",\"Jeu De Paume\",\"Judo\",\"Lacrosse\",\"Luge\",\"Military Ski Patrol\",\"Modern Pentathlon\",\"Nordic Combined\",\"Polo\",\"Racquets\",\"Rhythmic Gymnastics\",\"Roque\",\"Rowing\",\"Rugby\",\"Rugby Sevens\",\"Sailing\",\"Shooting\",\"Short Track Speed Skating\",\"Skeleton\",\"Ski Jumping\",\"Snowboarding\",\"Softball\",\"Speed Skating\",\"Swimming\",\"Synchronized Swimming\",\"Table Tennis\",\"Taekwondo\",\"Tennis\",\"Trampolining\",\"Triathlon\",\"Tug-Of-War\",\"Volleyball\",\"Water Polo\",\"Weightlifting\",\"Wrestling\"],\"y\":[144,120,56,1334,54,112,359,24,137,129,251,388,12,2,257,53,425,142,322,583,128,513,34,15,746,358,498,515,1,136,24,58,4,62,55,25,3,44,1,977,79,24,415,411,95,10,70,30,60,197,993,71,54,40,106,10,10,43,322,347,213,415]},{\"marker\":{\"color\":\"Brown\",\"line\":{\"color\":\"black\",\"width\":1},\"opacity\":0.5},\"name\":\"Bronze\",\"text\":[\"Alpine Skiing\",\"Archery\",\"Art Competitions\",\"Athletics\",\"Badminton\",\"Baseball\",\"Basketball\",\"Beach Volleyball\",\"Biathlon\",\"Bobsleigh\",\"Boxing\",\"Canoeing\",\"Croquet\",\"Cross Country Skiing\",\"Curling\",\"Cycling\",\"Diving\",\"Equestrianism\",\"Fencing\",\"Figure Skating\",\"Football\",\"Freestyle Skiing\",\"Golf\",\"Gymnastics\",\"Handball\",\"Hockey\",\"Ice Hockey\",\"Jeu De Paume\",\"Judo\",\"Lacrosse\",\"Luge\",\"Military Ski Patrol\",\"Modern Pentathlon\",\"Nordic Combined\",\"Polo\",\"Racquets\",\"Rhythmic Gymnastics\",\"Roque\",\"Rowing\",\"Rugby\",\"Rugby Sevens\",\"Sailing\",\"Shooting\",\"Short Track Speed Skating\",\"Skeleton\",\"Ski Jumping\",\"Snowboarding\",\"Softball\",\"Speed Skating\",\"Swimming\",\"Synchronized Swimming\",\"Table Tennis\",\"Taekwondo\",\"Tennis\",\"Trampolining\",\"Triathlon\",\"Tug-Of-War\",\"Volleyball\",\"Water Polo\",\"Weightlifting\",\"Wrestling\"],\"type\":\"bar\",\"x\":[\"Alpine Skiing\",\"Archery\",\"Art Competitions\",\"Athletics\",\"Badminton\",\"Baseball\",\"Basketball\",\"Beach Volleyball\",\"Biathlon\",\"Bobsleigh\",\"Boxing\",\"Canoeing\",\"Croquet\",\"Cross Country Skiing\",\"Curling\",\"Cycling\",\"Diving\",\"Equestrianism\",\"Fencing\",\"Figure Skating\",\"Football\",\"Freestyle Skiing\",\"Golf\",\"Gymnastics\",\"Handball\",\"Hockey\",\"Ice Hockey\",\"Jeu De Paume\",\"Judo\",\"Lacrosse\",\"Luge\",\"Military Ski Patrol\",\"Modern Pentathlon\",\"Nordic Combined\",\"Polo\",\"Racquets\",\"Rhythmic Gymnastics\",\"Roque\",\"Rowing\",\"Rugby\",\"Rugby Sevens\",\"Sailing\",\"Shooting\",\"Short Track Speed Skating\",\"Skeleton\",\"Ski Jumping\",\"Snowboarding\",\"Softball\",\"Speed Skating\",\"Swimming\",\"Synchronized Swimming\",\"Table Tennis\",\"Taekwondo\",\"Tennis\",\"Trampolining\",\"Triathlon\",\"Tug-Of-War\",\"Volleyball\",\"Water Polo\",\"Weightlifting\",\"Wrestling\"],\"y\":[141,98,51,1296,60,112,356,24,135,136,441,389,2,263,49,414,143,319,566,127,543,34,16,719,353,512,507,1,274,12,60,4,62,55,20,4,44,1,990,16,25,367,407,94,10,68,30,59,190,956,70,60,64,128,10,10,29,325,360,216,468]}],                        {\"barmode\":\"stack\",\"height\":600,\"hovermode\":\"closest\",\"showlegend\":false,\"template\":{\"data\":{\"bar\":[{\"error_x\":{\"color\":\"#2a3f5f\"},\"error_y\":{\"color\":\"#2a3f5f\"},\"marker\":{\"line\":{\"color\":\"#E5ECF6\",\"width\":0.5},\"pattern\":{\"fillmode\":\"overlay\",\"size\":10,\"solidity\":0.2}},\"type\":\"bar\"}],\"barpolar\":[{\"marker\":{\"line\":{\"color\":\"#E5ECF6\",\"width\":0.5},\"pattern\":{\"fillmode\":\"overlay\",\"size\":10,\"solidity\":0.2}},\"type\":\"barpolar\"}],\"carpet\":[{\"aaxis\":{\"endlinecolor\":\"#2a3f5f\",\"gridcolor\":\"white\",\"linecolor\":\"white\",\"minorgridcolor\":\"white\",\"startlinecolor\":\"#2a3f5f\"},\"baxis\":{\"endlinecolor\":\"#2a3f5f\",\"gridcolor\":\"white\",\"linecolor\":\"white\",\"minorgridcolor\":\"white\",\"startlinecolor\":\"#2a3f5f\"},\"type\":\"carpet\"}],\"choropleth\":[{\"colorbar\":{\"outlinewidth\":0,\"ticks\":\"\"},\"type\":\"choropleth\"}],\"contour\":[{\"colorbar\":{\"outlinewidth\":0,\"ticks\":\"\"},\"colorscale\":[[0.0,\"#0d0887\"],[0.1111111111111111,\"#46039f\"],[0.2222222222222222,\"#7201a8\"],[0.3333333333333333,\"#9c179e\"],[0.4444444444444444,\"#bd3786\"],[0.5555555555555556,\"#d8576b\"],[0.6666666666666666,\"#ed7953\"],[0.7777777777777778,\"#fb9f3a\"],[0.8888888888888888,\"#fdca26\"],[1.0,\"#f0f921\"]],\"type\":\"contour\"}],\"contourcarpet\":[{\"colorbar\":{\"outlinewidth\":0,\"ticks\":\"\"},\"type\":\"contourcarpet\"}],\"heatmap\":[{\"colorbar\":{\"outlinewidth\":0,\"ticks\":\"\"},\"colorscale\":[[0.0,\"#0d0887\"],[0.1111111111111111,\"#46039f\"],[0.2222222222222222,\"#7201a8\"],[0.3333333333333333,\"#9c179e\"],[0.4444444444444444,\"#bd3786\"],[0.5555555555555556,\"#d8576b\"],[0.6666666666666666,\"#ed7953\"],[0.7777777777777778,\"#fb9f3a\"],[0.8888888888888888,\"#fdca26\"],[1.0,\"#f0f921\"]],\"type\":\"heatmap\"}],\"heatmapgl\":[{\"colorbar\":{\"outlinewidth\":0,\"ticks\":\"\"},\"colorscale\":[[0.0,\"#0d0887\"],[0.1111111111111111,\"#46039f\"],[0.2222222222222222,\"#7201a8\"],[0.3333333333333333,\"#9c179e\"],[0.4444444444444444,\"#bd3786\"],[0.5555555555555556,\"#d8576b\"],[0.6666666666666666,\"#ed7953\"],[0.7777777777777778,\"#fb9f3a\"],[0.8888888888888888,\"#fdca26\"],[1.0,\"#f0f921\"]],\"type\":\"heatmapgl\"}],\"histogram\":[{\"marker\":{\"pattern\":{\"fillmode\":\"overlay\",\"size\":10,\"solidity\":0.2}},\"type\":\"histogram\"}],\"histogram2d\":[{\"colorbar\":{\"outlinewidth\":0,\"ticks\":\"\"},\"colorscale\":[[0.0,\"#0d0887\"],[0.1111111111111111,\"#46039f\"],[0.2222222222222222,\"#7201a8\"],[0.3333333333333333,\"#9c179e\"],[0.4444444444444444,\"#bd3786\"],[0.5555555555555556,\"#d8576b\"],[0.6666666666666666,\"#ed7953\"],[0.7777777777777778,\"#fb9f3a\"],[0.8888888888888888,\"#fdca26\"],[1.0,\"#f0f921\"]],\"type\":\"histogram2d\"}],\"histogram2dcontour\":[{\"colorbar\":{\"outlinewidth\":0,\"ticks\":\"\"},\"colorscale\":[[0.0,\"#0d0887\"],[0.1111111111111111,\"#46039f\"],[0.2222222222222222,\"#7201a8\"],[0.3333333333333333,\"#9c179e\"],[0.4444444444444444,\"#bd3786\"],[0.5555555555555556,\"#d8576b\"],[0.6666666666666666,\"#ed7953\"],[0.7777777777777778,\"#fb9f3a\"],[0.8888888888888888,\"#fdca26\"],[1.0,\"#f0f921\"]],\"type\":\"histogram2dcontour\"}],\"mesh3d\":[{\"colorbar\":{\"outlinewidth\":0,\"ticks\":\"\"},\"type\":\"mesh3d\"}],\"parcoords\":[{\"line\":{\"colorbar\":{\"outlinewidth\":0,\"ticks\":\"\"}},\"type\":\"parcoords\"}],\"pie\":[{\"automargin\":true,\"type\":\"pie\"}],\"scatter\":[{\"marker\":{\"colorbar\":{\"outlinewidth\":0,\"ticks\":\"\"}},\"type\":\"scatter\"}],\"scatter3d\":[{\"line\":{\"colorbar\":{\"outlinewidth\":0,\"ticks\":\"\"}},\"marker\":{\"colorbar\":{\"outlinewidth\":0,\"ticks\":\"\"}},\"type\":\"scatter3d\"}],\"scattercarpet\":[{\"marker\":{\"colorbar\":{\"outlinewidth\":0,\"ticks\":\"\"}},\"type\":\"scattercarpet\"}],\"scattergeo\":[{\"marker\":{\"colorbar\":{\"outlinewidth\":0,\"ticks\":\"\"}},\"type\":\"scattergeo\"}],\"scattergl\":[{\"marker\":{\"colorbar\":{\"outlinewidth\":0,\"ticks\":\"\"}},\"type\":\"scattergl\"}],\"scattermapbox\":[{\"marker\":{\"colorbar\":{\"outlinewidth\":0,\"ticks\":\"\"}},\"type\":\"scattermapbox\"}],\"scatterpolar\":[{\"marker\":{\"colorbar\":{\"outlinewidth\":0,\"ticks\":\"\"}},\"type\":\"scatterpolar\"}],\"scatterpolargl\":[{\"marker\":{\"colorbar\":{\"outlinewidth\":0,\"ticks\":\"\"}},\"type\":\"scatterpolargl\"}],\"scatterternary\":[{\"marker\":{\"colorbar\":{\"outlinewidth\":0,\"ticks\":\"\"}},\"type\":\"scatterternary\"}],\"surface\":[{\"colorbar\":{\"outlinewidth\":0,\"ticks\":\"\"},\"colorscale\":[[0.0,\"#0d0887\"],[0.1111111111111111,\"#46039f\"],[0.2222222222222222,\"#7201a8\"],[0.3333333333333333,\"#9c179e\"],[0.4444444444444444,\"#bd3786\"],[0.5555555555555556,\"#d8576b\"],[0.6666666666666666,\"#ed7953\"],[0.7777777777777778,\"#fb9f3a\"],[0.8888888888888888,\"#fdca26\"],[1.0,\"#f0f921\"]],\"type\":\"surface\"}],\"table\":[{\"cells\":{\"fill\":{\"color\":\"#EBF0F8\"},\"line\":{\"color\":\"white\"}},\"header\":{\"fill\":{\"color\":\"#C8D4E3\"},\"line\":{\"color\":\"white\"}},\"type\":\"table\"}]},\"layout\":{\"annotationdefaults\":{\"arrowcolor\":\"#2a3f5f\",\"arrowhead\":0,\"arrowwidth\":1},\"autotypenumbers\":\"strict\",\"coloraxis\":{\"colorbar\":{\"outlinewidth\":0,\"ticks\":\"\"}},\"colorscale\":{\"diverging\":[[0,\"#8e0152\"],[0.1,\"#c51b7d\"],[0.2,\"#de77ae\"],[0.3,\"#f1b6da\"],[0.4,\"#fde0ef\"],[0.5,\"#f7f7f7\"],[0.6,\"#e6f5d0\"],[0.7,\"#b8e186\"],[0.8,\"#7fbc41\"],[0.9,\"#4d9221\"],[1,\"#276419\"]],\"sequential\":[[0.0,\"#0d0887\"],[0.1111111111111111,\"#46039f\"],[0.2222222222222222,\"#7201a8\"],[0.3333333333333333,\"#9c179e\"],[0.4444444444444444,\"#bd3786\"],[0.5555555555555556,\"#d8576b\"],[0.6666666666666666,\"#ed7953\"],[0.7777777777777778,\"#fb9f3a\"],[0.8888888888888888,\"#fdca26\"],[1.0,\"#f0f921\"]],\"sequentialminus\":[[0.0,\"#0d0887\"],[0.1111111111111111,\"#46039f\"],[0.2222222222222222,\"#7201a8\"],[0.3333333333333333,\"#9c179e\"],[0.4444444444444444,\"#bd3786\"],[0.5555555555555556,\"#d8576b\"],[0.6666666666666666,\"#ed7953\"],[0.7777777777777778,\"#fb9f3a\"],[0.8888888888888888,\"#fdca26\"],[1.0,\"#f0f921\"]]},\"colorway\":[\"#636efa\",\"#EF553B\",\"#00cc96\",\"#ab63fa\",\"#FFA15A\",\"#19d3f3\",\"#FF6692\",\"#B6E880\",\"#FF97FF\",\"#FECB52\"],\"font\":{\"color\":\"#2a3f5f\"},\"geo\":{\"bgcolor\":\"white\",\"lakecolor\":\"white\",\"landcolor\":\"#E5ECF6\",\"showlakes\":true,\"showland\":true,\"subunitcolor\":\"white\"},\"hoverlabel\":{\"align\":\"left\"},\"hovermode\":\"closest\",\"mapbox\":{\"style\":\"light\"},\"paper_bgcolor\":\"white\",\"plot_bgcolor\":\"#E5ECF6\",\"polar\":{\"angularaxis\":{\"gridcolor\":\"white\",\"linecolor\":\"white\",\"ticks\":\"\"},\"bgcolor\":\"#E5ECF6\",\"radialaxis\":{\"gridcolor\":\"white\",\"linecolor\":\"white\",\"ticks\":\"\"}},\"scene\":{\"xaxis\":{\"backgroundcolor\":\"#E5ECF6\",\"gridcolor\":\"white\",\"gridwidth\":2,\"linecolor\":\"white\",\"showbackground\":true,\"ticks\":\"\",\"zerolinecolor\":\"white\"},\"yaxis\":{\"backgroundcolor\":\"#E5ECF6\",\"gridcolor\":\"white\",\"gridwidth\":2,\"linecolor\":\"white\",\"showbackground\":true,\"ticks\":\"\",\"zerolinecolor\":\"white\"},\"zaxis\":{\"backgroundcolor\":\"#E5ECF6\",\"gridcolor\":\"white\",\"gridwidth\":2,\"linecolor\":\"white\",\"showbackground\":true,\"ticks\":\"\",\"zerolinecolor\":\"white\"}},\"shapedefaults\":{\"line\":{\"color\":\"#2a3f5f\"}},\"ternary\":{\"aaxis\":{\"gridcolor\":\"white\",\"linecolor\":\"white\",\"ticks\":\"\"},\"baxis\":{\"gridcolor\":\"white\",\"linecolor\":\"white\",\"ticks\":\"\"},\"bgcolor\":\"#E5ECF6\",\"caxis\":{\"gridcolor\":\"white\",\"linecolor\":\"white\",\"ticks\":\"\"}},\"title\":{\"x\":0.05},\"xaxis\":{\"automargin\":true,\"gridcolor\":\"white\",\"linecolor\":\"white\",\"ticks\":\"\",\"title\":{\"standoff\":15},\"zerolinecolor\":\"white\",\"zerolinewidth\":2},\"yaxis\":{\"automargin\":true,\"gridcolor\":\"white\",\"linecolor\":\"white\",\"ticks\":\"\",\"title\":{\"standoff\":15},\"zerolinecolor\":\"white\",\"zerolinewidth\":2}}},\"title\":{\"text\":\"Medals per sport\"},\"width\":900,\"xaxis\":{\"showticklabels\":true,\"tickangle\":45,\"tickfont\":{\"color\":\"black\",\"size\":8},\"title\":{\"text\":\"Sport\"}},\"yaxis\":{\"title\":{\"text\":\"Number of medals\"}}},                        {\"responsive\": true}                    ).then(function(){\n",
       "                            \n",
       "var gd = document.getElementById('a021d7e9-48f0-4681-8603-062963f0d342');\n",
       "var x = new MutationObserver(function (mutations, observer) {{\n",
       "        var display = window.getComputedStyle(gd).display;\n",
       "        if (!display || display === 'none') {{\n",
       "            console.log([gd, 'removed!']);\n",
       "            Plotly.purge(gd);\n",
       "            observer.disconnect();\n",
       "        }}\n",
       "}});\n",
       "\n",
       "// Listen for the removal of the full notebook cells\n",
       "var notebookContainer = gd.closest('#notebook-container');\n",
       "if (notebookContainer) {{\n",
       "    x.observe(notebookContainer, {childList: true});\n",
       "}}\n",
       "\n",
       "// Listen for the clearing of the current output cell\n",
       "var outputEl = gd.closest('.output');\n",
       "if (outputEl) {{\n",
       "    x.observe(outputEl, {childList: true});\n",
       "}}\n",
       "\n",
       "                        })                };                });            </script>        </div>"
      ]
     },
     "metadata": {},
     "output_type": "display_data"
    }
   ],
   "source": [
    "tmp = Countries_medals.groupby(['Sport', 'Medal'])['ID'].agg('count').dropna()\n",
    "df = pd.DataFrame(tmp).reset_index()\n",
    "dfG = df[df['Medal']=='Gold']\n",
    "dfS = df[df['Medal']=='Silver']\n",
    "dfB = df[df['Medal']=='Bronze']\n",
    "\n",
    "traceG = go.Bar(\n",
    "    x = dfG['Sport'],y = dfG['ID'],\n",
    "    name=\"Gold\",\n",
    "     marker=dict(\n",
    "                color='gold',\n",
    "                line=dict(\n",
    "                    color='black',\n",
    "                    width=1),\n",
    "                opacity=0.5,\n",
    "            ),\n",
    "    text = dfG['Sport'],\n",
    "    #orientation = 'h'\n",
    ")\n",
    "traceS = go.Bar(\n",
    "    x = dfS['Sport'],y = dfS['ID'],\n",
    "    name=\"Silver\",\n",
    "    marker=dict(\n",
    "                color='Grey',\n",
    "                line=dict(\n",
    "                    color='black',\n",
    "                    width=1),\n",
    "                opacity=0.5,\n",
    "            ),\n",
    "    text=dfS['Sport'],\n",
    "    #orientation = 'h'\n",
    ")\n",
    "\n",
    "traceB = go.Bar(\n",
    "    x = dfB['Sport'],y = dfB['ID'],\n",
    "    name=\"Bronze\",\n",
    "    marker=dict(\n",
    "                color='Brown',\n",
    "                line=dict(\n",
    "                    color='black',\n",
    "                    width=1),\n",
    "                opacity=0.5,\n",
    "            ),\n",
    "    text=dfB['Sport'],\n",
    "   # orientation = 'h'\n",
    ")\n",
    "\n",
    "data = [traceG, traceS, traceB]\n",
    "layout = dict(title = 'Medals per sport',\n",
    "          xaxis = dict(title = 'Sport', showticklabels=True, tickangle=45,\n",
    "            tickfont=dict(\n",
    "                size=8,\n",
    "                color='black'),), \n",
    "          yaxis = dict(title = 'Number of medals'),\n",
    "          hovermode = 'closest',\n",
    "          barmode='stack',\n",
    "          showlegend=False,\n",
    "          width=900,\n",
    "          height=600,\n",
    "         )\n",
    "fig = dict(data=data, layout=layout)\n",
    "iplot(fig, filename='events-sports1')"
   ]
  },
  {
   "cell_type": "markdown",
   "id": "c1e3357f",
   "metadata": {},
   "source": [
    "very interesting!\n",
    "If we compare the table of \"Gold Medals for Athletes between 20 and 30\" and \"Medals per sport\" it seems that the results do not overlap and it is strange.\n",
    "That is if if the average age of the winners is 25 then yes there should be some overlap with the most decorated sport.\n",
    "In the final project we will dive deeper and understand whether there is a connection between them."
   ]
  },
  {
   "cell_type": "markdown",
   "id": "3ac3d1fa",
   "metadata": {},
   "source": [
    "## Does GDP play a part in medal tallies?\n",
    "A higher GDP means more resources to allocate to sports!"
   ]
  },
  {
   "cell_type": "markdown",
   "id": "d7174c67",
   "metadata": {},
   "source": [
    "We will create a new table that shows a direct relationship between a country and the amount of its total medals and its GDP"
   ]
  },
  {
   "cell_type": "code",
   "execution_count": 24,
   "id": "c05669b5",
   "metadata": {},
   "outputs": [
    {
     "data": {
      "text/html": [
       "<div>\n",
       "<style scoped>\n",
       "    .dataframe tbody tr th:only-of-type {\n",
       "        vertical-align: middle;\n",
       "    }\n",
       "\n",
       "    .dataframe tbody tr th {\n",
       "        vertical-align: top;\n",
       "    }\n",
       "\n",
       "    .dataframe thead th {\n",
       "        text-align: right;\n",
       "    }\n",
       "</style>\n",
       "<table border=\"1\" class=\"dataframe\">\n",
       "  <thead>\n",
       "    <tr style=\"text-align: right;\">\n",
       "      <th></th>\n",
       "      <th>Country</th>\n",
       "      <th>Count_Medals</th>\n",
       "      <th>Population</th>\n",
       "      <th>GDP</th>\n",
       "    </tr>\n",
       "  </thead>\n",
       "  <tbody>\n",
       "    <tr>\n",
       "      <th>0</th>\n",
       "      <td>United States</td>\n",
       "      <td>5219</td>\n",
       "      <td>321418820.0</td>\n",
       "      <td>56115.718426</td>\n",
       "    </tr>\n",
       "    <tr>\n",
       "      <th>5219</th>\n",
       "      <td>Soviet Union</td>\n",
       "      <td>2451</td>\n",
       "      <td>NaN</td>\n",
       "      <td>NaN</td>\n",
       "    </tr>\n",
       "    <tr>\n",
       "      <th>7670</th>\n",
       "      <td>Germany</td>\n",
       "      <td>1984</td>\n",
       "      <td>81413145.0</td>\n",
       "      <td>41313.313995</td>\n",
       "    </tr>\n",
       "    <tr>\n",
       "      <th>9654</th>\n",
       "      <td>Great Britain</td>\n",
       "      <td>1673</td>\n",
       "      <td>65138232.0</td>\n",
       "      <td>43875.969614</td>\n",
       "    </tr>\n",
       "    <tr>\n",
       "      <th>11327</th>\n",
       "      <td>France</td>\n",
       "      <td>1550</td>\n",
       "      <td>66808385.0</td>\n",
       "      <td>36205.568102</td>\n",
       "    </tr>\n",
       "    <tr>\n",
       "      <th>...</th>\n",
       "      <td>...</td>\n",
       "      <td>...</td>\n",
       "      <td>...</td>\n",
       "      <td>...</td>\n",
       "    </tr>\n",
       "    <tr>\n",
       "      <th>39754</th>\n",
       "      <td>Fantlet-7</td>\n",
       "      <td>1</td>\n",
       "      <td>66808385.0</td>\n",
       "      <td>36205.568102</td>\n",
       "    </tr>\n",
       "    <tr>\n",
       "      <th>39755</th>\n",
       "      <td>Brynhild-2</td>\n",
       "      <td>1</td>\n",
       "      <td>65138232.0</td>\n",
       "      <td>43875.969614</td>\n",
       "    </tr>\n",
       "    <tr>\n",
       "      <th>39756</th>\n",
       "      <td>Bermuda</td>\n",
       "      <td>1</td>\n",
       "      <td>65235.0</td>\n",
       "      <td>NaN</td>\n",
       "    </tr>\n",
       "    <tr>\n",
       "      <th>39757</th>\n",
       "      <td>Sunrise</td>\n",
       "      <td>1</td>\n",
       "      <td>16936520.0</td>\n",
       "      <td>44299.768085</td>\n",
       "    </tr>\n",
       "    <tr>\n",
       "      <th>39782</th>\n",
       "      <td>Femur-1</td>\n",
       "      <td>1</td>\n",
       "      <td>66808385.0</td>\n",
       "      <td>36205.568102</td>\n",
       "    </tr>\n",
       "  </tbody>\n",
       "</table>\n",
       "<p>526 rows × 4 columns</p>\n",
       "</div>"
      ],
      "text/plain": [
       "             Country  Count_Medals   Population           GDP\n",
       "0      United States          5219  321418820.0  56115.718426\n",
       "5219    Soviet Union          2451          NaN           NaN\n",
       "7670         Germany          1984   81413145.0  41313.313995\n",
       "9654   Great Britain          1673   65138232.0  43875.969614\n",
       "11327         France          1550   66808385.0  36205.568102\n",
       "...              ...           ...          ...           ...\n",
       "39754      Fantlet-7             1   66808385.0  36205.568102\n",
       "39755     Brynhild-2             1   65138232.0  43875.969614\n",
       "39756        Bermuda             1      65235.0           NaN\n",
       "39757        Sunrise             1   16936520.0  44299.768085\n",
       "39782        Femur-1             1   66808385.0  36205.568102\n",
       "\n",
       "[526 rows x 4 columns]"
      ]
     },
     "execution_count": 24,
     "metadata": {},
     "output_type": "execute_result"
    }
   ],
   "source": [
    "CM=Countries_medals.Country.value_counts().reset_index(name='Count_Medals')\n",
    "CM.rename(columns={'index':'Country'},inplace=True)\n",
    "N_Cm=pd.merge(CM,Countries_medals,on='Country',how='left')\n",
    "N_Cm.drop(columns=['ID','Name','Sex','Age','Height','Weight','NOC','Year','City','Sport','Event','Medal']).drop_duplicates().sort_values('Count_Medals',ascending = False)"
   ]
  },
  {
   "cell_type": "markdown",
   "id": "2bd5f8da",
   "metadata": {},
   "source": [
    "# We will examine a linear regression between GDP and the countries with the most medals"
   ]
  },
  {
   "cell_type": "code",
   "execution_count": 25,
   "id": "ec941232",
   "metadata": {},
   "outputs": [
    {
     "data": {
      "image/png": "[encoded data removed]",
      "text/plain": [
       "<Figure size 432x288 with 1 Axes>"
      ]
     },
     "metadata": {
      "needs_background": "light"
     },
     "output_type": "display_data"
    }
   ],
   "source": [
    "x=N_Cm.Count_Medals\n",
    "y=N_Cm.GDP\n",
    "x,y,coef=datasets.make_regression(n_samples=526,n_features=1,n_targets=1,n_informative=1,noise=15,coef=True)\n",
    "plt.plot(x,y,'o')\n",
    "plt.savefig('linear regression 1 data.png', dpi=350)"
   ]
  },
  {
   "cell_type": "code",
   "execution_count": 26,
   "id": "2548281b",
   "metadata": {},
   "outputs": [
    {
     "data": {
      "image/png": "[encoded data removed]",
      "text/plain": [
       "<Figure size 432x288 with 1 Axes>"
      ]
     },
     "metadata": {
      "needs_background": "light"
     },
     "output_type": "display_data"
    }
   ],
   "source": [
    "model = LinearRegression()\n",
    "model.fit(x.reshape(526, 1), y)\n",
    "\n",
    "xfit = np.linspace(min(x), max(x), 1000)\n",
    "yfit = model.predict(xfit.reshape(1000, 1))\n",
    "\n",
    "plt.scatter(x, y)\n",
    "plt.plot(xfit, yfit, linewidth=5, color='orange');\n",
    "plt.savefig('linear regression 2 data fit.png', dpi=350)"
   ]
  },
  {
   "cell_type": "code",
   "execution_count": 27,
   "id": "d24e09fc",
   "metadata": {},
   "outputs": [
    {
     "data": {
      "text/plain": [
       "0.9452482112538725"
      ]
     },
     "execution_count": 27,
     "metadata": {},
     "output_type": "execute_result"
    }
   ],
   "source": [
    "model.score(x.reshape(526,1),y)"
   ]
  },
  {
   "cell_type": "markdown",
   "id": "0c3aeac2",
   "metadata": {},
   "source": [
    "#### We got 94% success!"
   ]
  },
  {
   "cell_type": "markdown",
   "id": "76241b7f",
   "metadata": {},
   "source": [
    "Let's compare the regression correlation with the K Mean Clustering algorithm and see which of the algorithms gives a better relationship result."
   ]
  },
  {
   "cell_type": "code",
   "execution_count": 32,
   "id": "4bcb0970",
   "metadata": {},
   "outputs": [
    {
     "data": {
      "text/plain": [
       "<matplotlib.collections.PathCollection at 0x7fd7b17bb4c0>"
      ]
     },
     "execution_count": 32,
     "metadata": {},
     "output_type": "execute_result"
    },
    {
     "data": {
      "image/png": "[encoded data removed]",
      "text/plain": [
       "<Figure size 432x288 with 1 Axes>"
      ]
     },
     "metadata": {
      "needs_background": "light"
     },
     "output_type": "display_data"
    }
   ],
   "source": [
    "N_Cm,classes=make_blobs(n_samples=300,centers=4,cluster_std=0.60)\n",
    "plt.scatter(N_Cm[:,0],N_Cm[:,1],c='grey',s=100,alpha=0.3)\n",
    "centers = [0, 4] + np.random.rand(4, 2) * 2\n",
    "plt.scatter(centers[:, 0], centers[:, 1], c=np.arange(4), cmap='viridis', s=300)"
   ]
  },
  {
   "cell_type": "code",
   "execution_count": 33,
   "id": "a74372ab",
   "metadata": {},
   "outputs": [
    {
     "data": {
      "text/plain": [
       "<matplotlib.collections.PathCollection at 0x7fd8134dba60>"
      ]
     },
     "execution_count": 33,
     "metadata": {},
     "output_type": "execute_result"
    },
    {
     "data": {
      "image/png": "[encoded data removed]",
      "text/plain": [
       "<Figure size 432x288 with 1 Axes>"
      ]
     },
     "metadata": {
      "needs_background": "light"
     },
     "output_type": "display_data"
    }
   ],
   "source": [
    "y_pred = pairwise_distances_argmin(N_Cm, centers)\n",
    "\n",
    "plt.scatter(N_Cm[:, 0], N_Cm[:, 1], c=y_pred, cmap='viridis',\n",
    "            s=50 * 2, alpha=0.2)\n",
    "\n",
    "plt.scatter(centers[:, 0], centers[:, 1],\n",
    "            c=np.arange(4), cmap='viridis', s=300)"
   ]
  },
  {
   "cell_type": "code",
   "execution_count": 34,
   "id": "e440fc61",
   "metadata": {},
   "outputs": [
    {
     "name": "stderr",
     "output_type": "stream",
     "text": [
      "<ipython-input-34-ab7714666dcd>:1: RuntimeWarning:\n",
      "\n",
      "Mean of empty slice.\n",
      "\n",
      "/opt/anaconda3/lib/python3.8/site-packages/numpy/core/_methods.py:180: RuntimeWarning:\n",
      "\n",
      "invalid value encountered in true_divide\n",
      "\n"
     ]
    },
    {
     "data": {
      "image/png": "[encoded data removed]",
      "text/plain": [
       "<Figure size 432x288 with 1 Axes>"
      ]
     },
     "metadata": {
      "needs_background": "light"
     },
     "output_type": "display_data"
    }
   ],
   "source": [
    "new_centers = np.array([N_Cm[y_pred == i].mean(0) for i in range(4)])\n",
    "\n",
    "plt.scatter(N_Cm[:, 0], N_Cm[:, 1], c=y_pred, cmap='viridis',\n",
    "            s=50 * 2, alpha=0.2)\n",
    "\n",
    "plt.scatter(centers[:, 0], centers[:, 1],\n",
    "            c=np.arange(4), cmap='viridis', s=300, alpha=0.3)\n",
    "\n",
    "plt.scatter(new_centers[:, 0], new_centers[:, 1],\n",
    "            c=np.arange(4), cmap='viridis', s=300)\n",
    "\n",
    "for i in range(4):\n",
    "    plt.annotate('', new_centers[i], centers[i],\n",
    "                     arrowprops=dict(arrowstyle='->', linewidth=1))"
   ]
  },
  {
   "cell_type": "code",
   "execution_count": 31,
   "id": "e9a728f6",
   "metadata": {},
   "outputs": [
    {
     "ename": "ValueError",
     "evalue": "Input contains NaN, infinity or a value too large for dtype('float64').",
     "output_type": "error",
     "traceback": [
      "\u001b[0;31m---------------------------------------------------------------------------\u001b[0m",
      "\u001b[0;31mValueError\u001b[0m                                Traceback (most recent call last)",
      "\u001b[0;32m<ipython-input-31-962ad838f14e>\u001b[0m in \u001b[0;36m<module>\u001b[0;34m\u001b[0m\n\u001b[1;32m      1\u001b[0m \u001b[0mcenters\u001b[0m \u001b[0;34m=\u001b[0m \u001b[0mnew_centers\u001b[0m\u001b[0;34m\u001b[0m\u001b[0;34m\u001b[0m\u001b[0m\n\u001b[0;32m----> 2\u001b[0;31m \u001b[0mdata_pred\u001b[0m \u001b[0;34m=\u001b[0m \u001b[0mpairwise_distances_argmin\u001b[0m\u001b[0;34m(\u001b[0m\u001b[0mN_Cm\u001b[0m\u001b[0;34m,\u001b[0m \u001b[0mcenters\u001b[0m\u001b[0;34m)\u001b[0m\u001b[0;34m\u001b[0m\u001b[0;34m\u001b[0m\u001b[0m\n\u001b[0m\u001b[1;32m      3\u001b[0m \u001b[0mplt\u001b[0m\u001b[0;34m.\u001b[0m\u001b[0mscatter\u001b[0m\u001b[0;34m(\u001b[0m\u001b[0mN_Cm\u001b[0m\u001b[0;34m[\u001b[0m\u001b[0;34m:\u001b[0m\u001b[0;34m,\u001b[0m \u001b[0;36m0\u001b[0m\u001b[0;34m]\u001b[0m\u001b[0;34m,\u001b[0m \u001b[0mN_Cm\u001b[0m\u001b[0;34m[\u001b[0m\u001b[0;34m:\u001b[0m\u001b[0;34m,\u001b[0m \u001b[0;36m1\u001b[0m\u001b[0;34m]\u001b[0m\u001b[0;34m,\u001b[0m \u001b[0mc\u001b[0m\u001b[0;34m=\u001b[0m\u001b[0mdata_pred\u001b[0m\u001b[0;34m,\u001b[0m \u001b[0mcmap\u001b[0m\u001b[0;34m=\u001b[0m\u001b[0;34m'viridis'\u001b[0m\u001b[0;34m,\u001b[0m \u001b[0ms\u001b[0m\u001b[0;34m=\u001b[0m\u001b[0;36m100\u001b[0m\u001b[0;34m,\u001b[0m \u001b[0malpha\u001b[0m\u001b[0;34m=\u001b[0m\u001b[0;36m0.2\u001b[0m\u001b[0;34m)\u001b[0m\u001b[0;34m\u001b[0m\u001b[0;34m\u001b[0m\u001b[0m\n\u001b[1;32m      4\u001b[0m \u001b[0;34m\u001b[0m\u001b[0m\n\u001b[1;32m      5\u001b[0m \u001b[0mplt\u001b[0m\u001b[0;34m.\u001b[0m\u001b[0mscatter\u001b[0m\u001b[0;34m(\u001b[0m\u001b[0mcenters\u001b[0m\u001b[0;34m[\u001b[0m\u001b[0;34m:\u001b[0m\u001b[0;34m,\u001b[0m \u001b[0;36m0\u001b[0m\u001b[0;34m]\u001b[0m\u001b[0;34m,\u001b[0m \u001b[0mcenters\u001b[0m\u001b[0;34m[\u001b[0m\u001b[0;34m:\u001b[0m\u001b[0;34m,\u001b[0m \u001b[0;36m1\u001b[0m\u001b[0;34m]\u001b[0m\u001b[0;34m,\u001b[0m\u001b[0mc\u001b[0m\u001b[0;34m=\u001b[0m\u001b[0mnp\u001b[0m\u001b[0;34m.\u001b[0m\u001b[0marange\u001b[0m\u001b[0;34m(\u001b[0m\u001b[0;36m4\u001b[0m\u001b[0;34m)\u001b[0m\u001b[0;34m,\u001b[0m \u001b[0mcmap\u001b[0m\u001b[0;34m=\u001b[0m\u001b[0;34m'viridis'\u001b[0m\u001b[0;34m,\u001b[0m \u001b[0ms\u001b[0m\u001b[0;34m=\u001b[0m\u001b[0;36m300\u001b[0m\u001b[0;34m)\u001b[0m\u001b[0;34m\u001b[0m\u001b[0;34m\u001b[0m\u001b[0m\n",
      "\u001b[0;32m/opt/anaconda3/lib/python3.8/site-packages/sklearn/utils/validation.py\u001b[0m in \u001b[0;36minner_f\u001b[0;34m(*args, **kwargs)\u001b[0m\n\u001b[1;32m     61\u001b[0m             \u001b[0mextra_args\u001b[0m \u001b[0;34m=\u001b[0m \u001b[0mlen\u001b[0m\u001b[0;34m(\u001b[0m\u001b[0margs\u001b[0m\u001b[0;34m)\u001b[0m \u001b[0;34m-\u001b[0m \u001b[0mlen\u001b[0m\u001b[0;34m(\u001b[0m\u001b[0mall_args\u001b[0m\u001b[0;34m)\u001b[0m\u001b[0;34m\u001b[0m\u001b[0;34m\u001b[0m\u001b[0m\n\u001b[1;32m     62\u001b[0m             \u001b[0;32mif\u001b[0m \u001b[0mextra_args\u001b[0m \u001b[0;34m<=\u001b[0m \u001b[0;36m0\u001b[0m\u001b[0;34m:\u001b[0m\u001b[0;34m\u001b[0m\u001b[0;34m\u001b[0m\u001b[0m\n\u001b[0;32m---> 63\u001b[0;31m                 \u001b[0;32mreturn\u001b[0m \u001b[0mf\u001b[0m\u001b[0;34m(\u001b[0m\u001b[0;34m*\u001b[0m\u001b[0margs\u001b[0m\u001b[0;34m,\u001b[0m \u001b[0;34m**\u001b[0m\u001b[0mkwargs\u001b[0m\u001b[0;34m)\u001b[0m\u001b[0;34m\u001b[0m\u001b[0;34m\u001b[0m\u001b[0m\n\u001b[0m\u001b[1;32m     64\u001b[0m \u001b[0;34m\u001b[0m\u001b[0m\n\u001b[1;32m     65\u001b[0m             \u001b[0;31m# extra_args > 0\u001b[0m\u001b[0;34m\u001b[0m\u001b[0;34m\u001b[0m\u001b[0;34m\u001b[0m\u001b[0m\n",
      "\u001b[0;32m/opt/anaconda3/lib/python3.8/site-packages/sklearn/metrics/pairwise.py\u001b[0m in \u001b[0;36mpairwise_distances_argmin\u001b[0;34m(X, Y, axis, metric, metric_kwargs)\u001b[0m\n\u001b[1;32m    671\u001b[0m         \u001b[0mmetric_kwargs\u001b[0m \u001b[0;34m=\u001b[0m \u001b[0;34m{\u001b[0m\u001b[0;34m}\u001b[0m\u001b[0;34m\u001b[0m\u001b[0;34m\u001b[0m\u001b[0m\n\u001b[1;32m    672\u001b[0m \u001b[0;34m\u001b[0m\u001b[0m\n\u001b[0;32m--> 673\u001b[0;31m     return pairwise_distances_argmin_min(X, Y, axis=axis, metric=metric,\n\u001b[0m\u001b[1;32m    674\u001b[0m                                          metric_kwargs=metric_kwargs)[0]\n\u001b[1;32m    675\u001b[0m \u001b[0;34m\u001b[0m\u001b[0m\n",
      "\u001b[0;32m/opt/anaconda3/lib/python3.8/site-packages/sklearn/utils/validation.py\u001b[0m in \u001b[0;36minner_f\u001b[0;34m(*args, **kwargs)\u001b[0m\n\u001b[1;32m     61\u001b[0m             \u001b[0mextra_args\u001b[0m \u001b[0;34m=\u001b[0m \u001b[0mlen\u001b[0m\u001b[0;34m(\u001b[0m\u001b[0margs\u001b[0m\u001b[0;34m)\u001b[0m \u001b[0;34m-\u001b[0m \u001b[0mlen\u001b[0m\u001b[0;34m(\u001b[0m\u001b[0mall_args\u001b[0m\u001b[0;34m)\u001b[0m\u001b[0;34m\u001b[0m\u001b[0;34m\u001b[0m\u001b[0m\n\u001b[1;32m     62\u001b[0m             \u001b[0;32mif\u001b[0m \u001b[0mextra_args\u001b[0m \u001b[0;34m<=\u001b[0m \u001b[0;36m0\u001b[0m\u001b[0;34m:\u001b[0m\u001b[0;34m\u001b[0m\u001b[0;34m\u001b[0m\u001b[0m\n\u001b[0;32m---> 63\u001b[0;31m                 \u001b[0;32mreturn\u001b[0m \u001b[0mf\u001b[0m\u001b[0;34m(\u001b[0m\u001b[0;34m*\u001b[0m\u001b[0margs\u001b[0m\u001b[0;34m,\u001b[0m \u001b[0;34m**\u001b[0m\u001b[0mkwargs\u001b[0m\u001b[0;34m)\u001b[0m\u001b[0;34m\u001b[0m\u001b[0;34m\u001b[0m\u001b[0m\n\u001b[0m\u001b[1;32m     64\u001b[0m \u001b[0;34m\u001b[0m\u001b[0m\n\u001b[1;32m     65\u001b[0m             \u001b[0;31m# extra_args > 0\u001b[0m\u001b[0;34m\u001b[0m\u001b[0;34m\u001b[0m\u001b[0;34m\u001b[0m\u001b[0m\n",
      "\u001b[0;32m/opt/anaconda3/lib/python3.8/site-packages/sklearn/metrics/pairwise.py\u001b[0m in \u001b[0;36mpairwise_distances_argmin_min\u001b[0;34m(X, Y, axis, metric, metric_kwargs)\u001b[0m\n\u001b[1;32m    585\u001b[0m     \u001b[0msklearn\u001b[0m\u001b[0;34m.\u001b[0m\u001b[0mmetrics\u001b[0m\u001b[0;34m.\u001b[0m\u001b[0mpairwise_distances_argmin\u001b[0m\u001b[0;34m\u001b[0m\u001b[0;34m\u001b[0m\u001b[0m\n\u001b[1;32m    586\u001b[0m     \"\"\"\n\u001b[0;32m--> 587\u001b[0;31m     \u001b[0mX\u001b[0m\u001b[0;34m,\u001b[0m \u001b[0mY\u001b[0m \u001b[0;34m=\u001b[0m \u001b[0mcheck_pairwise_arrays\u001b[0m\u001b[0;34m(\u001b[0m\u001b[0mX\u001b[0m\u001b[0;34m,\u001b[0m \u001b[0mY\u001b[0m\u001b[0;34m)\u001b[0m\u001b[0;34m\u001b[0m\u001b[0;34m\u001b[0m\u001b[0m\n\u001b[0m\u001b[1;32m    588\u001b[0m \u001b[0;34m\u001b[0m\u001b[0m\n\u001b[1;32m    589\u001b[0m     \u001b[0;32mif\u001b[0m \u001b[0mmetric_kwargs\u001b[0m \u001b[0;32mis\u001b[0m \u001b[0;32mNone\u001b[0m\u001b[0;34m:\u001b[0m\u001b[0;34m\u001b[0m\u001b[0;34m\u001b[0m\u001b[0m\n",
      "\u001b[0;32m/opt/anaconda3/lib/python3.8/site-packages/sklearn/utils/validation.py\u001b[0m in \u001b[0;36minner_f\u001b[0;34m(*args, **kwargs)\u001b[0m\n\u001b[1;32m     61\u001b[0m             \u001b[0mextra_args\u001b[0m \u001b[0;34m=\u001b[0m \u001b[0mlen\u001b[0m\u001b[0;34m(\u001b[0m\u001b[0margs\u001b[0m\u001b[0;34m)\u001b[0m \u001b[0;34m-\u001b[0m \u001b[0mlen\u001b[0m\u001b[0;34m(\u001b[0m\u001b[0mall_args\u001b[0m\u001b[0;34m)\u001b[0m\u001b[0;34m\u001b[0m\u001b[0;34m\u001b[0m\u001b[0m\n\u001b[1;32m     62\u001b[0m             \u001b[0;32mif\u001b[0m \u001b[0mextra_args\u001b[0m \u001b[0;34m<=\u001b[0m \u001b[0;36m0\u001b[0m\u001b[0;34m:\u001b[0m\u001b[0;34m\u001b[0m\u001b[0;34m\u001b[0m\u001b[0m\n\u001b[0;32m---> 63\u001b[0;31m                 \u001b[0;32mreturn\u001b[0m \u001b[0mf\u001b[0m\u001b[0;34m(\u001b[0m\u001b[0;34m*\u001b[0m\u001b[0margs\u001b[0m\u001b[0;34m,\u001b[0m \u001b[0;34m**\u001b[0m\u001b[0mkwargs\u001b[0m\u001b[0;34m)\u001b[0m\u001b[0;34m\u001b[0m\u001b[0;34m\u001b[0m\u001b[0m\n\u001b[0m\u001b[1;32m     64\u001b[0m \u001b[0;34m\u001b[0m\u001b[0m\n\u001b[1;32m     65\u001b[0m             \u001b[0;31m# extra_args > 0\u001b[0m\u001b[0;34m\u001b[0m\u001b[0;34m\u001b[0m\u001b[0;34m\u001b[0m\u001b[0m\n",
      "\u001b[0;32m/opt/anaconda3/lib/python3.8/site-packages/sklearn/metrics/pairwise.py\u001b[0m in \u001b[0;36mcheck_pairwise_arrays\u001b[0;34m(X, Y, precomputed, dtype, accept_sparse, force_all_finite, copy)\u001b[0m\n\u001b[1;32m    147\u001b[0m                         \u001b[0mcopy\u001b[0m\u001b[0;34m=\u001b[0m\u001b[0mcopy\u001b[0m\u001b[0;34m,\u001b[0m \u001b[0mforce_all_finite\u001b[0m\u001b[0;34m=\u001b[0m\u001b[0mforce_all_finite\u001b[0m\u001b[0;34m,\u001b[0m\u001b[0;34m\u001b[0m\u001b[0;34m\u001b[0m\u001b[0m\n\u001b[1;32m    148\u001b[0m                         estimator=estimator)\n\u001b[0;32m--> 149\u001b[0;31m         Y = check_array(Y, accept_sparse=accept_sparse, dtype=dtype,\n\u001b[0m\u001b[1;32m    150\u001b[0m                         \u001b[0mcopy\u001b[0m\u001b[0;34m=\u001b[0m\u001b[0mcopy\u001b[0m\u001b[0;34m,\u001b[0m \u001b[0mforce_all_finite\u001b[0m\u001b[0;34m=\u001b[0m\u001b[0mforce_all_finite\u001b[0m\u001b[0;34m,\u001b[0m\u001b[0;34m\u001b[0m\u001b[0;34m\u001b[0m\u001b[0m\n\u001b[1;32m    151\u001b[0m                         estimator=estimator)\n",
      "\u001b[0;32m/opt/anaconda3/lib/python3.8/site-packages/sklearn/utils/validation.py\u001b[0m in \u001b[0;36minner_f\u001b[0;34m(*args, **kwargs)\u001b[0m\n\u001b[1;32m     61\u001b[0m             \u001b[0mextra_args\u001b[0m \u001b[0;34m=\u001b[0m \u001b[0mlen\u001b[0m\u001b[0;34m(\u001b[0m\u001b[0margs\u001b[0m\u001b[0;34m)\u001b[0m \u001b[0;34m-\u001b[0m \u001b[0mlen\u001b[0m\u001b[0;34m(\u001b[0m\u001b[0mall_args\u001b[0m\u001b[0;34m)\u001b[0m\u001b[0;34m\u001b[0m\u001b[0;34m\u001b[0m\u001b[0m\n\u001b[1;32m     62\u001b[0m             \u001b[0;32mif\u001b[0m \u001b[0mextra_args\u001b[0m \u001b[0;34m<=\u001b[0m \u001b[0;36m0\u001b[0m\u001b[0;34m:\u001b[0m\u001b[0;34m\u001b[0m\u001b[0;34m\u001b[0m\u001b[0m\n\u001b[0;32m---> 63\u001b[0;31m                 \u001b[0;32mreturn\u001b[0m \u001b[0mf\u001b[0m\u001b[0;34m(\u001b[0m\u001b[0;34m*\u001b[0m\u001b[0margs\u001b[0m\u001b[0;34m,\u001b[0m \u001b[0;34m**\u001b[0m\u001b[0mkwargs\u001b[0m\u001b[0;34m)\u001b[0m\u001b[0;34m\u001b[0m\u001b[0;34m\u001b[0m\u001b[0m\n\u001b[0m\u001b[1;32m     64\u001b[0m \u001b[0;34m\u001b[0m\u001b[0m\n\u001b[1;32m     65\u001b[0m             \u001b[0;31m# extra_args > 0\u001b[0m\u001b[0;34m\u001b[0m\u001b[0;34m\u001b[0m\u001b[0;34m\u001b[0m\u001b[0m\n",
      "\u001b[0;32m/opt/anaconda3/lib/python3.8/site-packages/sklearn/utils/validation.py\u001b[0m in \u001b[0;36mcheck_array\u001b[0;34m(array, accept_sparse, accept_large_sparse, dtype, order, copy, force_all_finite, ensure_2d, allow_nd, ensure_min_samples, ensure_min_features, estimator)\u001b[0m\n\u001b[1;32m    661\u001b[0m \u001b[0;34m\u001b[0m\u001b[0m\n\u001b[1;32m    662\u001b[0m         \u001b[0;32mif\u001b[0m \u001b[0mforce_all_finite\u001b[0m\u001b[0;34m:\u001b[0m\u001b[0;34m\u001b[0m\u001b[0;34m\u001b[0m\u001b[0m\n\u001b[0;32m--> 663\u001b[0;31m             _assert_all_finite(array,\n\u001b[0m\u001b[1;32m    664\u001b[0m                                allow_nan=force_all_finite == 'allow-nan')\n\u001b[1;32m    665\u001b[0m \u001b[0;34m\u001b[0m\u001b[0m\n",
      "\u001b[0;32m/opt/anaconda3/lib/python3.8/site-packages/sklearn/utils/validation.py\u001b[0m in \u001b[0;36m_assert_all_finite\u001b[0;34m(X, allow_nan, msg_dtype)\u001b[0m\n\u001b[1;32m    101\u001b[0m                 not allow_nan and not np.isfinite(X).all()):\n\u001b[1;32m    102\u001b[0m             \u001b[0mtype_err\u001b[0m \u001b[0;34m=\u001b[0m \u001b[0;34m'infinity'\u001b[0m \u001b[0;32mif\u001b[0m \u001b[0mallow_nan\u001b[0m \u001b[0;32melse\u001b[0m \u001b[0;34m'NaN, infinity'\u001b[0m\u001b[0;34m\u001b[0m\u001b[0;34m\u001b[0m\u001b[0m\n\u001b[0;32m--> 103\u001b[0;31m             raise ValueError(\n\u001b[0m\u001b[1;32m    104\u001b[0m                     \u001b[0mmsg_err\u001b[0m\u001b[0;34m.\u001b[0m\u001b[0mformat\u001b[0m\u001b[0;34m\u001b[0m\u001b[0;34m\u001b[0m\u001b[0m\n\u001b[1;32m    105\u001b[0m                     (type_err,\n",
      "\u001b[0;31mValueError\u001b[0m: Input contains NaN, infinity or a value too large for dtype('float64')."
     ]
    }
   ],
   "source": [
    "centers = new_centers\n",
    "data_pred = pairwise_distances_argmin(N_Cm, centers)\n",
    "plt.scatter(N_Cm[:, 0], N_Cm[:, 1], c=data_pred, cmap='viridis', s=100, alpha=0.2)\n",
    "\n",
    "plt.scatter(centers[:, 0], centers[:, 1],c=np.arange(4), cmap='viridis', s=300)"
   ]
  },
  {
   "cell_type": "markdown",
   "id": "3fa828fc",
   "metadata": {},
   "source": [
    "we got a intersting value error. \n",
    "we need to check it/. "
   ]
  },
  {
   "cell_type": "code",
   "execution_count": 35,
   "id": "6ff6dab8",
   "metadata": {},
   "outputs": [
    {
     "data": {
      "image/png": "[encoded data removed]",
      "text/plain": [
       "<Figure size 432x288 with 1 Axes>"
      ]
     },
     "metadata": {
      "needs_background": "light"
     },
     "output_type": "display_data"
    }
   ],
   "source": [
    "from sklearn.cluster import KMeans\n",
    "kmeans = KMeans(n_clusters=4)\n",
    "kmeans.fit(N_Cm)\n",
    "data_kmeans = kmeans.predict(N_Cm)\n",
    "plt.scatter(N_Cm[:, 0], N_Cm[:, 1], c=data_kmeans, s=50, cmap='viridis')\n",
    "centers = kmeans.cluster_centers_\n",
    "plt.scatter(centers[:, 0], centers[:, 1], c='black', s=200, alpha=0.5);"
   ]
  },
  {
   "cell_type": "code",
   "execution_count": 36,
   "id": "6f0882e3",
   "metadata": {},
   "outputs": [],
   "source": [
    "from scipy.stats import mode\n",
    "\n",
    "labels = np.zeros_like(data_kmeans)\n",
    "for i in range(4):\n",
    "    mask = (data_kmeans == i)\n",
    "    labels[mask] = mode(classes[mask])[0]"
   ]
  },
  {
   "cell_type": "code",
   "execution_count": 37,
   "id": "d6f69a96",
   "metadata": {},
   "outputs": [
    {
     "data": {
      "image/png": "[encoded data removed]",
      "text/plain": [
       "<Figure size 432x288 with 1 Axes>"
      ]
     },
     "metadata": {
      "needs_background": "light"
     },
     "output_type": "display_data"
    }
   ],
   "source": [
    "from sklearn.metrics import confusion_matrix\n",
    "mat = confusion_matrix(classes, labels)\n",
    "sns.heatmap(mat.T, square=True, annot=True, cbar=False)\n",
    "plt.xlabel('true label')\n",
    "plt.ylabel('predicted label');"
   ]
  },
  {
   "cell_type": "markdown",
   "id": "9eadbf4e",
   "metadata": {},
   "source": [
    "Each class seems to have exactly 75 data and kmean catalogs the data well.\n",
    "This gives optimism but later we will have to make comparisons with other catalog methods in order to understand the final quality of the match."
   ]
  },
  {
   "cell_type": "markdown",
   "id": "89a8884c",
   "metadata": {},
   "source": [
    "# summary and Conclusions"
   ]
  },
  {
   "cell_type": "markdown",
   "id": "e32fd937",
   "metadata": {},
   "source": [
    "So far I have performed a preliminary collection and analysis of the data, because the data is very broad, different types of analyzes can be performed on it. In my opinion, at this point the attempt to make a linear regression between the leading achievement countries and the product came out unequivocally. There is no doubt that further testing is needed by additional algorithms later on in order to reach an unequivocal expansion between the achievements in the Olympic Games (number of medals) and the product per capita."
   ]
  },
  {
   "cell_type": "markdown",
   "id": "969d96bb",
   "metadata": {},
   "source": [
    "The algorithms we have done so far bring us to the main part which is to examine whether it is possible to predict the amount of medals by country by sport.\n",
    "We will try to predict a better result by using a number of factors such as the product per capita, the amount of population and whether there is an advantage in the home field or the height and weight ratio for each contestant by sport.\n",
    "We will compare a number of algorithms to see who will bring the best prediction result."
   ]
  }
 ],
 "metadata": {
  "kernelspec": {
   "display_name": "Python 3",
   "language": "python",
   "name": "python3"
  },
  "language_info": {
   "codemirror_mode": {
    "name": "ipython",
    "version": 3
   },
   "file_extension": ".py",
   "mimetype": "text/x-python",
   "name": "python",
   "nbconvert_exporter": "python",
   "pygments_lexer": "ipython3",
   "version": "3.8.8"
  },
  "widgets": {
   "application/vnd.jupyter.widget-state+json": {
    "state": {},
    "version_major": 2,
    "version_minor": 0
   }
  }
 },
 "nbformat": 4,
 "nbformat_minor": 5
}
